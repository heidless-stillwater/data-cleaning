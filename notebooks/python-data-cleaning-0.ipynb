{
 "cells": [
  {
   "cell_type": "markdown",
   "id": "19ef0a57-395a-40a5-ae23-064448fac911",
   "metadata": {},
   "source": [
    "# Pythonic Data Cleaning With pandas and NumPy\n"
   ]
  },
  {
   "cell_type": "markdown",
   "id": "a9e7251e-b8b7-4efc-8890-bc22f69529e8",
   "metadata": {},
   "source": [
    "## prep"
   ]
  },
  {
   "cell_type": "code",
   "execution_count": 209,
   "id": "da1fbb7d-8e4f-4232-9914-ac58b1131745",
   "metadata": {},
   "outputs": [],
   "source": [
    "from google.cloud import storage\n",
    "import numpy as np\n",
    "import re\n",
    "import pandas as pd\n",
    "import matplotlib.pyplot as plt\n",
    "%matplotlib inline\n",
    "import seaborn as sns\n",
    "from matplotlib import cm\n",
    "from datetime import datetime\n",
    "import glob\n",
    "import os\n",
    "from io import StringIO\n",
    "from io import BytesIO\n",
    "import json\n",
    "import pickle\n",
    "import six\n",
    "import charset_normalizer\n",
    "from wordcloud import WordCloud \n",
    "from typing import List\n",
    "\n",
    "\n",
    "sns.set()\n",
    "pd.set_option('display.max_columns', None)\n",
    "pd.set_option('display.max_rows', None)\n",
    "pd.options.mode.chained_assignment = None"
   ]
  },
  {
   "cell_type": "markdown",
   "id": "26124d94-854d-4430-9a82-65014c44fabc",
   "metadata": {},
   "source": [
    "### Dropping Columns in a DataFrame\n"
   ]
  },
  {
   "cell_type": "markdown",
   "id": "6ca9a06f-8b42-48da-8f17-bf42f811ed53",
   "metadata": {},
   "source": [
    "Often, you’ll find that not all the categories of data in a dataset are useful to you. For example, you might have a dataset containing student information (name, grade, standard, parents’ names, and address) but want to focus on analyzing student grades.\n",
    "\n",
    "In this case, the address or parents’ names categories are not important to you. Retaining these unneeded categories will take up unnecessary space and potentially also bog down runtime.\n",
    "\n",
    "pandas provides a handy way of removing unwanted columns or rows from a DataFrame with the drop() function. Let’s look at a simple example where we drop a number of columns from a DataFrame.\n",
    "\n",
    "First, let’s create a DataFrame out of the CSV file ‘BL-Flickr-Images-Book.csv’. In the examples below, we pass a relative path to pd.read_csv, meaning that all of the datasets are in a folder named Datasets in our current working directory:"
   ]
  },
  {
   "cell_type": "markdown",
   "id": "995b8be1-2f5e-4d8a-a17e-971cbb267b54",
   "metadata": {},
   "source": [
    "### storage init"
   ]
  },
  {
   "cell_type": "code",
   "execution_count": 210,
   "id": "f11a9a8d-9c44-41d9-9c26-74ec48f2a8f2",
   "metadata": {},
   "outputs": [],
   "source": [
    "storage_client =  storage.Client.from_service_account_json('heidless-jupyter-0-d2008100d98c.json')\n",
    "\n",
    "BUCKET_NAME = 'python-data-cleaning-0'\n",
    "\n",
    "bucket = storage_client.get_bucket(BUCKET_NAME)\n",
    "\n",
    "#file_names = list(bucket.list_blobs(prefix=''))\n",
    "#for name in file_names:\n",
    "#    print(name.name)"
   ]
  },
  {
   "cell_type": "markdown",
   "id": "0fc0696e-07a0-423c-a8dd-bd351d6e782a",
   "metadata": {},
   "source": [
    "### read file(s)"
   ]
  },
  {
   "cell_type": "code",
   "execution_count": 211,
   "id": "ef333b28-b323-4dcf-90ff-5c9bc159f840",
   "metadata": {},
   "outputs": [
    {
     "name": "stdout",
     "output_type": "stream",
     "text": [
      "full_file: data-set-0/BL-Flickr-Images-Book.csv\n",
      "data-set-0/BL-Flickr-Images-Book.csv\n"
     ]
    },
    {
     "data": {
      "text/plain": [
       "['data-set-0/BL-Flickr-Images-Book.csv']"
      ]
     },
     "execution_count": 211,
     "metadata": {},
     "output_type": "execute_result"
    }
   ],
   "source": [
    "\n",
    "AllCSV = []\n",
    "my_prefix = 'data-set-0/'\n",
    "my_file = 'BL-Flickr-Images-Book.csv'\n",
    "full_file = my_prefix + my_file\n",
    "print(f'full_file: {full_file}')\n",
    "\n",
    "file_names = list(bucket.list_blobs(prefix=my_prefix))\n",
    "for file in file_names:\n",
    "    if(file.name != my_prefix):\n",
    "        if file.name == full_file:\n",
    "            AllCSV.append(file.name)\n",
    "            print(file.name)\n",
    "AllCSV\n"
   ]
  },
  {
   "cell_type": "code",
   "execution_count": 212,
   "id": "c60fc848-18c8-4540-a54e-57e2be37cabf",
   "metadata": {},
   "outputs": [
    {
     "name": "stdout",
     "output_type": "stream",
     "text": [
      "data-set-0/BL-Flickr-Images-Book.csv\n"
     ]
    },
    {
     "data": {
      "text/html": [
       "<div>\n",
       "<style scoped>\n",
       "    .dataframe tbody tr th:only-of-type {\n",
       "        vertical-align: middle;\n",
       "    }\n",
       "\n",
       "    .dataframe tbody tr th {\n",
       "        vertical-align: top;\n",
       "    }\n",
       "\n",
       "    .dataframe thead th {\n",
       "        text-align: right;\n",
       "    }\n",
       "</style>\n",
       "<table border=\"1\" class=\"dataframe\">\n",
       "  <thead>\n",
       "    <tr style=\"text-align: right;\">\n",
       "      <th></th>\n",
       "      <th>Identifier</th>\n",
       "      <th>Edition Statement</th>\n",
       "      <th>Place of Publication</th>\n",
       "      <th>Date of Publication</th>\n",
       "      <th>Publisher</th>\n",
       "      <th>Title</th>\n",
       "      <th>Author</th>\n",
       "      <th>Contributors</th>\n",
       "      <th>Corporate Author</th>\n",
       "      <th>Corporate Contributors</th>\n",
       "      <th>Former owner</th>\n",
       "      <th>Engraver</th>\n",
       "      <th>Issuance type</th>\n",
       "      <th>Flickr URL</th>\n",
       "      <th>Shelfmarks</th>\n",
       "    </tr>\n",
       "  </thead>\n",
       "  <tbody>\n",
       "    <tr>\n",
       "      <th>0</th>\n",
       "      <td>206</td>\n",
       "      <td>NaN</td>\n",
       "      <td>London</td>\n",
       "      <td>1879 [1878]</td>\n",
       "      <td>S. Tinsley &amp; Co.</td>\n",
       "      <td>Walter Forbes. [A novel.] By A. A</td>\n",
       "      <td>A. A.</td>\n",
       "      <td>FORBES, Walter.</td>\n",
       "      <td>NaN</td>\n",
       "      <td>NaN</td>\n",
       "      <td>NaN</td>\n",
       "      <td>NaN</td>\n",
       "      <td>monographic</td>\n",
       "      <td>http://www.flickr.com/photos/britishlibrary/ta...</td>\n",
       "      <td>British Library HMNTS 12641.b.30.</td>\n",
       "    </tr>\n",
       "    <tr>\n",
       "      <th>1</th>\n",
       "      <td>216</td>\n",
       "      <td>NaN</td>\n",
       "      <td>London; Virtue &amp; Yorston</td>\n",
       "      <td>1868</td>\n",
       "      <td>Virtue &amp; Co.</td>\n",
       "      <td>All for Greed. [A novel. The dedication signed...</td>\n",
       "      <td>A., A. A.</td>\n",
       "      <td>BLAZE DE BURY, Marie Pauline Rose - Baroness</td>\n",
       "      <td>NaN</td>\n",
       "      <td>NaN</td>\n",
       "      <td>NaN</td>\n",
       "      <td>NaN</td>\n",
       "      <td>monographic</td>\n",
       "      <td>http://www.flickr.com/photos/britishlibrary/ta...</td>\n",
       "      <td>British Library HMNTS 12626.cc.2.</td>\n",
       "    </tr>\n",
       "    <tr>\n",
       "      <th>2</th>\n",
       "      <td>218</td>\n",
       "      <td>NaN</td>\n",
       "      <td>London</td>\n",
       "      <td>1869</td>\n",
       "      <td>Bradbury, Evans &amp; Co.</td>\n",
       "      <td>Love the Avenger. By the author of âAll for ...</td>\n",
       "      <td>A., A. A.</td>\n",
       "      <td>BLAZE DE BURY, Marie Pauline Rose - Baroness</td>\n",
       "      <td>NaN</td>\n",
       "      <td>NaN</td>\n",
       "      <td>NaN</td>\n",
       "      <td>NaN</td>\n",
       "      <td>monographic</td>\n",
       "      <td>http://www.flickr.com/photos/britishlibrary/ta...</td>\n",
       "      <td>British Library HMNTS 12625.dd.1.</td>\n",
       "    </tr>\n",
       "    <tr>\n",
       "      <th>3</th>\n",
       "      <td>472</td>\n",
       "      <td>NaN</td>\n",
       "      <td>London</td>\n",
       "      <td>1851</td>\n",
       "      <td>James Darling</td>\n",
       "      <td>Welsh Sketches, chiefly ecclesiastical, to the...</td>\n",
       "      <td>A., E. S.</td>\n",
       "      <td>Appleyard, Ernest Silvanus.</td>\n",
       "      <td>NaN</td>\n",
       "      <td>NaN</td>\n",
       "      <td>NaN</td>\n",
       "      <td>NaN</td>\n",
       "      <td>monographic</td>\n",
       "      <td>http://www.flickr.com/photos/britishlibrary/ta...</td>\n",
       "      <td>British Library HMNTS 10369.bbb.15.</td>\n",
       "    </tr>\n",
       "    <tr>\n",
       "      <th>4</th>\n",
       "      <td>480</td>\n",
       "      <td>A new edition, revised, etc.</td>\n",
       "      <td>London</td>\n",
       "      <td>1857</td>\n",
       "      <td>Wertheim &amp; Macintosh</td>\n",
       "      <td>[The World in which I live, and my place in it...</td>\n",
       "      <td>A., E. S.</td>\n",
       "      <td>BROOME, John Henry.</td>\n",
       "      <td>NaN</td>\n",
       "      <td>NaN</td>\n",
       "      <td>NaN</td>\n",
       "      <td>NaN</td>\n",
       "      <td>monographic</td>\n",
       "      <td>http://www.flickr.com/photos/britishlibrary/ta...</td>\n",
       "      <td>British Library HMNTS 9007.d.28.</td>\n",
       "    </tr>\n",
       "  </tbody>\n",
       "</table>\n",
       "</div>"
      ],
      "text/plain": [
       "   Identifier             Edition Statement      Place of Publication  \\\n",
       "0         206                           NaN                    London   \n",
       "1         216                           NaN  London; Virtue & Yorston   \n",
       "2         218                           NaN                    London   \n",
       "3         472                           NaN                    London   \n",
       "4         480  A new edition, revised, etc.                    London   \n",
       "\n",
       "  Date of Publication              Publisher  \\\n",
       "0         1879 [1878]       S. Tinsley & Co.   \n",
       "1                1868           Virtue & Co.   \n",
       "2                1869  Bradbury, Evans & Co.   \n",
       "3                1851          James Darling   \n",
       "4                1857   Wertheim & Macintosh   \n",
       "\n",
       "                                               Title     Author  \\\n",
       "0                  Walter Forbes. [A novel.] By A. A      A. A.   \n",
       "1  All for Greed. [A novel. The dedication signed...  A., A. A.   \n",
       "2  Love the Avenger. By the author of âAll for ...  A., A. A.   \n",
       "3  Welsh Sketches, chiefly ecclesiastical, to the...  A., E. S.   \n",
       "4  [The World in which I live, and my place in it...  A., E. S.   \n",
       "\n",
       "                                   Contributors  Corporate Author  \\\n",
       "0                               FORBES, Walter.               NaN   \n",
       "1  BLAZE DE BURY, Marie Pauline Rose - Baroness               NaN   \n",
       "2  BLAZE DE BURY, Marie Pauline Rose - Baroness               NaN   \n",
       "3                   Appleyard, Ernest Silvanus.               NaN   \n",
       "4                           BROOME, John Henry.               NaN   \n",
       "\n",
       "   Corporate Contributors Former owner  Engraver Issuance type  \\\n",
       "0                     NaN          NaN       NaN   monographic   \n",
       "1                     NaN          NaN       NaN   monographic   \n",
       "2                     NaN          NaN       NaN   monographic   \n",
       "3                     NaN          NaN       NaN   monographic   \n",
       "4                     NaN          NaN       NaN   monographic   \n",
       "\n",
       "                                          Flickr URL  \\\n",
       "0  http://www.flickr.com/photos/britishlibrary/ta...   \n",
       "1  http://www.flickr.com/photos/britishlibrary/ta...   \n",
       "2  http://www.flickr.com/photos/britishlibrary/ta...   \n",
       "3  http://www.flickr.com/photos/britishlibrary/ta...   \n",
       "4  http://www.flickr.com/photos/britishlibrary/ta...   \n",
       "\n",
       "                            Shelfmarks  \n",
       "0    British Library HMNTS 12641.b.30.  \n",
       "1    British Library HMNTS 12626.cc.2.  \n",
       "2    British Library HMNTS 12625.dd.1.  \n",
       "3  British Library HMNTS 10369.bbb.15.  \n",
       "4     British Library HMNTS 9007.d.28.  "
      ]
     },
     "execution_count": 212,
     "metadata": {},
     "output_type": "execute_result"
    }
   ],
   "source": [
    "all_dataframes = []\n",
    "#file_name = f'json/CA_category_id.json'\n",
    "\n",
    "for csv in AllCSV:\n",
    "    blob = bucket.get_blob(csv)\n",
    "    if blob is not None and blob.exists(storage_client):\n",
    "        bt = blob.download_as_string()\n",
    "        s = str(bt, 'ISO-8859-1')\n",
    "        s = StringIO(s)\n",
    "        df = pd.read_csv(s, encoding='ISO-8859-1')\n",
    "        #df['country'] = csv[0:2] # adding column 'country' so that each dataset could be identified uniquely\n",
    "        all_dataframes.append(df)\n",
    "        print(csv)\n",
    "    \n",
    "all_dataframes[0].head() # index 0 to 9 for [CA, DE, FR, GB, IN, JP, KR, MX, RU, US] datasets"
   ]
  },
  {
   "cell_type": "code",
   "execution_count": 213,
   "id": "eb7e5eaa-69af-497a-aae1-f8bf621764a6",
   "metadata": {},
   "outputs": [],
   "source": [
    "to_drop = ['Edition Statement',\n",
    "           'Corporate Author',\n",
    "           'Corporate Contributors',\n",
    "           'Former owner',\n",
    "           'Engraver',\n",
    "           'Contributors',\n",
    "           'Issuance type',\n",
    "           'Shelfmarks']\n",
    "\n",
    "df.drop(to_drop, inplace=True, axis=1)"
   ]
  },
  {
   "cell_type": "markdown",
   "id": "b44e5283-40f1-4bcd-afeb-1e550c7ba5b5",
   "metadata": {},
   "source": [
    "Above, we defined a list that contains the names of all the columns we want to drop. Next, we call the drop() function on our object, passing in the inplace parameter as True and the axis parameter as 1. This tells pandas that we want the changes to be made directly in our object and that it should look for the values to be dropped in the columns of the object."
   ]
  },
  {
   "cell_type": "code",
   "execution_count": 214,
   "id": "9c214934-e3af-4fb6-9308-03a7bed57979",
   "metadata": {},
   "outputs": [
    {
     "data": {
      "text/html": [
       "<div>\n",
       "<style scoped>\n",
       "    .dataframe tbody tr th:only-of-type {\n",
       "        vertical-align: middle;\n",
       "    }\n",
       "\n",
       "    .dataframe tbody tr th {\n",
       "        vertical-align: top;\n",
       "    }\n",
       "\n",
       "    .dataframe thead th {\n",
       "        text-align: right;\n",
       "    }\n",
       "</style>\n",
       "<table border=\"1\" class=\"dataframe\">\n",
       "  <thead>\n",
       "    <tr style=\"text-align: right;\">\n",
       "      <th></th>\n",
       "      <th>Identifier</th>\n",
       "      <th>Place of Publication</th>\n",
       "      <th>Date of Publication</th>\n",
       "      <th>Publisher</th>\n",
       "      <th>Title</th>\n",
       "      <th>Author</th>\n",
       "      <th>Flickr URL</th>\n",
       "    </tr>\n",
       "  </thead>\n",
       "  <tbody>\n",
       "    <tr>\n",
       "      <th>0</th>\n",
       "      <td>206</td>\n",
       "      <td>London</td>\n",
       "      <td>1879 [1878]</td>\n",
       "      <td>S. Tinsley &amp; Co.</td>\n",
       "      <td>Walter Forbes. [A novel.] By A. A</td>\n",
       "      <td>A. A.</td>\n",
       "      <td>http://www.flickr.com/photos/britishlibrary/ta...</td>\n",
       "    </tr>\n",
       "    <tr>\n",
       "      <th>1</th>\n",
       "      <td>216</td>\n",
       "      <td>London; Virtue &amp; Yorston</td>\n",
       "      <td>1868</td>\n",
       "      <td>Virtue &amp; Co.</td>\n",
       "      <td>All for Greed. [A novel. The dedication signed...</td>\n",
       "      <td>A., A. A.</td>\n",
       "      <td>http://www.flickr.com/photos/britishlibrary/ta...</td>\n",
       "    </tr>\n",
       "    <tr>\n",
       "      <th>2</th>\n",
       "      <td>218</td>\n",
       "      <td>London</td>\n",
       "      <td>1869</td>\n",
       "      <td>Bradbury, Evans &amp; Co.</td>\n",
       "      <td>Love the Avenger. By the author of âAll for ...</td>\n",
       "      <td>A., A. A.</td>\n",
       "      <td>http://www.flickr.com/photos/britishlibrary/ta...</td>\n",
       "    </tr>\n",
       "  </tbody>\n",
       "</table>\n",
       "</div>"
      ],
      "text/plain": [
       "   Identifier      Place of Publication Date of Publication  \\\n",
       "0         206                    London         1879 [1878]   \n",
       "1         216  London; Virtue & Yorston                1868   \n",
       "2         218                    London                1869   \n",
       "\n",
       "               Publisher                                              Title  \\\n",
       "0       S. Tinsley & Co.                  Walter Forbes. [A novel.] By A. A   \n",
       "1           Virtue & Co.  All for Greed. [A novel. The dedication signed...   \n",
       "2  Bradbury, Evans & Co.  Love the Avenger. By the author of âAll for ...   \n",
       "\n",
       "      Author                                         Flickr URL  \n",
       "0      A. A.  http://www.flickr.com/photos/britishlibrary/ta...  \n",
       "1  A., A. A.  http://www.flickr.com/photos/britishlibrary/ta...  \n",
       "2  A., A. A.  http://www.flickr.com/photos/britishlibrary/ta...  "
      ]
     },
     "execution_count": 214,
     "metadata": {},
     "output_type": "execute_result"
    }
   ],
   "source": [
    "all_dataframes[0].head(3)"
   ]
  },
  {
   "cell_type": "markdown",
   "id": "536559d5-df53-4555-8f33-2a4c0088a7af",
   "metadata": {},
   "source": [
    "Alternatively, we could also remove the columns by passing them to the columns parameter directly instead of separately specifying the labels to be removed and the axis where pandas should look for the labels:"
   ]
  },
  {
   "cell_type": "markdown",
   "id": "00d6bdaa-5db1-48ac-aef0-759046cf67bb",
   "metadata": {},
   "source": [
    "df.drop(columns=to_drop, inplace=True)"
   ]
  },
  {
   "cell_type": "markdown",
   "id": "3dbb3f5e-b7ac-47ed-b919-2a6cc5439f14",
   "metadata": {},
   "source": [
    "### Changing the Index of a DataFrame"
   ]
  },
  {
   "cell_type": "markdown",
   "id": "fbf7dbb7-05fc-4990-a938-a597a8e1b3c4",
   "metadata": {},
   "source": [
    "A pandas Index extends the functionality of NumPy arrays to allow for more versatile slicing and labeling. In many cases, it is helpful to use a uniquely valued identifying field of the data as its index.\n",
    "\n",
    "For example, in the dataset used in the previous section, it can be expected that when a librarian searches for a record, they may input the unique identifier (values in the Identifier column) for a book:"
   ]
  },
  {
   "cell_type": "code",
   "execution_count": 215,
   "id": "c252f7ea-1945-44b4-a1b3-7dd96ed74966",
   "metadata": {},
   "outputs": [
    {
     "data": {
      "text/plain": [
       "True"
      ]
     },
     "execution_count": 215,
     "metadata": {},
     "output_type": "execute_result"
    }
   ],
   "source": [
    "df['Identifier'].is_unique"
   ]
  },
  {
   "cell_type": "code",
   "execution_count": 216,
   "id": "a32b3753-a283-459b-ae01-6d37a9ed7f08",
   "metadata": {},
   "outputs": [
    {
     "name": "stdout",
     "output_type": "stream",
     "text": [
      "BEFORE setting index\n"
     ]
    },
    {
     "data": {
      "text/html": [
       "<div>\n",
       "<style scoped>\n",
       "    .dataframe tbody tr th:only-of-type {\n",
       "        vertical-align: middle;\n",
       "    }\n",
       "\n",
       "    .dataframe tbody tr th {\n",
       "        vertical-align: top;\n",
       "    }\n",
       "\n",
       "    .dataframe thead th {\n",
       "        text-align: right;\n",
       "    }\n",
       "</style>\n",
       "<table border=\"1\" class=\"dataframe\">\n",
       "  <thead>\n",
       "    <tr style=\"text-align: right;\">\n",
       "      <th></th>\n",
       "      <th>Identifier</th>\n",
       "      <th>Place of Publication</th>\n",
       "      <th>Date of Publication</th>\n",
       "      <th>Publisher</th>\n",
       "      <th>Title</th>\n",
       "      <th>Author</th>\n",
       "      <th>Flickr URL</th>\n",
       "    </tr>\n",
       "  </thead>\n",
       "  <tbody>\n",
       "    <tr>\n",
       "      <th>0</th>\n",
       "      <td>206</td>\n",
       "      <td>London</td>\n",
       "      <td>1879 [1878]</td>\n",
       "      <td>S. Tinsley &amp; Co.</td>\n",
       "      <td>Walter Forbes. [A novel.] By A. A</td>\n",
       "      <td>A. A.</td>\n",
       "      <td>http://www.flickr.com/photos/britishlibrary/ta...</td>\n",
       "    </tr>\n",
       "    <tr>\n",
       "      <th>1</th>\n",
       "      <td>216</td>\n",
       "      <td>London; Virtue &amp; Yorston</td>\n",
       "      <td>1868</td>\n",
       "      <td>Virtue &amp; Co.</td>\n",
       "      <td>All for Greed. [A novel. The dedication signed...</td>\n",
       "      <td>A., A. A.</td>\n",
       "      <td>http://www.flickr.com/photos/britishlibrary/ta...</td>\n",
       "    </tr>\n",
       "    <tr>\n",
       "      <th>2</th>\n",
       "      <td>218</td>\n",
       "      <td>London</td>\n",
       "      <td>1869</td>\n",
       "      <td>Bradbury, Evans &amp; Co.</td>\n",
       "      <td>Love the Avenger. By the author of âAll for ...</td>\n",
       "      <td>A., A. A.</td>\n",
       "      <td>http://www.flickr.com/photos/britishlibrary/ta...</td>\n",
       "    </tr>\n",
       "  </tbody>\n",
       "</table>\n",
       "</div>"
      ],
      "text/plain": [
       "   Identifier      Place of Publication Date of Publication  \\\n",
       "0         206                    London         1879 [1878]   \n",
       "1         216  London; Virtue & Yorston                1868   \n",
       "2         218                    London                1869   \n",
       "\n",
       "               Publisher                                              Title  \\\n",
       "0       S. Tinsley & Co.                  Walter Forbes. [A novel.] By A. A   \n",
       "1           Virtue & Co.  All for Greed. [A novel. The dedication signed...   \n",
       "2  Bradbury, Evans & Co.  Love the Avenger. By the author of âAll for ...   \n",
       "\n",
       "      Author                                         Flickr URL  \n",
       "0      A. A.  http://www.flickr.com/photos/britishlibrary/ta...  \n",
       "1  A., A. A.  http://www.flickr.com/photos/britishlibrary/ta...  \n",
       "2  A., A. A.  http://www.flickr.com/photos/britishlibrary/ta...  "
      ]
     },
     "execution_count": 216,
     "metadata": {},
     "output_type": "execute_result"
    }
   ],
   "source": [
    "print('BEFORE setting index')\n",
    "df.head(3)"
   ]
  },
  {
   "cell_type": "code",
   "execution_count": 217,
   "id": "abab311a-1904-4515-a980-7372339ed67c",
   "metadata": {},
   "outputs": [
    {
     "name": "stdout",
     "output_type": "stream",
     "text": [
      "AFTER setting index\n"
     ]
    },
    {
     "data": {
      "text/html": [
       "<div>\n",
       "<style scoped>\n",
       "    .dataframe tbody tr th:only-of-type {\n",
       "        vertical-align: middle;\n",
       "    }\n",
       "\n",
       "    .dataframe tbody tr th {\n",
       "        vertical-align: top;\n",
       "    }\n",
       "\n",
       "    .dataframe thead th {\n",
       "        text-align: right;\n",
       "    }\n",
       "</style>\n",
       "<table border=\"1\" class=\"dataframe\">\n",
       "  <thead>\n",
       "    <tr style=\"text-align: right;\">\n",
       "      <th></th>\n",
       "      <th>Place of Publication</th>\n",
       "      <th>Date of Publication</th>\n",
       "      <th>Publisher</th>\n",
       "      <th>Title</th>\n",
       "      <th>Author</th>\n",
       "      <th>Flickr URL</th>\n",
       "    </tr>\n",
       "    <tr>\n",
       "      <th>Identifier</th>\n",
       "      <th></th>\n",
       "      <th></th>\n",
       "      <th></th>\n",
       "      <th></th>\n",
       "      <th></th>\n",
       "      <th></th>\n",
       "    </tr>\n",
       "  </thead>\n",
       "  <tbody>\n",
       "    <tr>\n",
       "      <th>206</th>\n",
       "      <td>London</td>\n",
       "      <td>1879 [1878]</td>\n",
       "      <td>S. Tinsley &amp; Co.</td>\n",
       "      <td>Walter Forbes. [A novel.] By A. A</td>\n",
       "      <td>A. A.</td>\n",
       "      <td>http://www.flickr.com/photos/britishlibrary/ta...</td>\n",
       "    </tr>\n",
       "    <tr>\n",
       "      <th>216</th>\n",
       "      <td>London; Virtue &amp; Yorston</td>\n",
       "      <td>1868</td>\n",
       "      <td>Virtue &amp; Co.</td>\n",
       "      <td>All for Greed. [A novel. The dedication signed...</td>\n",
       "      <td>A., A. A.</td>\n",
       "      <td>http://www.flickr.com/photos/britishlibrary/ta...</td>\n",
       "    </tr>\n",
       "    <tr>\n",
       "      <th>218</th>\n",
       "      <td>London</td>\n",
       "      <td>1869</td>\n",
       "      <td>Bradbury, Evans &amp; Co.</td>\n",
       "      <td>Love the Avenger. By the author of âAll for ...</td>\n",
       "      <td>A., A. A.</td>\n",
       "      <td>http://www.flickr.com/photos/britishlibrary/ta...</td>\n",
       "    </tr>\n",
       "  </tbody>\n",
       "</table>\n",
       "</div>"
      ],
      "text/plain": [
       "                Place of Publication Date of Publication  \\\n",
       "Identifier                                                 \n",
       "206                           London         1879 [1878]   \n",
       "216         London; Virtue & Yorston                1868   \n",
       "218                           London                1869   \n",
       "\n",
       "                        Publisher  \\\n",
       "Identifier                          \n",
       "206              S. Tinsley & Co.   \n",
       "216                  Virtue & Co.   \n",
       "218         Bradbury, Evans & Co.   \n",
       "\n",
       "                                                        Title     Author  \\\n",
       "Identifier                                                                 \n",
       "206                         Walter Forbes. [A novel.] By A. A      A. A.   \n",
       "216         All for Greed. [A novel. The dedication signed...  A., A. A.   \n",
       "218         Love the Avenger. By the author of âAll for ...  A., A. A.   \n",
       "\n",
       "                                                   Flickr URL  \n",
       "Identifier                                                     \n",
       "206         http://www.flickr.com/photos/britishlibrary/ta...  \n",
       "216         http://www.flickr.com/photos/britishlibrary/ta...  \n",
       "218         http://www.flickr.com/photos/britishlibrary/ta...  "
      ]
     },
     "execution_count": 217,
     "metadata": {},
     "output_type": "execute_result"
    }
   ],
   "source": [
    "\n",
    "\n",
    "#df = df.set_index('Identifier')\n",
    "df.set_index('Identifier', inplace=True)\n",
    "print('AFTER setting index')\n",
    "df.head(3)\n"
   ]
  },
  {
   "cell_type": "markdown",
   "id": "0e783c14-bced-425d-b551-66561455f4b0",
   "metadata": {},
   "source": [
    "We can access each record in a straightforward way with `loc[]`. Although loc[] may not have all that intuitive of a name, it allows us to do label-based indexing, which is the labeling of a row or record without regard to its position:"
   ]
  },
  {
   "cell_type": "code",
   "execution_count": 218,
   "id": "85f3e239-de6c-4dcd-981d-1d8071e692f2",
   "metadata": {},
   "outputs": [
    {
     "data": {
      "text/plain": [
       "Place of Publication                                               London\n",
       "Date of Publication                                           1879 [1878]\n",
       "Publisher                                                S. Tinsley & Co.\n",
       "Title                                   Walter Forbes. [A novel.] By A. A\n",
       "Author                                                              A. A.\n",
       "Flickr URL              http://www.flickr.com/photos/britishlibrary/ta...\n",
       "Name: 206, dtype: object"
      ]
     },
     "execution_count": 218,
     "metadata": {},
     "output_type": "execute_result"
    }
   ],
   "source": [
    "df.loc[206]"
   ]
  },
  {
   "cell_type": "markdown",
   "id": "b64ccdc8-f8ab-43f0-bfc6-11bcde74bbcc",
   "metadata": {},
   "source": [
    "In other words, 206 is the first label of the index. To access it by position, we could use df.iloc[0], which does position-based indexing."
   ]
  },
  {
   "cell_type": "code",
   "execution_count": 219,
   "id": "39236f5a-e3ea-42bd-8668-28ef12039252",
   "metadata": {},
   "outputs": [
    {
     "data": {
      "text/plain": [
       "Place of Publication                                               London\n",
       "Date of Publication                                                  1869\n",
       "Publisher                                           Bradbury, Evans & Co.\n",
       "Title                   Love the Avenger. By the author of âAll for ...\n",
       "Author                                                          A., A. A.\n",
       "Flickr URL              http://www.flickr.com/photos/britishlibrary/ta...\n",
       "Name: 218, dtype: object"
      ]
     },
     "execution_count": 219,
     "metadata": {},
     "output_type": "execute_result"
    }
   ],
   "source": [
    "df.iloc[2]"
   ]
  },
  {
   "cell_type": "markdown",
   "id": "852b32b4-dc30-4b1b-a60f-4b9c66c0bf82",
   "metadata": {},
   "source": [
    "Previously, our index was a RangeIndex: integers starting from 0, analogous to Python’s built-in range. By passing a column name to set_index, we have changed the index to the values in Identifier."
   ]
  },
  {
   "cell_type": "markdown",
   "id": "fdb98138-59d4-4d8a-9f2e-dfb38a1d3c9e",
   "metadata": {},
   "source": [
    "## Tidying up Fields in the Data"
   ]
  },
  {
   "cell_type": "markdown",
   "id": "5a2fa317-1764-4ab3-b43e-142b58cb6954",
   "metadata": {},
   "source": [
    "So far, we have removed unnecessary columns and changed the index of our DataFrame to something more sensible. In this section, we will clean specific columns and get them to a uniform format to get a better understanding of the dataset and enforce consistency. In particular, we will be cleaning Date of Publication and Place of Publication.\n",
    "\n",
    "Upon inspection, all of the data types are currently the object dtype, which is roughly analogous to str in native Python.\n",
    "\n",
    "It encapsulates any field that can’t be neatly fit as numerical or categorical data. This makes sense since we’re working with data that is initially a bunch of messy strings:"
   ]
  },
  {
   "cell_type": "code",
   "execution_count": 220,
   "id": "4dfab0fe-dc9d-4756-beb1-76aaf44ed0af",
   "metadata": {},
   "outputs": [
    {
     "data": {
      "text/plain": [
       "object    6\n",
       "Name: count, dtype: int64"
      ]
     },
     "execution_count": 220,
     "metadata": {},
     "output_type": "execute_result"
    }
   ],
   "source": [
    "df.dtypes.value_counts()"
   ]
  },
  {
   "cell_type": "code",
   "execution_count": 221,
   "id": "50edc3b1-c77c-4031-97c6-bc192ed53211",
   "metadata": {},
   "outputs": [
    {
     "data": {
      "text/plain": [
       "Identifier\n",
       "1905           1888\n",
       "1929    1839, 38-54\n",
       "2836           1897\n",
       "2854           1865\n",
       "2956        1860-63\n",
       "2957           1873\n",
       "3017           1866\n",
       "3131           1899\n",
       "4598           1814\n",
       "4884           1820\n",
       "Name: Date of Publication, dtype: object"
      ]
     },
     "execution_count": 221,
     "metadata": {},
     "output_type": "execute_result"
    }
   ],
   "source": [
    "df.loc[1905:, 'Date of Publication'].head(10)"
   ]
  },
  {
   "cell_type": "markdown",
   "id": "23044c56-f137-476f-b5ac-7185a941f2bc",
   "metadata": {},
   "source": [
    "A particular book can have only one date of publication. Therefore, we need to do the following:\n",
    "\n",
    "- Remove the extra dates in square brackets, wherever present: 1879 [1878]\n",
    "- Convert date ranges to their “start date”, wherever present: 1860-63; 1839, 38-54\n",
    "- Completely remove the dates we are not certain about and replace them with NumPy’s NaN: [1897?]\n",
    "- Convert the string nan to NumPy’s NaN value\n",
    "Synthesizing these patterns, we can actually take advantage of a single regular expression to extract the publication year:\n",
    "\n",
    "regex = r'^(\\d{4})'\n",
    "\n",
    "The regular expression above is meant to find any four digits at the beginning of a string, which suffices for our case. The above is a raw string (meaning that a backslash is no longer an escape character), which is standard practice with regular expressions.\n",
    "\n",
    "The \\d represents any digit, and {4} repeats this rule four times. The ^ character matches the start of a string, and the parentheses denote a capturing group, which signals to pandas that we want to extract that part of the regex. (We want ^ to avoid cases where [ starts off the string.)\n",
    "\n",
    "Let’s see what happens when we run this regex across our dataset:"
   ]
  },
  {
   "cell_type": "code",
   "execution_count": 222,
   "id": "42ff9dcd-e3e5-4de7-b0e4-3585ef4247d4",
   "metadata": {},
   "outputs": [
    {
     "data": {
      "text/plain": [
       "Identifier\n",
       "206    1879\n",
       "216    1868\n",
       "218    1869\n",
       "472    1851\n",
       "480    1857\n",
       "Name: Date of Publication, dtype: object"
      ]
     },
     "execution_count": 222,
     "metadata": {},
     "output_type": "execute_result"
    }
   ],
   "source": [
    "extr = df['Date of Publication'].str.extract(r'^(\\d{4})', expand=False)\n",
    "extr.head()"
   ]
  },
  {
   "cell_type": "markdown",
   "id": "c5b8d96d-b795-4405-96e4-d662ae2939ef",
   "metadata": {},
   "source": [
    "Technically, this column still has object dtype, but we can easily get its numerical version with pd.to_numeric:"
   ]
  },
  {
   "cell_type": "code",
   "execution_count": 223,
   "id": "fbd758be-7e3d-4308-b51d-fa2086bad994",
   "metadata": {},
   "outputs": [
    {
     "data": {
      "text/plain": [
       "dtype('float64')"
      ]
     },
     "execution_count": 223,
     "metadata": {},
     "output_type": "execute_result"
    }
   ],
   "source": [
    "df['Date of Publication'] = pd.to_numeric(extr)\n",
    "df['Date of Publication'].dtype"
   ]
  },
  {
   "cell_type": "code",
   "execution_count": 224,
   "id": "de83570c-cbfc-4139-bc98-94c768816545",
   "metadata": {},
   "outputs": [
    {
     "data": {
      "text/plain": [
       "0.11717147339205986"
      ]
     },
     "execution_count": 224,
     "metadata": {},
     "output_type": "execute_result"
    }
   ],
   "source": [
    "df['Date of Publication'].isnull().sum() / len(df)"
   ]
  },
  {
   "cell_type": "code",
   "execution_count": 225,
   "id": "32c6938f-b5b5-41a0-91b5-0e604c903dab",
   "metadata": {},
   "outputs": [
    {
     "data": {
      "text/plain": [
       "Identifier\n",
       "2836    1897.0\n",
       "2854    1865.0\n",
       "2956    1860.0\n",
       "2957    1873.0\n",
       "3017    1866.0\n",
       "3131    1899.0\n",
       "4598    1814.0\n",
       "4884    1820.0\n",
       "4976    1800.0\n",
       "5382    1847.0\n",
       "Name: Date of Publication, dtype: float64"
      ]
     },
     "execution_count": 225,
     "metadata": {},
     "output_type": "execute_result"
    }
   ],
   "source": [
    "df.loc[2836:, 'Date of Publication'].head(10)"
   ]
  },
  {
   "cell_type": "markdown",
   "id": "572ed8a2-645b-46b9-8115-b0879eea6dcc",
   "metadata": {},
   "source": [
    "## Combining str Methods with NumPy to Clean Columns"
   ]
  },
  {
   "cell_type": "markdown",
   "id": "725d7f98-a616-4b35-8065-2a73bca6df81",
   "metadata": {},
   "source": [
    "Above, you may have noticed the use of df['Date of Publication'].str. This attribute is a way to access speedy string operations in pandas that largely mimic operations on native Python strings or compiled regular expressions, such as .split(), .replace(), and .capitalize().\n",
    "\n",
    "To clean the Place of Publication field, we can combine pandas str methods with NumPy’s np.where function, which is basically a vectorized form of Excel’s IF() macro. It has the following syntax:"
   ]
  },
  {
   "cell_type": "markdown",
   "id": "152aec6b-c562-42c7-8ed7-c29ad9d66474",
   "metadata": {},
   "source": [
    "np.where(condition, then, else)"
   ]
  },
  {
   "cell_type": "markdown",
   "id": "79b7a2ca-807b-4f51-8772-01ea7f7d4cac",
   "metadata": {},
   "source": [
    "Here, condition is either an array-like object or a Boolean mask. then is the value to be used if condition evaluates to True, and else is the value to be used otherwise.\n",
    "\n",
    "Essentially, .where() takes each element in the object used for condition, checks whether that particular element evaluates to True in the context of the condition, and returns an ndarray containing then or else, depending on which applies.\n",
    "\n",
    "It can be nested into a compound if-then statement, allowing us to compute values based on multiple conditions:"
   ]
  },
  {
   "cell_type": "markdown",
   "id": "1e08307a-7b1e-4038-a8bc-37941b259143",
   "metadata": {},
   "source": [
    "We’ll be making use of these two functions to clean Place of Publication since this column has string objects. Here are the contents of the column:"
   ]
  },
  {
   "cell_type": "code",
   "execution_count": 226,
   "id": "7beb8aa1-a787-4776-adb7-292117ce6b2e",
   "metadata": {},
   "outputs": [
    {
     "data": {
      "text/plain": [
       "Identifier\n",
       "206                                  London\n",
       "216                London; Virtue & Yorston\n",
       "218                                  London\n",
       "472                                  London\n",
       "480                                  London\n",
       "481                                  London\n",
       "519                                  London\n",
       "667     pp. 40. G. Bryan & Co: Oxford, 1898\n",
       "874                                 London]\n",
       "1143                                 London\n",
       "Name: Place of Publication, dtype: object"
      ]
     },
     "execution_count": 226,
     "metadata": {},
     "output_type": "execute_result"
    }
   ],
   "source": [
    "df['Place of Publication'].head(10)"
   ]
  },
  {
   "cell_type": "markdown",
   "id": "ccee04a6-d2e9-435e-89f8-c41dd54b3216",
   "metadata": {},
   "source": [
    "We see that for some rows, the place of publication is surrounded by other unnecessary information. If we were to look at more values, we would see that this is the case for only some rows that have their place of publication as ‘London’ or ‘Oxford’.\n",
    "\n",
    "Let’s take a look at two specific entries:"
   ]
  },
  {
   "cell_type": "code",
   "execution_count": 227,
   "id": "490d19b2-4993-4820-9c2e-4bdf92e2260d",
   "metadata": {},
   "outputs": [
    {
     "data": {
      "text/plain": [
       "Place of Publication                                  Newcastle-upon-Tyne\n",
       "Date of Publication                                                1867.0\n",
       "Publisher                                                      T. Fordyce\n",
       "Title                   Local Records; or, Historical Register of rema...\n",
       "Author                      FORDYCE, T. - Printer, of Newcastle-upon-Tyne\n",
       "Flickr URL              http://www.flickr.com/photos/britishlibrary/ta...\n",
       "Name: 4157862, dtype: object"
      ]
     },
     "execution_count": 227,
     "metadata": {},
     "output_type": "execute_result"
    }
   ],
   "source": [
    "df.loc[4157862]\n"
   ]
  },
  {
   "cell_type": "code",
   "execution_count": 228,
   "id": "8ab2da7a-73d9-430f-8dab-b0052abbbbad",
   "metadata": {},
   "outputs": [
    {
     "data": {
      "text/plain": [
       "Place of Publication                                  Newcastle upon Tyne\n",
       "Date of Publication                                                1834.0\n",
       "Publisher                                                Mackenzie & Dent\n",
       "Title                   An historical, topographical and descriptive v...\n",
       "Author                                              Mackenzie, E. (Eneas)\n",
       "Flickr URL              http://www.flickr.com/photos/britishlibrary/ta...\n",
       "Name: 4159587, dtype: object"
      ]
     },
     "execution_count": 228,
     "metadata": {},
     "output_type": "execute_result"
    }
   ],
   "source": [
    "df.loc[4159587]\n"
   ]
  },
  {
   "cell_type": "markdown",
   "id": "8ab77b21-6b51-4409-8ade-3d3c111a5330",
   "metadata": {},
   "source": [
    "These two books were published in the same place, but one has hyphens in the name of the place while the other does not.\n",
    "\n",
    "To clean this column in one sweep, we can use str.contains() to get a Boolean mask.\n",
    "\n",
    "We clean the column as follows:"
   ]
  },
  {
   "cell_type": "code",
   "execution_count": 229,
   "id": "121c2e75-46e5-48dd-b22a-43f4bb7e677c",
   "metadata": {},
   "outputs": [
    {
     "data": {
      "text/plain": [
       "Place of Publication                                            Newcastle\n",
       "Date of Publication                                                1867.0\n",
       "Publisher                                                      T. Fordyce\n",
       "Title                   Local Records; or, Historical Register of rema...\n",
       "Author                      FORDYCE, T. - Printer, of Newcastle-upon-Tyne\n",
       "Flickr URL              http://www.flickr.com/photos/britishlibrary/ta...\n",
       "Name: 4157862, dtype: object"
      ]
     },
     "execution_count": 229,
     "metadata": {},
     "output_type": "execute_result"
    }
   ],
   "source": [
    "df['Place of Publication'] = np.where(london, 'London',\n",
    "                                      np.where(oxford, 'Oxford',\n",
    "                                               pub.str.replace('-', ' ')))\n",
    "\n",
    "pub = df['Place of Publication']\n",
    "london = pub.str.contains('London')\n",
    "london[:5]\n",
    "\n",
    "oxford = pub.str.contains('Oxford')\n",
    "\n",
    "newcastle = pub.str.contains('Newcastle')\n",
    "\n",
    "df['Place of Publication'] = np.where(newcastle, 'Newcastle', pub.str.replace('-', ' '))\n",
    "\n",
    "#df['Place of Publication'] = pub.str.replace('-', ' ')\n",
    "\n",
    "df.loc[4157862]\n",
    "\n",
    "\n",
    "\n",
    "\n",
    "\n",
    "\n"
   ]
  },
  {
   "cell_type": "markdown",
   "id": "44acd940-1850-4d34-9914-4ccec0d7e7b2",
   "metadata": {},
   "source": [
    "Here, the np.where function is called in a nested structure, with condition being a Series of Booleans obtained with str.contains(). The contains() method works similarly to the built-in in keyword used to find the occurrence of an entity in an iterable (or substring in a string).\n",
    "\n",
    "The replacement to be used is a string representing our desired place of publication. We also replace hyphens with a space with str.replace() and reassign to the column in our DataFrame.\n",
    "\n",
    "Although there is more dirty data in this dataset, we will discuss only these two columns for now.\n",
    "\n",
    "Let’s have a look at the first five entries, which look a lot crisper than when we started out:"
   ]
  },
  {
   "cell_type": "code",
   "execution_count": 230,
   "id": "d1d71af2-696d-4361-9a42-9c87662d29e7",
   "metadata": {},
   "outputs": [
    {
     "data": {
      "text/html": [
       "<div>\n",
       "<style scoped>\n",
       "    .dataframe tbody tr th:only-of-type {\n",
       "        vertical-align: middle;\n",
       "    }\n",
       "\n",
       "    .dataframe tbody tr th {\n",
       "        vertical-align: top;\n",
       "    }\n",
       "\n",
       "    .dataframe thead th {\n",
       "        text-align: right;\n",
       "    }\n",
       "</style>\n",
       "<table border=\"1\" class=\"dataframe\">\n",
       "  <thead>\n",
       "    <tr style=\"text-align: right;\">\n",
       "      <th></th>\n",
       "      <th>Place of Publication</th>\n",
       "      <th>Date of Publication</th>\n",
       "      <th>Publisher</th>\n",
       "      <th>Title</th>\n",
       "      <th>Author</th>\n",
       "      <th>Flickr URL</th>\n",
       "    </tr>\n",
       "    <tr>\n",
       "      <th>Identifier</th>\n",
       "      <th></th>\n",
       "      <th></th>\n",
       "      <th></th>\n",
       "      <th></th>\n",
       "      <th></th>\n",
       "      <th></th>\n",
       "    </tr>\n",
       "  </thead>\n",
       "  <tbody>\n",
       "    <tr>\n",
       "      <th>206</th>\n",
       "      <td>London</td>\n",
       "      <td>1879.0</td>\n",
       "      <td>S. Tinsley &amp; Co.</td>\n",
       "      <td>Walter Forbes. [A novel.] By A. A</td>\n",
       "      <td>A. A.</td>\n",
       "      <td>http://www.flickr.com/photos/britishlibrary/ta...</td>\n",
       "    </tr>\n",
       "    <tr>\n",
       "      <th>216</th>\n",
       "      <td>London</td>\n",
       "      <td>1868.0</td>\n",
       "      <td>Virtue &amp; Co.</td>\n",
       "      <td>All for Greed. [A novel. The dedication signed...</td>\n",
       "      <td>A., A. A.</td>\n",
       "      <td>http://www.flickr.com/photos/britishlibrary/ta...</td>\n",
       "    </tr>\n",
       "    <tr>\n",
       "      <th>218</th>\n",
       "      <td>London</td>\n",
       "      <td>1869.0</td>\n",
       "      <td>Bradbury, Evans &amp; Co.</td>\n",
       "      <td>Love the Avenger. By the author of âAll for ...</td>\n",
       "      <td>A., A. A.</td>\n",
       "      <td>http://www.flickr.com/photos/britishlibrary/ta...</td>\n",
       "    </tr>\n",
       "    <tr>\n",
       "      <th>472</th>\n",
       "      <td>London</td>\n",
       "      <td>1851.0</td>\n",
       "      <td>James Darling</td>\n",
       "      <td>Welsh Sketches, chiefly ecclesiastical, to the...</td>\n",
       "      <td>A., E. S.</td>\n",
       "      <td>http://www.flickr.com/photos/britishlibrary/ta...</td>\n",
       "    </tr>\n",
       "    <tr>\n",
       "      <th>480</th>\n",
       "      <td>London</td>\n",
       "      <td>1857.0</td>\n",
       "      <td>Wertheim &amp; Macintosh</td>\n",
       "      <td>[The World in which I live, and my place in it...</td>\n",
       "      <td>A., E. S.</td>\n",
       "      <td>http://www.flickr.com/photos/britishlibrary/ta...</td>\n",
       "    </tr>\n",
       "  </tbody>\n",
       "</table>\n",
       "</div>"
      ],
      "text/plain": [
       "           Place of Publication  Date of Publication              Publisher  \\\n",
       "Identifier                                                                    \n",
       "206                      London               1879.0       S. Tinsley & Co.   \n",
       "216                      London               1868.0           Virtue & Co.   \n",
       "218                      London               1869.0  Bradbury, Evans & Co.   \n",
       "472                      London               1851.0          James Darling   \n",
       "480                      London               1857.0   Wertheim & Macintosh   \n",
       "\n",
       "                                                        Title     Author  \\\n",
       "Identifier                                                                 \n",
       "206                         Walter Forbes. [A novel.] By A. A      A. A.   \n",
       "216         All for Greed. [A novel. The dedication signed...  A., A. A.   \n",
       "218         Love the Avenger. By the author of âAll for ...  A., A. A.   \n",
       "472         Welsh Sketches, chiefly ecclesiastical, to the...  A., E. S.   \n",
       "480         [The World in which I live, and my place in it...  A., E. S.   \n",
       "\n",
       "                                                   Flickr URL  \n",
       "Identifier                                                     \n",
       "206         http://www.flickr.com/photos/britishlibrary/ta...  \n",
       "216         http://www.flickr.com/photos/britishlibrary/ta...  \n",
       "218         http://www.flickr.com/photos/britishlibrary/ta...  \n",
       "472         http://www.flickr.com/photos/britishlibrary/ta...  \n",
       "480         http://www.flickr.com/photos/britishlibrary/ta...  "
      ]
     },
     "execution_count": 230,
     "metadata": {},
     "output_type": "execute_result"
    }
   ],
   "source": [
    "df.head()\n"
   ]
  },
  {
   "cell_type": "markdown",
   "id": "f8cb4cf7-ae66-4016-ac4a-3b5e88c95777",
   "metadata": {},
   "source": [
    "## Cleaning the Entire Dataset Using the applymap Function"
   ]
  },
  {
   "cell_type": "markdown",
   "id": "1ff518da-d4f3-42f1-9778-3cd9929c1ea4",
   "metadata": {},
   "source": [
    "In certain situations, you will see that the “dirt” is not localized to one column but is more spread out.\n",
    "\n",
    "There are some instances where it would be helpful to apply a customized function to each cell or element of a DataFrame. pandas .applymap() method is similar to the in-built map() function and simply applies a function to all the elements in a DataFrame.\n",
    "\n",
    "Let’s look at an example. We will create a DataFrame out of the “university_towns.txt” file:"
   ]
  },
  {
   "cell_type": "code",
   "execution_count": 231,
   "id": "28d35933-dfed-4e8e-94f7-152c9af501b7",
   "metadata": {},
   "outputs": [
    {
     "data": {
      "text/plain": [
       "['data-set-0/university_towns.txt']"
      ]
     },
     "execution_count": 231,
     "metadata": {},
     "output_type": "execute_result"
    }
   ],
   "source": [
    "\n",
    "AllJSON = []\n",
    "\n",
    "my_prefix = 'data-set-0/'\n",
    "my_file = 'university_towns.txt'\n",
    "full_file = my_prefix + my_file\n",
    "\n",
    "file_names = list(bucket.list_blobs(prefix=my_prefix))\n",
    "for file in file_names:\n",
    "    if(file.name != my_prefix):\n",
    "        if file.name == full_file:\n",
    "            AllJSON.append(file.name)\n",
    "            \n",
    "AllJSON\n"
   ]
  },
  {
   "cell_type": "code",
   "execution_count": 240,
   "id": "7ddb9875-e015-43b2-9bf1-9403002e8344",
   "metadata": {},
   "outputs": [
    {
     "ename": "OSError",
     "evalue": "[Errno 36] File name too long: 'Alabama[edit]\\nAuburn (Auburn University)[1]\\nFlorence (University of North Alabama)\\nJacksonville (Jacksonville State University)[2]\\nLivingston (University of West Alabama)[2]\\nMontevallo (University of Montevallo)[2]\\nTroy (Troy University)[2]\\nTuscaloosa (University of Alabama, Stillman College, Shelton State)[3][4]\\nTuskegee (Tuskegee University)[5]\\nAlaska[edit]\\nFairbanks (University of Alaska Fairbanks)[2]\\nArizona[edit]\\nFlagstaff (Northern Arizona University)[6]\\nTempe (Arizona State University)\\nTucson (University of Arizona)\\nArkansas[edit]\\nArkadelphia (Henderson State University, Ouachita Baptist University)[2]\\nConway (Central Baptist College, Hendrix College, University of Central Arkansas)[2]\\nFayetteville (University of Arkansas)[7]\\nJonesboro (Arkansas State University)[8]\\nMagnolia (Southern Arkansas University)[2]\\nMonticello (University of Arkansas at Monticello)[2]\\nRussellville (Arkansas Tech University)[2]\\nSearcy (Harding University)[5]\\nCalifornia[edit]\\nAngwin (Pacific Union College)[2]\\nArcata (Humboldt State University)[5]\\nBerkeley (University of California, Berkeley)[5]\\nChico (California State University, Chico)[2]\\nClaremont (Claremont McKenna College, Pomona College, Harvey Mudd College, Scripps College, Pitzer College, Keck Graduate Institute, Claremont Graduate University)[5]\\nCotati (California State University, Sonoma)[2]\\nDavis (University of California, Davis)[1]\\nIrvine (University of California, Irvine)\\nIsla Vista (University of California, Santa Barbara)[2]\\nUniversity Park, Los Angeles (University of Southern California)\\nMerced (University of California, Merced)\\nOrange (Chapman University)\\nPalo Alto (Stanford University)\\nPomona (Cal Poly Pomona, WesternU)[9][10][11] and formerly Pomona College\\nRedlands (University of Redlands)\\nRiverside (University of California, Riverside, California Baptist University, La Sierra University)\\nSacramento (California State University, Sacramento)\\nUniversity District, San Bernardino (California State University, San Bernardino, American Sports University)\\nSan Diego (University of California, San Diego, San Diego State University)\\nSan Luis Obispo (California Polytechnic State University)[2]\\nSanta Barbara (Fielding Graduate University, Santa Barbara City College, University of California, Santa Barbara, Westmont College)[2]\\nSanta Cruz (University of California, Santa Cruz)[2]\\nTurlock (California State University, Stanislaus)\\nWestwood, Los Angeles (University of California, Los Angeles)[2]\\nWhittier (Whittier CollegeRio Hondo College)\\nColorado[edit]\\nAlamosa (Adams State College)[2]\\nBoulder (University of Colorado at Boulder)[12]\\nDurango (Fort Lewis College)[2]\\nFort Collins (Colorado State University)[13]\\nGolden (Colorado School of Mines)\\nGrand Junction (Colorado Mesa University)\\nGreeley (University of Northern Colorado)\\nGunnison (Western State College)[2]\\nPueblo, Colorado (Colorado State University-Pueblo)\\nConnecticut[edit]\\nFairfield (Fairfield University, Sacred Heart University)\\nMiddletown (Wesleyan University)\\nNew Britain (Central Connecticut State University)\\nNew Haven (Yale University, University of New Haven, Southern Connecticut State University, Albertus Magnus College, Quinnipiac University)[14]\\nNew London (Connecticut College, US Coast Guard Academy, Mitchell College)[2]\\nStorrs (University of Connecticut)[2]\\nWillimantic (Eastern Connecticut State University)[2]\\nDelaware[edit]\\nDover (Delaware State University)[1]\\nNewark (University of Delaware)[1]\\nFlorida[edit]\\nAve Maria (Ave Maria University)\\nBoca Raton (Florida Atlantic University)\\nCoral Gables (University of Miami)\\nDeLand (Stetson University)[5]\\nEstero (Florida Gulf Coast University)\\nGainesville (University of Florida, Santa Fe College)\\nOrlando (University of Central Florida)\\nSarasota (New College of Florida, Ringling College of Art and Design, State College of Florida, Manatee-Sarasota, University of South Florida Sarasota-Manatee)\\nSt. Augustine (Flagler College)\\nSt. Leo (St. Leo University)\\nTallahassee (Florida State University, Florida A&M University)\\nTampa (University of South Florida)\\nGeorgia[edit]\\nAlbany (Albany State University)\\nAthens (University of Georgia)[15]\\nAtlanta (Georgia State University, Georgia Tech, Emory)[2]\\nCarrollton (University of West Georgia)[2]*Dahlonega (North Georgia College & State University)[2]\\nDemorest (Piedmont College)[2]\\nFort Valley (Fort Valley State University)[2]\\nKennesaw (Kennesaw State University)\\nMilledgeville (Georgia College & State University)[2]\\nMount Vernon (Brewton-Parker College)[2]\\nOxford (Oxford College)\\nRome (Berry College, Shorter University)\\nSavannah (Armstrong Atlantic State University, Savannah State University, Savannah College of Art and Design)\\nStatesboro (Georgia Southern University)[5]\\nValdosta (Valdosta State University)[2]\\nWaleska (Reinhardt College)[2]\\nYoung Harris (Young Harris College)[2]\\nHawaii[edit]\\nManoa (University of Hawaii at Manoa)[2]\\nIdaho[edit]\\nMoscow (University of Idaho)[2]\\nPocatello (Idaho State University)[2]\\nRexburg (BYU-Idaho)[2]\\nIllinois[edit]\\nCarbondale (Southern Illinois University Carbondale)[5]\\nChampaign–Urbana (University of Illinois at Urbana–Champaign)[5]\\nCharleston (Eastern Illinois University)[2]\\nDeKalb (Northern Illinois University)[2]\\nEdwardsville (Southern Illinois University Edwardsville)[2]\\nEvanston (Northwestern University)[2]\\nLebanon (McKendree University)[2]\\nMacomb (Western Illinois University)[2]\\nNormal (Illinois State University)[2]\\nPeoria (Bradley University)\\nIndiana[edit]\\nBloomington (Indiana University Bloomington)[5]\\nCrawfordsville (Wabash College)\\nGreencastle (DePauw University)[5]\\nHanover (Hanover College)[2]\\nMarion (Indiana Wesleyan University)[2]\\nMuncie (Ball State University)[2]\\nOakland City (Oakland City University)[2]\\nRichmond (Earlham College)[2]\\nSouth Bend (Notre Dame University[2])\\nTerre Haute (Indiana State University, Rose-Hulman Institute of Technology)[2]\\nUpland (Taylor University)[2]\\nValparaiso (Valparaiso University)\\nWest Lafayette (Purdue University)[2]\\nIowa[edit]\\nAmes (Iowa State University)[2]\\nCedar Falls (University of Northern Iowa)[2]\\nCedar Rapids, Iowa (Coe College )\\nDecorah (Luther College)[5]\\nFayette (Upper Iowa University)[2]\\nGrinnell (Grinnell College)[15]\\nIowa City (University of Iowa)[15]\\nLamoni (Graceland University)[2]\\nMount Vernon, (Cornell College)\\nOrange City (Northwestern College)[2]\\nSioux Center (Dordt College)[2]\\nStorm Lake (Buena Vista University)[2]\\nWaverly (Wartburg College)[2]\\nKansas[edit]\\nBaldwin City (Baker University)[5]\\nEmporia (Emporia State University)[2]\\nHays (Fort Hays State University)[2]\\nLawrence (University of Kansas, Haskell Indian Nations University)[15]\\nManhattan (Kansas State University, Manhattan Christian College)[15]\\nPittsburg (Pittsburg State University)[2]\\nKentucky[edit]\\nBowling Green (Western Kentucky University)[2]\\nColumbia (Lindsey Wilson College)[2]\\nGeorgetown (Georgetown College)\\nHighland Heights (Northern Kentucky University)\\nLexington (University of Kentucky, Transylvania University[5]\\nLouisville (University of Louisville)\\nMorehead (Morehead State University)[2]\\nMurray (Murray State University)[5]\\nRichmond (Eastern Kentucky University)[2]\\nWilliamsburg (University of the Cumberlands)[2]\\nWilmore (Asbury University, Asbury Theological Seminary)[2]\\nLouisiana[edit]\\nBaton Rouge (Louisiana State University, Southern University)\\nGrambling (Grambling State University)[5]\\nHammond (Southeastern Louisiana University)[2]\\nLafayette (University of Louisiana at Lafayette)\\nMonroe (University of Louisiana at Monroe)[2]\\nNatchitoches (Northwestern State University)[2]\\nRuston (Louisiana Tech University)[2]\\nThibodaux (Nicholls State University)[2]\\nMaine[edit]\\nAugusta (University of Maine at Augusta)[2]\\nBar Harbor (College of the Atlantic)\\nBrunswick (Bowdoin College)\\nFarmington (University of Maine at Farmington)[2]\\nFort Kent (University of Maine at Fort Kent)\\nGorham (University of Southern Maine)[2]\\nLewiston, Maine (Bates College)\\nOrono (University of Maine)[2]\\nWaterville (Thomas College, Colby College)\\nMaryland[edit]\\nAnnapolis (United States Naval Academy, St. John\\'s College)\\nChestertown (Washington College)[2]\\nCollege Park (University of Maryland, College Park)[16]\\nCumberland (Allegany College of Maryland)\\nEmmitsburg (Mount St. Mary\\'s University)[2]\\nFrostburg (Frostburg State University)[5]\\nPrincess Anne (University of Maryland Eastern Shore)[5]\\nTowson (Towson University, Goucher College)[2]\\nSalisbury (Salisbury University)[2]\\nWestminster (McDaniel College)\\nMassachusetts[edit]\\nBoston (Boston University, Boston College, Boston Conservatory, New England Conservatory, Brandeis University, Northeastern University, UMass Boston, Emmanuel College, Bunker Hill Community College, Roxbury Community College, Suffolk University, Simmons College, among many others)\\nBridgewater (Bridgewater State College)[2]\\nCambridge (Harvard University, Massachusetts Institute of Technology)(Lesley University, Cambridge College, Longy School of Music)[15]\\nChestnut Hill (Boston College)\\nThe Colleges of Worcester Consortium:\\nDudley (Nichols College)\\nNorth Grafton (Cummings School of Veterinary Medicine at Tufts University)\\nPaxton (Anna Maria College)\\nWorcester (Assumption, Becker, Clark University, Holy Cross, Mass. College of Pharmacy & Health Sciences, Quinsigamond Community College, UMass Medical School, Worcester State University, Worcester Polytechnic Institute)\\nThe Five College Region of Western Massachusetts:\\nAmherst (Amherst College, Hampshire College, University of Massachusetts Amherst)[15]\\nNorthampton (Smith College)\\nSouth Hadley (Mount Holyoke College)\\nFitchburg (Fitchburg State College)\\nNorth Adams (Massachusetts College of Liberal Arts)\\nSpringfield (American International College), (Springfield College), and (Western New England College)\\nWaltham (Bentley University), (Brandeis University)\\nWilliamstown (Williams College)\\nFramingham (Framingham State University)\\nMichigan[edit]\\nAdrian (Adrian College, Siena Heights University)\\nAlbion (Albion College)[17]\\nAllendale (Grand Valley State University)\\nAlma (Alma College)\\nAnn Arbor (University of Michigan)[1]\\nBerrien Springs (Andrews University)[2]\\nBig Rapids (Ferris State University)[2]\\nEast Lansing (Michigan State University)[2]\\nFlint (Kettering University, University of Michigan-Flint)\\nHillsdale (Hillsdale College)\\nHoughton (Michigan Technological University)[5]\\nKalamazoo (Western Michigan University, Kalamazoo College)[2]\\nMarquette (Northern Michigan University)[2]\\nMidland (Northwood University)\\nMount Pleasant (Central Michigan University)[2]\\nOlivet (Olivet College)[2]\\nSaginaw (Saginaw Valley State University)\\nSault Ste. Marie (Lake Superior State University)\\nSpring Arbor (Spring Arbor University)[2]\\nYpsilanti (Eastern Michigan University)[2]\\nMinnesota[edit]\\nBemidji (Bemidji State University)[2]\\nCrookston (University of Minnesota Crookston)[2]\\nDuluth (University of Minnesota Duluth, Lake Superior College, The College of St. Scholastica, University of Wisconsin–Superior, Duluth Business University\\nFaribault, South Central College\\nMankato (Minnesota State University, Mankato),[2] Bethany Lutheran College\\nMarshall (Southwest Minnesota State University)[2]\\nMoorhead (Minnesota State University, Moorhead, Concordia College)[18]\\nMorris (University of Minnesota Morris)[2]\\nNorthfield (Carleton College, St. Olaf College)[5]\\nNorth Mankato, South Central College\\nSt. Cloud (St. Cloud State University, The College of St. Scholastica)[2]\\nSt. Joseph (College of Saint Benedict)[2]\\nSt. Peter (Gustavus Adolphus College)[2]\\nWinona (Winona State University, St. Mary\\'s University of Minnesota)[19]\\nMississippi[edit]\\nCleveland (Delta State University)[2]\\nHattiesburg (University of Southern Mississippi)[20]\\nItta Bena (Mississippi Valley State University)[2]\\nOxford (University of Mississippi)[2]\\nStarkville (Mississippi State University)[2]\\nMissouri[edit]\\nBolivar (Southwest Baptist University)[2]\\nCape Girardeau (Southeast Missouri State University)[2]\\nColumbia (University of Missouri, Stephens College, Columbia College)[20]\\nFayette (Central Methodist University)[2]\\nFulton (Westminster College and William Woods University).\\nKirksville (Truman State University, A. T. Still University)[2]\\nMaryville (Northwest Missouri State University)[2]\\nRolla (Missouri University of Science and Technology)[2]\\nWarrensburg (University of Central Missouri)[5]\\nMontana[edit]\\nBozeman (Montana State University)[2]\\nDillon (University of Montana Western)[2]\\nMissoula (University of Montana)[5]\\nNebraska[edit]\\nChadron (Chadron State College)[5]\\nCrete (Doane College)[2]\\nKearney (University of Nebraska at Kearney)[2]\\nLincoln (University of Nebraska at Lincoln)[5]\\nPeru (Peru State College)[2]\\nSeward (Concordia University)[2]\\nWayne (Wayne State College)[2]\\nNevada[edit]\\nLas Vegas (University of Nevada, Las Vegas)\\nReno (University of Nevada, Reno)\\nNew Hampshire[edit]\\nNew London, New Hampshire (Colby-Sawyer College)\\nDurham (University of New Hampshire)[2]\\nHanover (Dartmouth College)[5]\\nHenniker (New England College)\\nKeene (Keene State College)[2]\\nPlymouth (Plymouth State University)[2]\\nRindge (Franklin Pierce University)\\nNew Jersey[edit]\\nEwing (The College of New Jersey), (Rider University)\\nJersey City (New Jersey City University), (Saint Peter\\'s University)\\nGlassboro (Rowan University)[2]\\nHoboken (Stevens Institute of Technology)\\nMadison (Drew University), (Fairleigh Dickinson University), (College of Saint Elizabeth)\\nNewark (Rutgers University), (New Jersey Institute of Technology), (UMDNJ)\\nNew Brunswick (Rutgers University)[5]\\nPrinceton (Princeton University)[5]\\nUnion (Kean University)\\nWest Long Branch (Monmouth University)\\nNew Mexico[edit]\\nHobbs (University of the Southwest)[2]\\nLas Cruces (New Mexico State University)[2]\\nLas Vegas (New Mexico Highlands University)[2]\\nPortales (Eastern New Mexico University)[2]\\nSilver City (Western New Mexico University)[2]\\nNew York[edit]\\nAlfred (Alfred University, Alfred State College)[2]\\nAlbany (SUNY Albany, Siena College, Albany College of Pharmacy, Albany Law School, Albany Medical College, College of Saint Rose, Excelsior College, Maria College of Albany, Mildred Elley, Sage College of Albany)\\nAurora (Wells College)[21]\\nBinghamton (Binghamton University)[2]\\nBrockport (SUNY Brockport)[5]\\nBuffalo (University at Buffalo)\\nCanton (St. Lawrence University, SUNY Canton)[2]\\nClinton (Hamilton College)[2]\\nCobleskill (SUNY Cobleskill)[2]\\nDelhi (SUNY Delhi)[2]\\nFredonia (SUNY Fredonia)[2]\\nGeneseo (SUNY Geneseo)[2]\\nGeneva (Hobart and William Smith Colleges)\\nHamilton (Colgate University)[2]\\nIthaca (Cornell University, Ithaca College)[1]\\nMorningside Heights, Manhattan (Columbia University, Barnard College, Teachers College, Manhattan School of Music, Jewish Theological Seminary, Union Theological Seminary, Bank Street College of Education)\\nNew Paltz (SUNY New Paltz)[2]\\nOneonta (SUNY Oneonta, Hartwick College)[2]\\nOswego (SUNY Oswego)[2]\\nPlattsburgh (SUNY Plattsburgh)[2]\\nPotsdam (SUNY Potsdam, Clarkson University)[2]\\nPoughkeepsie (Vassar College, Marist College)[2]\\nPurchase (Purchase College, Manhattanville College)[2]\\nRochester (University of Rochester, Rochester Institute of Technology, Nazareth College, St. John Fisher College, Monroe Community College, Roberts Wesleyan College, SUNY Brockport, SUNY Empire State College)[2]\\nSaratoga Springs (Skidmore College)[2]\\nSeneca Falls (New York Chiropractic College)\\nStony Brook (Stony Brook University)\\nSyracuse (Syracuse University, SUNY ESF, Upstate Medical University)\\nTivoli (Bard College)\\nTroy (Rensselaer Polytechnic Institute, Russell Sage College, Hudson Valley Community College)\\nWest Point (United States Military Academy)\\nNorth Carolina[edit]\\nBanner Elk (Lees-McRae College)\\nBoiling Springs (Gardner-Webb University)[2]\\nBoone (Appalachian State University)[2]\\nBuies Creek (Campbell University)[2]\\nChapel Hill (University of North Carolina at Chapel Hill)[20]\\nCullowhee (Western Carolina University)[2]\\nDavidson (Davidson College)[5]\\nDurham (Duke University, North Carolina Central University)[5]\\nElon (Elon University)[2]\\nGreensboro (University of North Carolina at Greensboro, Greensboro College, Guilford College, North Carolina A & T State University, Bennett College)\\nGreenville (East Carolina University)[2]\\nHickory (Lenoir-Rhyne University)[2]\\nMars Hill (Mars Hill College)[2]\\nMount Olive (Mount Olive College)[2]\\nPembroke (University of North Carolina at Pembroke)[2]\\nWilmington, North Carolina (University of North Carolina at Wilmington)\\nWingate (Wingate University)[2]\\nWinston-Salem (Wake Forest University, University of North Carolina School of the Arts, Salem College, Winston-Salem State University)\\nNorth Dakota[edit]\\nFargo (North Dakota State University)[18]\\nGrand Forks (University of North Dakota)[5]\\nOhio[edit]\\nAda (Ohio Northern University)[2]\\nAlliance (University of Mount Union)\\nAshland (Ashland University)[2]\\nAthens (Ohio University)[2]\\nBerea (Baldwin Wallace College)\\nBluffton (Bluffton University)[2]\\nBowling Green (Bowling Green State University)[2]\\nCedarville (Cedarville University)[2]\\nColumbus (Ohio State University)\\nDelaware (Ohio Wesleyan University)\\nFairborn (Wright State University)\\nFindlay (University of Findlay)\\nGambier (Kenyon College)[2]\\nGranville (Denison University)[2]\\nHiram (Hiram College)[2]\\nKent (Kent State University)[2]\\nNelsonville (Hocking College)[2]\\nNew Concord (Muskingum College)[2]\\nOberlin (Oberlin College)[5]\\nOxford (Miami University)[5]\\nRio Grande (University of Rio Grande)[2]\\nWilberforce (Wilberforce University, Central State University)[2]\\nOklahoma[edit]\\nAda (East Central University)[2]\\nAlva (Northwestern Oklahoma State University)[2]\\nDurant (Southeastern Oklahoma State University)[2]\\nEdmond (University of Central Oklahoma, Oklahoma Christian University)[2]\\nGoodwell (Oklahoma Panhandle State University)[2]\\nLangston (Langston University)[5]\\nNorman (University of Oklahoma)[1]\\nStillwater (Oklahoma State University)[5]\\nTahlequah (Northeastern State University)[2]\\nTulsa (The University of Tulsa)\\nWeatherford (Southwestern Oklahoma State University)\\nOregon[edit]\\nAshland (Southern Oregon University)[2]\\nCorvallis (Oregon State University)[20]\\nEugene (Lane Community College, Northwest Christian University, University of Oregon)[20]\\nForest Grove (Pacific University)\\nKlamath Falls (Klamath Community College, Oregon Institute of Technology)\\nLa Grande (Eastern Oregon University)[2]\\nMarylhurst (Marylhurst University)\\nMcMinnville (Linfield College)\\nMonmouth (Western Oregon University)[2]\\nNewberg (George Fox University)\\nPennsylvania[edit]\\nAltoona (Penn State Altoona)\\nAnnville (Lebanon Valley College)[2]\\nBethlehem (Lehigh University, Moravian College)\\nBloomsburg (Bloomsburg University of Pennsylvania)[2]\\nBradford (University of Pittsburgh at Bradford)\\nCalifornia (California University of Pennsylvania)[2]\\nCarlisle (Dickinson College)\\nCecil B. Moore, Philadelphia, also known as \"Templetown\" (Temple University)\\nClarion (Clarion University of Pennsylvania)[2]\\nCollegeville (Ursinus College)\\nCresson (Mount Aloysius College)[2]\\nEast Stroudsburg (East Stroudsburg University of Pennsylvania)[2]\\nEdinboro (Edinboro University of Pennsylvania)[2]\\nErie (Gannon University, Mercyhurst College, Penn State Erie)\\nGettysburg (Gettysburg College)[2]\\nGreensburg (Seton Hill University, University of Pittsburgh at Greensburg)\\nGrove City (Grove City College)[2]\\nHuntingdon (Juniata College)[2]\\nIndiana (Indiana University of Pennsylvania)[2]\\nJohnstown (University of Pittsburgh at Johnstown)\\nKutztown (Kutztown University of Pennsylvania)[2]\\nLancaster (Franklin & Marshall)\\nLewisburg (Bucknell University)[5]\\nLock Haven (Lock Haven University of Pennsylvania)[2]\\nLoretto (St. Francis University)[2]\\nMansfield (Mansfield University of Pennsylvania)[2]\\nMeadville (Allegheny College)\\nMont Alto (Penn State Mont Alto)\\nMillersville (Millersville University of Pennsylvania)[2]\\nNew Wilmington (Westminster College)[2]\\nNorth East (Mercyhurst North East)\\nUniversity City, Philadelphia (Drexel University, University of Pennsylvania, University of the Sciences in Philadelphia)\\nOakland, Pittsburgh (Carnegie Mellon University, University of Pittsburgh, Carlow University)\\nReading (Albright College, Alvernia University, Penn State Berks)\\nSelinsgrove (Susquehanna University)[2]\\nShippensburg (Shippensburg University of Pennsylvania)[2]\\nSlippery Rock (Slippery Rock University of Pennsylvania)[2]\\nState College (Pennsylvania State University)[22]\\nVillanova (Villanova University)\\nWaynesburg (Waynesburg University)\\nWest Chester (West Chester University of Pennsylvania)\\nWilkes-Barre (King\\'s College, Wilkes University)\\nWilliamsport (Lycoming College, Pennsylvania College of Technology)[2]\\nRhode Island[edit]\\nKingston (University of Rhode Island)[2]\\nProvidence (Brown University, (University of Rhode Island), Rhode Island School of Design, Johnson and Wales University, Providence College, Community College of Rhode Island, Rhode Island College, and Roger Williams University.)\\nSouth Carolina[edit]\\nCentral (Southern Wesleyan University)[2]\\nCharleston (College of Charleston, The Citadel, MUSC)\\nClemson (Clemson University)[2]\\nClinton (Presbyterian College)\\nColumbia (University of South Carolina)[14]\\nDue West (Erskine College)\\nFlorence (Francis Marion University)\\nGreenwood (Lander University)\\nOrangeburg (South Carolina State University, Claflin University)[2]\\nRock Hill (Winthrop University)\\nSpartanburg (Wofford College, Converse College, University of South Carolina Upstate, Spartanburg Methodist College, Edward Via College of Osteopathic Medicine, Spartanburg Community College, Virginia College, Sherman College of Chiropractic)\\nSouth Dakota[edit]\\nBrookings (South Dakota State University)[2]\\nMadison (Dakota State University)\\nSpearfish (Black Hills State University)\\nVermillion (University of South Dakota)[5]\\nTennessee[edit]\\nChattanooga (University of Tennessee at Chattanooga)\\nCollegedale (Southern Adventist University)\\nCookeville (Tennessee Technological University)[2]\\nHarrogate (Lincoln Memorial University)[2]\\nHenderson (Freed-Hardeman University)[2]\\nJohnson City (East Tennessee State University)\\nKnoxville (University of Tennessee)\\nMartin (University of Tennessee at Martin)[2]\\nMcKenzie (Bethel University)[2]\\nMemphis (Christian Brothers University, LeMoyne-Owen College, Memphis College of Art, Memphis Theological Seminary, Rhodes College, Southern College of Optometry, Southwest Tennessee Community College, University of Memphis, University of Tennessee Health Science Center, Visible Music College)\\nMurfreesboro (Middle Tennessee State University)[2]\\nNashville (Vanderbilt University, Belmont University, Tennessee State University, Lipscomb University, Fisk University, Aquinas College, Trevecca Nazarene University)\\nSewanee (Sewanee: the University of the South)[2]\\nTexas[edit]\\nAbilene (Abilene Christian University, Hardin-Simmons University, McMurry University)\\nAlpine (Sul Ross State University)[2]\\nAustin (University of Texas at Austin, St. Edwards University, Huston-Tillotson University)[2]\\nBeaumont (Lamar University)\\nCanyon (West Texas A&M University)[2]\\nCollege Station (Texas A&M University)[5]\\nCommerce (Texas A&M University–Commerce)[2]\\nDallas (Southern Methodist University)\\nDenton (University of North Texas, Texas Woman\\'s University)[2]\\nFort Worth (Texas Christian University, Texas Wesleyan University)\\nGeorgetown (Southwestern University)\\nHuntsville (Sam Houston State University)[2]\\nHouston (University of Houston, Texas Southern University, Rice University, Houston Baptist University)\\nKeene (Southwestern Adventist University)[2]\\nKingsville (Texas A&M University–Kingsville)[2]\\nLubbock (Texas Tech University, Lubbock Christian University)\\nNacogdoches (Stephen F. Austin State University)[2]\\nPlainview (Wayland Baptist University)[2]\\nPrairie View (Prairie View A&M University)[2]\\nSan Marcos (Texas State University)[5]\\nStephenville (Tarleton State University)[2]\\nWaco (Baylor University)\\nUtah[edit]\\nCedar City (Southern Utah University)[2]\\nLogan (Utah State University)[2]\\nProvo (Brigham Young University)[5]\\nOrem (Utah Valley University)\\nSalt Lake City (University of Utah)\\nEphraim (Snow College)\\nVermont[edit]\\nBurlington (University of Vermont, Champlain College and Saint Michael\\'s College)[2]\\nCastleton (Castleton State College)[2]\\nJohnson (Johnson State College)[2]\\nLyndonville (Lyndon State College)[2]\\nMiddlebury (Middlebury College)[2]\\nNorthfield (Norwich University)[2]\\nVirginia[edit]\\nBlacksburg (Virginia Polytechnic Institute and State University)[5]\\nBridgewater (Bridgewater College)[2]\\nCharlottesville (University of Virginia)[23]\\nFarmville (Longwood University, Hampden-Sydney College)[2]\\nFredericksburg (University of Mary Washington)[2]\\nHarrisonburg (James Madison University, Eastern Mennonite University)[2]\\nLexington (Washington and Lee University, Virginia Military Institute)[2]\\nLynchburg (Lynchburg College, Randolph College, Liberty University, Central Virginia Community College)\\nRadford (Radford University)[2]\\nWilliamsburg (The College of William & Mary)[2]\\nWise (University of Virginia\\'s College at Wise)[2]\\nChesapeake (Averett University, DeVry University, Troy University, Tidewater Community College, Strayer University, Everest University, Sentera College of Health Sciences, St Leo University)[2]\\nWashington[edit]\\nBellingham (Western Washington University)\\nCheney (Eastern Washington University)[2]\\nEllensburg (Central Washington University)[5]\\nPullman (Washington State University)[5]\\nUniversity District, Seattle (University of Washington)[5]\\nWest Virginia[edit]\\nAthens (Concord University)[2]\\nBuckhannon (West Virginia Wesleyan College)[2]\\nFairmont (Fairmont State University)[2]\\nGlenville (Glenville State College)[2]\\nHuntington (Marshall University)[2]\\nMontgomery (West Virginia University Institute of Technology)[2]\\nMorgantown (West Virginia University)[2]\\nShepherdstown (Shepherd University)[2]\\nWest Liberty (West Liberty University)[2]\\nWisconsin[edit]\\nAppleton (Lawrence University)\\nEau Claire (University of Wisconsin–Eau Claire)\\nGreen Bay (University of Wisconsin-Green Bay)\\nLa Crosse (University of Wisconsin–La Crosse, Western Technical College, Viterbo University)[2]\\nMadison (University of Wisconsin–Madison)[2]\\nMenomonie (University of Wisconsin–Stout)[2]\\nMilwaukee (Marquette University, University of Wisconsin–Milwaukee)\\nOshkosh (University of Wisconsin–Oshkosh)\\nPlatteville (University of Wisconsin–Platteville)[2]\\nRiver Falls (University of Wisconsin–River Falls)[2]\\nStevens Point (University of Wisconsin–Stevens Point)[2]\\nWaukesha (Carroll University)\\nWhitewater (University of Wisconsin–Whitewater)[2]\\nWyoming[edit]\\nLaramie (University of Wyoming)[5]\\n'",
     "output_type": "error",
     "traceback": [
      "\u001b[0;31m---------------------------------------------------------------------------\u001b[0m",
      "\u001b[0;31mOSError\u001b[0m                                   Traceback (most recent call last)",
      "Cell \u001b[0;32mIn[240], line 8\u001b[0m\n\u001b[1;32m      6\u001b[0m     data \u001b[38;5;241m=\u001b[39m blob\u001b[38;5;241m.\u001b[39mdownload_as_string()\n\u001b[1;32m      7\u001b[0m     data1 \u001b[38;5;241m=\u001b[39m data\u001b[38;5;241m.\u001b[39mdecode(\u001b[38;5;124m\"\u001b[39m\u001b[38;5;124mutf-8\u001b[39m\u001b[38;5;124m\"\u001b[39m)\n\u001b[0;32m----> 8\u001b[0m     df_town \u001b[38;5;241m=\u001b[39m \u001b[43mpd\u001b[49m\u001b[38;5;241;43m.\u001b[39;49m\u001b[43mread_csv\u001b[49m\u001b[43m(\u001b[49m\u001b[43mdata1\u001b[49m\u001b[43m,\u001b[49m\u001b[43m \u001b[49m\u001b[43msep\u001b[49m\u001b[38;5;241;43m=\u001b[39;49m\u001b[38;5;124;43m\"\u001b[39;49m\u001b[38;5;124;43m\\\u001b[39;49m\u001b[38;5;124;43ms\u001b[39;49m\u001b[38;5;124;43m\"\u001b[39;49m\u001b[43m,\u001b[49m\u001b[43m \u001b[49m\u001b[43mengine\u001b[49m\u001b[38;5;241;43m=\u001b[39;49m\u001b[38;5;124;43m'\u001b[39;49m\u001b[38;5;124;43mpython\u001b[39;49m\u001b[38;5;124;43m'\u001b[39;49m\u001b[43m)\u001b[49m    \n\u001b[1;32m     11\u001b[0m \u001b[38;5;66;03m#df_town\u001b[39;00m\n\u001b[1;32m     12\u001b[0m \n\u001b[1;32m     13\u001b[0m \u001b[38;5;66;03m#for line in data1:\u001b[39;00m\n\u001b[0;32m   (...)\u001b[0m\n\u001b[1;32m     16\u001b[0m \u001b[38;5;66;03m#for line in data1:\u001b[39;00m\n\u001b[1;32m     17\u001b[0m  \u001b[38;5;66;03m#   print(line)\u001b[39;00m\n",
      "File \u001b[0;32m/opt/conda/lib/python3.10/site-packages/pandas/io/parsers/readers.py:912\u001b[0m, in \u001b[0;36mread_csv\u001b[0;34m(filepath_or_buffer, sep, delimiter, header, names, index_col, usecols, dtype, engine, converters, true_values, false_values, skipinitialspace, skiprows, skipfooter, nrows, na_values, keep_default_na, na_filter, verbose, skip_blank_lines, parse_dates, infer_datetime_format, keep_date_col, date_parser, date_format, dayfirst, cache_dates, iterator, chunksize, compression, thousands, decimal, lineterminator, quotechar, quoting, doublequote, escapechar, comment, encoding, encoding_errors, dialect, on_bad_lines, delim_whitespace, low_memory, memory_map, float_precision, storage_options, dtype_backend)\u001b[0m\n\u001b[1;32m    899\u001b[0m kwds_defaults \u001b[38;5;241m=\u001b[39m _refine_defaults_read(\n\u001b[1;32m    900\u001b[0m     dialect,\n\u001b[1;32m    901\u001b[0m     delimiter,\n\u001b[0;32m   (...)\u001b[0m\n\u001b[1;32m    908\u001b[0m     dtype_backend\u001b[38;5;241m=\u001b[39mdtype_backend,\n\u001b[1;32m    909\u001b[0m )\n\u001b[1;32m    910\u001b[0m kwds\u001b[38;5;241m.\u001b[39mupdate(kwds_defaults)\n\u001b[0;32m--> 912\u001b[0m \u001b[38;5;28;01mreturn\u001b[39;00m \u001b[43m_read\u001b[49m\u001b[43m(\u001b[49m\u001b[43mfilepath_or_buffer\u001b[49m\u001b[43m,\u001b[49m\u001b[43m \u001b[49m\u001b[43mkwds\u001b[49m\u001b[43m)\u001b[49m\n",
      "File \u001b[0;32m/opt/conda/lib/python3.10/site-packages/pandas/io/parsers/readers.py:577\u001b[0m, in \u001b[0;36m_read\u001b[0;34m(filepath_or_buffer, kwds)\u001b[0m\n\u001b[1;32m    574\u001b[0m _validate_names(kwds\u001b[38;5;241m.\u001b[39mget(\u001b[38;5;124m\"\u001b[39m\u001b[38;5;124mnames\u001b[39m\u001b[38;5;124m\"\u001b[39m, \u001b[38;5;28;01mNone\u001b[39;00m))\n\u001b[1;32m    576\u001b[0m \u001b[38;5;66;03m# Create the parser.\u001b[39;00m\n\u001b[0;32m--> 577\u001b[0m parser \u001b[38;5;241m=\u001b[39m \u001b[43mTextFileReader\u001b[49m\u001b[43m(\u001b[49m\u001b[43mfilepath_or_buffer\u001b[49m\u001b[43m,\u001b[49m\u001b[43m \u001b[49m\u001b[38;5;241;43m*\u001b[39;49m\u001b[38;5;241;43m*\u001b[39;49m\u001b[43mkwds\u001b[49m\u001b[43m)\u001b[49m\n\u001b[1;32m    579\u001b[0m \u001b[38;5;28;01mif\u001b[39;00m chunksize \u001b[38;5;129;01mor\u001b[39;00m iterator:\n\u001b[1;32m    580\u001b[0m     \u001b[38;5;28;01mreturn\u001b[39;00m parser\n",
      "File \u001b[0;32m/opt/conda/lib/python3.10/site-packages/pandas/io/parsers/readers.py:1407\u001b[0m, in \u001b[0;36mTextFileReader.__init__\u001b[0;34m(self, f, engine, **kwds)\u001b[0m\n\u001b[1;32m   1404\u001b[0m     \u001b[38;5;28mself\u001b[39m\u001b[38;5;241m.\u001b[39moptions[\u001b[38;5;124m\"\u001b[39m\u001b[38;5;124mhas_index_names\u001b[39m\u001b[38;5;124m\"\u001b[39m] \u001b[38;5;241m=\u001b[39m kwds[\u001b[38;5;124m\"\u001b[39m\u001b[38;5;124mhas_index_names\u001b[39m\u001b[38;5;124m\"\u001b[39m]\n\u001b[1;32m   1406\u001b[0m \u001b[38;5;28mself\u001b[39m\u001b[38;5;241m.\u001b[39mhandles: IOHandles \u001b[38;5;241m|\u001b[39m \u001b[38;5;28;01mNone\u001b[39;00m \u001b[38;5;241m=\u001b[39m \u001b[38;5;28;01mNone\u001b[39;00m\n\u001b[0;32m-> 1407\u001b[0m \u001b[38;5;28mself\u001b[39m\u001b[38;5;241m.\u001b[39m_engine \u001b[38;5;241m=\u001b[39m \u001b[38;5;28;43mself\u001b[39;49m\u001b[38;5;241;43m.\u001b[39;49m\u001b[43m_make_engine\u001b[49m\u001b[43m(\u001b[49m\u001b[43mf\u001b[49m\u001b[43m,\u001b[49m\u001b[43m \u001b[49m\u001b[38;5;28;43mself\u001b[39;49m\u001b[38;5;241;43m.\u001b[39;49m\u001b[43mengine\u001b[49m\u001b[43m)\u001b[49m\n",
      "File \u001b[0;32m/opt/conda/lib/python3.10/site-packages/pandas/io/parsers/readers.py:1661\u001b[0m, in \u001b[0;36mTextFileReader._make_engine\u001b[0;34m(self, f, engine)\u001b[0m\n\u001b[1;32m   1659\u001b[0m     \u001b[38;5;28;01mif\u001b[39;00m \u001b[38;5;124m\"\u001b[39m\u001b[38;5;124mb\u001b[39m\u001b[38;5;124m\"\u001b[39m \u001b[38;5;129;01mnot\u001b[39;00m \u001b[38;5;129;01min\u001b[39;00m mode:\n\u001b[1;32m   1660\u001b[0m         mode \u001b[38;5;241m+\u001b[39m\u001b[38;5;241m=\u001b[39m \u001b[38;5;124m\"\u001b[39m\u001b[38;5;124mb\u001b[39m\u001b[38;5;124m\"\u001b[39m\n\u001b[0;32m-> 1661\u001b[0m \u001b[38;5;28mself\u001b[39m\u001b[38;5;241m.\u001b[39mhandles \u001b[38;5;241m=\u001b[39m \u001b[43mget_handle\u001b[49m\u001b[43m(\u001b[49m\n\u001b[1;32m   1662\u001b[0m \u001b[43m    \u001b[49m\u001b[43mf\u001b[49m\u001b[43m,\u001b[49m\n\u001b[1;32m   1663\u001b[0m \u001b[43m    \u001b[49m\u001b[43mmode\u001b[49m\u001b[43m,\u001b[49m\n\u001b[1;32m   1664\u001b[0m \u001b[43m    \u001b[49m\u001b[43mencoding\u001b[49m\u001b[38;5;241;43m=\u001b[39;49m\u001b[38;5;28;43mself\u001b[39;49m\u001b[38;5;241;43m.\u001b[39;49m\u001b[43moptions\u001b[49m\u001b[38;5;241;43m.\u001b[39;49m\u001b[43mget\u001b[49m\u001b[43m(\u001b[49m\u001b[38;5;124;43m\"\u001b[39;49m\u001b[38;5;124;43mencoding\u001b[39;49m\u001b[38;5;124;43m\"\u001b[39;49m\u001b[43m,\u001b[49m\u001b[43m \u001b[49m\u001b[38;5;28;43;01mNone\u001b[39;49;00m\u001b[43m)\u001b[49m\u001b[43m,\u001b[49m\n\u001b[1;32m   1665\u001b[0m \u001b[43m    \u001b[49m\u001b[43mcompression\u001b[49m\u001b[38;5;241;43m=\u001b[39;49m\u001b[38;5;28;43mself\u001b[39;49m\u001b[38;5;241;43m.\u001b[39;49m\u001b[43moptions\u001b[49m\u001b[38;5;241;43m.\u001b[39;49m\u001b[43mget\u001b[49m\u001b[43m(\u001b[49m\u001b[38;5;124;43m\"\u001b[39;49m\u001b[38;5;124;43mcompression\u001b[39;49m\u001b[38;5;124;43m\"\u001b[39;49m\u001b[43m,\u001b[49m\u001b[43m \u001b[49m\u001b[38;5;28;43;01mNone\u001b[39;49;00m\u001b[43m)\u001b[49m\u001b[43m,\u001b[49m\n\u001b[1;32m   1666\u001b[0m \u001b[43m    \u001b[49m\u001b[43mmemory_map\u001b[49m\u001b[38;5;241;43m=\u001b[39;49m\u001b[38;5;28;43mself\u001b[39;49m\u001b[38;5;241;43m.\u001b[39;49m\u001b[43moptions\u001b[49m\u001b[38;5;241;43m.\u001b[39;49m\u001b[43mget\u001b[49m\u001b[43m(\u001b[49m\u001b[38;5;124;43m\"\u001b[39;49m\u001b[38;5;124;43mmemory_map\u001b[39;49m\u001b[38;5;124;43m\"\u001b[39;49m\u001b[43m,\u001b[49m\u001b[43m \u001b[49m\u001b[38;5;28;43;01mFalse\u001b[39;49;00m\u001b[43m)\u001b[49m\u001b[43m,\u001b[49m\n\u001b[1;32m   1667\u001b[0m \u001b[43m    \u001b[49m\u001b[43mis_text\u001b[49m\u001b[38;5;241;43m=\u001b[39;49m\u001b[43mis_text\u001b[49m\u001b[43m,\u001b[49m\n\u001b[1;32m   1668\u001b[0m \u001b[43m    \u001b[49m\u001b[43merrors\u001b[49m\u001b[38;5;241;43m=\u001b[39;49m\u001b[38;5;28;43mself\u001b[39;49m\u001b[38;5;241;43m.\u001b[39;49m\u001b[43moptions\u001b[49m\u001b[38;5;241;43m.\u001b[39;49m\u001b[43mget\u001b[49m\u001b[43m(\u001b[49m\u001b[38;5;124;43m\"\u001b[39;49m\u001b[38;5;124;43mencoding_errors\u001b[39;49m\u001b[38;5;124;43m\"\u001b[39;49m\u001b[43m,\u001b[49m\u001b[43m \u001b[49m\u001b[38;5;124;43m\"\u001b[39;49m\u001b[38;5;124;43mstrict\u001b[39;49m\u001b[38;5;124;43m\"\u001b[39;49m\u001b[43m)\u001b[49m\u001b[43m,\u001b[49m\n\u001b[1;32m   1669\u001b[0m \u001b[43m    \u001b[49m\u001b[43mstorage_options\u001b[49m\u001b[38;5;241;43m=\u001b[39;49m\u001b[38;5;28;43mself\u001b[39;49m\u001b[38;5;241;43m.\u001b[39;49m\u001b[43moptions\u001b[49m\u001b[38;5;241;43m.\u001b[39;49m\u001b[43mget\u001b[49m\u001b[43m(\u001b[49m\u001b[38;5;124;43m\"\u001b[39;49m\u001b[38;5;124;43mstorage_options\u001b[39;49m\u001b[38;5;124;43m\"\u001b[39;49m\u001b[43m,\u001b[49m\u001b[43m \u001b[49m\u001b[38;5;28;43;01mNone\u001b[39;49;00m\u001b[43m)\u001b[49m\u001b[43m,\u001b[49m\n\u001b[1;32m   1670\u001b[0m \u001b[43m\u001b[49m\u001b[43m)\u001b[49m\n\u001b[1;32m   1671\u001b[0m \u001b[38;5;28;01massert\u001b[39;00m \u001b[38;5;28mself\u001b[39m\u001b[38;5;241m.\u001b[39mhandles \u001b[38;5;129;01mis\u001b[39;00m \u001b[38;5;129;01mnot\u001b[39;00m \u001b[38;5;28;01mNone\u001b[39;00m\n\u001b[1;32m   1672\u001b[0m f \u001b[38;5;241m=\u001b[39m \u001b[38;5;28mself\u001b[39m\u001b[38;5;241m.\u001b[39mhandles\u001b[38;5;241m.\u001b[39mhandle\n",
      "File \u001b[0;32m/opt/conda/lib/python3.10/site-packages/pandas/io/common.py:859\u001b[0m, in \u001b[0;36mget_handle\u001b[0;34m(path_or_buf, mode, encoding, compression, memory_map, is_text, errors, storage_options)\u001b[0m\n\u001b[1;32m    854\u001b[0m \u001b[38;5;28;01melif\u001b[39;00m \u001b[38;5;28misinstance\u001b[39m(handle, \u001b[38;5;28mstr\u001b[39m):\n\u001b[1;32m    855\u001b[0m     \u001b[38;5;66;03m# Check whether the filename is to be opened in binary mode.\u001b[39;00m\n\u001b[1;32m    856\u001b[0m     \u001b[38;5;66;03m# Binary mode does not support 'encoding' and 'newline'.\u001b[39;00m\n\u001b[1;32m    857\u001b[0m     \u001b[38;5;28;01mif\u001b[39;00m ioargs\u001b[38;5;241m.\u001b[39mencoding \u001b[38;5;129;01mand\u001b[39;00m \u001b[38;5;124m\"\u001b[39m\u001b[38;5;124mb\u001b[39m\u001b[38;5;124m\"\u001b[39m \u001b[38;5;129;01mnot\u001b[39;00m \u001b[38;5;129;01min\u001b[39;00m ioargs\u001b[38;5;241m.\u001b[39mmode:\n\u001b[1;32m    858\u001b[0m         \u001b[38;5;66;03m# Encoding\u001b[39;00m\n\u001b[0;32m--> 859\u001b[0m         handle \u001b[38;5;241m=\u001b[39m \u001b[38;5;28;43mopen\u001b[39;49m\u001b[43m(\u001b[49m\n\u001b[1;32m    860\u001b[0m \u001b[43m            \u001b[49m\u001b[43mhandle\u001b[49m\u001b[43m,\u001b[49m\n\u001b[1;32m    861\u001b[0m \u001b[43m            \u001b[49m\u001b[43mioargs\u001b[49m\u001b[38;5;241;43m.\u001b[39;49m\u001b[43mmode\u001b[49m\u001b[43m,\u001b[49m\n\u001b[1;32m    862\u001b[0m \u001b[43m            \u001b[49m\u001b[43mencoding\u001b[49m\u001b[38;5;241;43m=\u001b[39;49m\u001b[43mioargs\u001b[49m\u001b[38;5;241;43m.\u001b[39;49m\u001b[43mencoding\u001b[49m\u001b[43m,\u001b[49m\n\u001b[1;32m    863\u001b[0m \u001b[43m            \u001b[49m\u001b[43merrors\u001b[49m\u001b[38;5;241;43m=\u001b[39;49m\u001b[43merrors\u001b[49m\u001b[43m,\u001b[49m\n\u001b[1;32m    864\u001b[0m \u001b[43m            \u001b[49m\u001b[43mnewline\u001b[49m\u001b[38;5;241;43m=\u001b[39;49m\u001b[38;5;124;43m\"\u001b[39;49m\u001b[38;5;124;43m\"\u001b[39;49m\u001b[43m,\u001b[49m\n\u001b[1;32m    865\u001b[0m \u001b[43m        \u001b[49m\u001b[43m)\u001b[49m\n\u001b[1;32m    866\u001b[0m     \u001b[38;5;28;01melse\u001b[39;00m:\n\u001b[1;32m    867\u001b[0m         \u001b[38;5;66;03m# Binary mode\u001b[39;00m\n\u001b[1;32m    868\u001b[0m         handle \u001b[38;5;241m=\u001b[39m \u001b[38;5;28mopen\u001b[39m(handle, ioargs\u001b[38;5;241m.\u001b[39mmode)\n",
      "\u001b[0;31mOSError\u001b[0m: [Errno 36] File name too long: 'Alabama[edit]\\nAuburn (Auburn University)[1]\\nFlorence (University of North Alabama)\\nJacksonville (Jacksonville State University)[2]\\nLivingston (University of West Alabama)[2]\\nMontevallo (University of Montevallo)[2]\\nTroy (Troy University)[2]\\nTuscaloosa (University of Alabama, Stillman College, Shelton State)[3][4]\\nTuskegee (Tuskegee University)[5]\\nAlaska[edit]\\nFairbanks (University of Alaska Fairbanks)[2]\\nArizona[edit]\\nFlagstaff (Northern Arizona University)[6]\\nTempe (Arizona State University)\\nTucson (University of Arizona)\\nArkansas[edit]\\nArkadelphia (Henderson State University, Ouachita Baptist University)[2]\\nConway (Central Baptist College, Hendrix College, University of Central Arkansas)[2]\\nFayetteville (University of Arkansas)[7]\\nJonesboro (Arkansas State University)[8]\\nMagnolia (Southern Arkansas University)[2]\\nMonticello (University of Arkansas at Monticello)[2]\\nRussellville (Arkansas Tech University)[2]\\nSearcy (Harding University)[5]\\nCalifornia[edit]\\nAngwin (Pacific Union College)[2]\\nArcata (Humboldt State University)[5]\\nBerkeley (University of California, Berkeley)[5]\\nChico (California State University, Chico)[2]\\nClaremont (Claremont McKenna College, Pomona College, Harvey Mudd College, Scripps College, Pitzer College, Keck Graduate Institute, Claremont Graduate University)[5]\\nCotati (California State University, Sonoma)[2]\\nDavis (University of California, Davis)[1]\\nIrvine (University of California, Irvine)\\nIsla Vista (University of California, Santa Barbara)[2]\\nUniversity Park, Los Angeles (University of Southern California)\\nMerced (University of California, Merced)\\nOrange (Chapman University)\\nPalo Alto (Stanford University)\\nPomona (Cal Poly Pomona, WesternU)[9][10][11] and formerly Pomona College\\nRedlands (University of Redlands)\\nRiverside (University of California, Riverside, California Baptist University, La Sierra University)\\nSacramento (California State University, Sacramento)\\nUniversity District, San Bernardino (California State University, San Bernardino, American Sports University)\\nSan Diego (University of California, San Diego, San Diego State University)\\nSan Luis Obispo (California Polytechnic State University)[2]\\nSanta Barbara (Fielding Graduate University, Santa Barbara City College, University of California, Santa Barbara, Westmont College)[2]\\nSanta Cruz (University of California, Santa Cruz)[2]\\nTurlock (California State University, Stanislaus)\\nWestwood, Los Angeles (University of California, Los Angeles)[2]\\nWhittier (Whittier CollegeRio Hondo College)\\nColorado[edit]\\nAlamosa (Adams State College)[2]\\nBoulder (University of Colorado at Boulder)[12]\\nDurango (Fort Lewis College)[2]\\nFort Collins (Colorado State University)[13]\\nGolden (Colorado School of Mines)\\nGrand Junction (Colorado Mesa University)\\nGreeley (University of Northern Colorado)\\nGunnison (Western State College)[2]\\nPueblo, Colorado (Colorado State University-Pueblo)\\nConnecticut[edit]\\nFairfield (Fairfield University, Sacred Heart University)\\nMiddletown (Wesleyan University)\\nNew Britain (Central Connecticut State University)\\nNew Haven (Yale University, University of New Haven, Southern Connecticut State University, Albertus Magnus College, Quinnipiac University)[14]\\nNew London (Connecticut College, US Coast Guard Academy, Mitchell College)[2]\\nStorrs (University of Connecticut)[2]\\nWillimantic (Eastern Connecticut State University)[2]\\nDelaware[edit]\\nDover (Delaware State University)[1]\\nNewark (University of Delaware)[1]\\nFlorida[edit]\\nAve Maria (Ave Maria University)\\nBoca Raton (Florida Atlantic University)\\nCoral Gables (University of Miami)\\nDeLand (Stetson University)[5]\\nEstero (Florida Gulf Coast University)\\nGainesville (University of Florida, Santa Fe College)\\nOrlando (University of Central Florida)\\nSarasota (New College of Florida, Ringling College of Art and Design, State College of Florida, Manatee-Sarasota, University of South Florida Sarasota-Manatee)\\nSt. Augustine (Flagler College)\\nSt. Leo (St. Leo University)\\nTallahassee (Florida State University, Florida A&M University)\\nTampa (University of South Florida)\\nGeorgia[edit]\\nAlbany (Albany State University)\\nAthens (University of Georgia)[15]\\nAtlanta (Georgia State University, Georgia Tech, Emory)[2]\\nCarrollton (University of West Georgia)[2]*Dahlonega (North Georgia College & State University)[2]\\nDemorest (Piedmont College)[2]\\nFort Valley (Fort Valley State University)[2]\\nKennesaw (Kennesaw State University)\\nMilledgeville (Georgia College & State University)[2]\\nMount Vernon (Brewton-Parker College)[2]\\nOxford (Oxford College)\\nRome (Berry College, Shorter University)\\nSavannah (Armstrong Atlantic State University, Savannah State University, Savannah College of Art and Design)\\nStatesboro (Georgia Southern University)[5]\\nValdosta (Valdosta State University)[2]\\nWaleska (Reinhardt College)[2]\\nYoung Harris (Young Harris College)[2]\\nHawaii[edit]\\nManoa (University of Hawaii at Manoa)[2]\\nIdaho[edit]\\nMoscow (University of Idaho)[2]\\nPocatello (Idaho State University)[2]\\nRexburg (BYU-Idaho)[2]\\nIllinois[edit]\\nCarbondale (Southern Illinois University Carbondale)[5]\\nChampaign–Urbana (University of Illinois at Urbana–Champaign)[5]\\nCharleston (Eastern Illinois University)[2]\\nDeKalb (Northern Illinois University)[2]\\nEdwardsville (Southern Illinois University Edwardsville)[2]\\nEvanston (Northwestern University)[2]\\nLebanon (McKendree University)[2]\\nMacomb (Western Illinois University)[2]\\nNormal (Illinois State University)[2]\\nPeoria (Bradley University)\\nIndiana[edit]\\nBloomington (Indiana University Bloomington)[5]\\nCrawfordsville (Wabash College)\\nGreencastle (DePauw University)[5]\\nHanover (Hanover College)[2]\\nMarion (Indiana Wesleyan University)[2]\\nMuncie (Ball State University)[2]\\nOakland City (Oakland City University)[2]\\nRichmond (Earlham College)[2]\\nSouth Bend (Notre Dame University[2])\\nTerre Haute (Indiana State University, Rose-Hulman Institute of Technology)[2]\\nUpland (Taylor University)[2]\\nValparaiso (Valparaiso University)\\nWest Lafayette (Purdue University)[2]\\nIowa[edit]\\nAmes (Iowa State University)[2]\\nCedar Falls (University of Northern Iowa)[2]\\nCedar Rapids, Iowa (Coe College )\\nDecorah (Luther College)[5]\\nFayette (Upper Iowa University)[2]\\nGrinnell (Grinnell College)[15]\\nIowa City (University of Iowa)[15]\\nLamoni (Graceland University)[2]\\nMount Vernon, (Cornell College)\\nOrange City (Northwestern College)[2]\\nSioux Center (Dordt College)[2]\\nStorm Lake (Buena Vista University)[2]\\nWaverly (Wartburg College)[2]\\nKansas[edit]\\nBaldwin City (Baker University)[5]\\nEmporia (Emporia State University)[2]\\nHays (Fort Hays State University)[2]\\nLawrence (University of Kansas, Haskell Indian Nations University)[15]\\nManhattan (Kansas State University, Manhattan Christian College)[15]\\nPittsburg (Pittsburg State University)[2]\\nKentucky[edit]\\nBowling Green (Western Kentucky University)[2]\\nColumbia (Lindsey Wilson College)[2]\\nGeorgetown (Georgetown College)\\nHighland Heights (Northern Kentucky University)\\nLexington (University of Kentucky, Transylvania University[5]\\nLouisville (University of Louisville)\\nMorehead (Morehead State University)[2]\\nMurray (Murray State University)[5]\\nRichmond (Eastern Kentucky University)[2]\\nWilliamsburg (University of the Cumberlands)[2]\\nWilmore (Asbury University, Asbury Theological Seminary)[2]\\nLouisiana[edit]\\nBaton Rouge (Louisiana State University, Southern University)\\nGrambling (Grambling State University)[5]\\nHammond (Southeastern Louisiana University)[2]\\nLafayette (University of Louisiana at Lafayette)\\nMonroe (University of Louisiana at Monroe)[2]\\nNatchitoches (Northwestern State University)[2]\\nRuston (Louisiana Tech University)[2]\\nThibodaux (Nicholls State University)[2]\\nMaine[edit]\\nAugusta (University of Maine at Augusta)[2]\\nBar Harbor (College of the Atlantic)\\nBrunswick (Bowdoin College)\\nFarmington (University of Maine at Farmington)[2]\\nFort Kent (University of Maine at Fort Kent)\\nGorham (University of Southern Maine)[2]\\nLewiston, Maine (Bates College)\\nOrono (University of Maine)[2]\\nWaterville (Thomas College, Colby College)\\nMaryland[edit]\\nAnnapolis (United States Naval Academy, St. John\\'s College)\\nChestertown (Washington College)[2]\\nCollege Park (University of Maryland, College Park)[16]\\nCumberland (Allegany College of Maryland)\\nEmmitsburg (Mount St. Mary\\'s University)[2]\\nFrostburg (Frostburg State University)[5]\\nPrincess Anne (University of Maryland Eastern Shore)[5]\\nTowson (Towson University, Goucher College)[2]\\nSalisbury (Salisbury University)[2]\\nWestminster (McDaniel College)\\nMassachusetts[edit]\\nBoston (Boston University, Boston College, Boston Conservatory, New England Conservatory, Brandeis University, Northeastern University, UMass Boston, Emmanuel College, Bunker Hill Community College, Roxbury Community College, Suffolk University, Simmons College, among many others)\\nBridgewater (Bridgewater State College)[2]\\nCambridge (Harvard University, Massachusetts Institute of Technology)(Lesley University, Cambridge College, Longy School of Music)[15]\\nChestnut Hill (Boston College)\\nThe Colleges of Worcester Consortium:\\nDudley (Nichols College)\\nNorth Grafton (Cummings School of Veterinary Medicine at Tufts University)\\nPaxton (Anna Maria College)\\nWorcester (Assumption, Becker, Clark University, Holy Cross, Mass. College of Pharmacy & Health Sciences, Quinsigamond Community College, UMass Medical School, Worcester State University, Worcester Polytechnic Institute)\\nThe Five College Region of Western Massachusetts:\\nAmherst (Amherst College, Hampshire College, University of Massachusetts Amherst)[15]\\nNorthampton (Smith College)\\nSouth Hadley (Mount Holyoke College)\\nFitchburg (Fitchburg State College)\\nNorth Adams (Massachusetts College of Liberal Arts)\\nSpringfield (American International College), (Springfield College), and (Western New England College)\\nWaltham (Bentley University), (Brandeis University)\\nWilliamstown (Williams College)\\nFramingham (Framingham State University)\\nMichigan[edit]\\nAdrian (Adrian College, Siena Heights University)\\nAlbion (Albion College)[17]\\nAllendale (Grand Valley State University)\\nAlma (Alma College)\\nAnn Arbor (University of Michigan)[1]\\nBerrien Springs (Andrews University)[2]\\nBig Rapids (Ferris State University)[2]\\nEast Lansing (Michigan State University)[2]\\nFlint (Kettering University, University of Michigan-Flint)\\nHillsdale (Hillsdale College)\\nHoughton (Michigan Technological University)[5]\\nKalamazoo (Western Michigan University, Kalamazoo College)[2]\\nMarquette (Northern Michigan University)[2]\\nMidland (Northwood University)\\nMount Pleasant (Central Michigan University)[2]\\nOlivet (Olivet College)[2]\\nSaginaw (Saginaw Valley State University)\\nSault Ste. Marie (Lake Superior State University)\\nSpring Arbor (Spring Arbor University)[2]\\nYpsilanti (Eastern Michigan University)[2]\\nMinnesota[edit]\\nBemidji (Bemidji State University)[2]\\nCrookston (University of Minnesota Crookston)[2]\\nDuluth (University of Minnesota Duluth, Lake Superior College, The College of St. Scholastica, University of Wisconsin–Superior, Duluth Business University\\nFaribault, South Central College\\nMankato (Minnesota State University, Mankato),[2] Bethany Lutheran College\\nMarshall (Southwest Minnesota State University)[2]\\nMoorhead (Minnesota State University, Moorhead, Concordia College)[18]\\nMorris (University of Minnesota Morris)[2]\\nNorthfield (Carleton College, St. Olaf College)[5]\\nNorth Mankato, South Central College\\nSt. Cloud (St. Cloud State University, The College of St. Scholastica)[2]\\nSt. Joseph (College of Saint Benedict)[2]\\nSt. Peter (Gustavus Adolphus College)[2]\\nWinona (Winona State University, St. Mary\\'s University of Minnesota)[19]\\nMississippi[edit]\\nCleveland (Delta State University)[2]\\nHattiesburg (University of Southern Mississippi)[20]\\nItta Bena (Mississippi Valley State University)[2]\\nOxford (University of Mississippi)[2]\\nStarkville (Mississippi State University)[2]\\nMissouri[edit]\\nBolivar (Southwest Baptist University)[2]\\nCape Girardeau (Southeast Missouri State University)[2]\\nColumbia (University of Missouri, Stephens College, Columbia College)[20]\\nFayette (Central Methodist University)[2]\\nFulton (Westminster College and William Woods University).\\nKirksville (Truman State University, A. T. Still University)[2]\\nMaryville (Northwest Missouri State University)[2]\\nRolla (Missouri University of Science and Technology)[2]\\nWarrensburg (University of Central Missouri)[5]\\nMontana[edit]\\nBozeman (Montana State University)[2]\\nDillon (University of Montana Western)[2]\\nMissoula (University of Montana)[5]\\nNebraska[edit]\\nChadron (Chadron State College)[5]\\nCrete (Doane College)[2]\\nKearney (University of Nebraska at Kearney)[2]\\nLincoln (University of Nebraska at Lincoln)[5]\\nPeru (Peru State College)[2]\\nSeward (Concordia University)[2]\\nWayne (Wayne State College)[2]\\nNevada[edit]\\nLas Vegas (University of Nevada, Las Vegas)\\nReno (University of Nevada, Reno)\\nNew Hampshire[edit]\\nNew London, New Hampshire (Colby-Sawyer College)\\nDurham (University of New Hampshire)[2]\\nHanover (Dartmouth College)[5]\\nHenniker (New England College)\\nKeene (Keene State College)[2]\\nPlymouth (Plymouth State University)[2]\\nRindge (Franklin Pierce University)\\nNew Jersey[edit]\\nEwing (The College of New Jersey), (Rider University)\\nJersey City (New Jersey City University), (Saint Peter\\'s University)\\nGlassboro (Rowan University)[2]\\nHoboken (Stevens Institute of Technology)\\nMadison (Drew University), (Fairleigh Dickinson University), (College of Saint Elizabeth)\\nNewark (Rutgers University), (New Jersey Institute of Technology), (UMDNJ)\\nNew Brunswick (Rutgers University)[5]\\nPrinceton (Princeton University)[5]\\nUnion (Kean University)\\nWest Long Branch (Monmouth University)\\nNew Mexico[edit]\\nHobbs (University of the Southwest)[2]\\nLas Cruces (New Mexico State University)[2]\\nLas Vegas (New Mexico Highlands University)[2]\\nPortales (Eastern New Mexico University)[2]\\nSilver City (Western New Mexico University)[2]\\nNew York[edit]\\nAlfred (Alfred University, Alfred State College)[2]\\nAlbany (SUNY Albany, Siena College, Albany College of Pharmacy, Albany Law School, Albany Medical College, College of Saint Rose, Excelsior College, Maria College of Albany, Mildred Elley, Sage College of Albany)\\nAurora (Wells College)[21]\\nBinghamton (Binghamton University)[2]\\nBrockport (SUNY Brockport)[5]\\nBuffalo (University at Buffalo)\\nCanton (St. Lawrence University, SUNY Canton)[2]\\nClinton (Hamilton College)[2]\\nCobleskill (SUNY Cobleskill)[2]\\nDelhi (SUNY Delhi)[2]\\nFredonia (SUNY Fredonia)[2]\\nGeneseo (SUNY Geneseo)[2]\\nGeneva (Hobart and William Smith Colleges)\\nHamilton (Colgate University)[2]\\nIthaca (Cornell University, Ithaca College)[1]\\nMorningside Heights, Manhattan (Columbia University, Barnard College, Teachers College, Manhattan School of Music, Jewish Theological Seminary, Union Theological Seminary, Bank Street College of Education)\\nNew Paltz (SUNY New Paltz)[2]\\nOneonta (SUNY Oneonta, Hartwick College)[2]\\nOswego (SUNY Oswego)[2]\\nPlattsburgh (SUNY Plattsburgh)[2]\\nPotsdam (SUNY Potsdam, Clarkson University)[2]\\nPoughkeepsie (Vassar College, Marist College)[2]\\nPurchase (Purchase College, Manhattanville College)[2]\\nRochester (University of Rochester, Rochester Institute of Technology, Nazareth College, St. John Fisher College, Monroe Community College, Roberts Wesleyan College, SUNY Brockport, SUNY Empire State College)[2]\\nSaratoga Springs (Skidmore College)[2]\\nSeneca Falls (New York Chiropractic College)\\nStony Brook (Stony Brook University)\\nSyracuse (Syracuse University, SUNY ESF, Upstate Medical University)\\nTivoli (Bard College)\\nTroy (Rensselaer Polytechnic Institute, Russell Sage College, Hudson Valley Community College)\\nWest Point (United States Military Academy)\\nNorth Carolina[edit]\\nBanner Elk (Lees-McRae College)\\nBoiling Springs (Gardner-Webb University)[2]\\nBoone (Appalachian State University)[2]\\nBuies Creek (Campbell University)[2]\\nChapel Hill (University of North Carolina at Chapel Hill)[20]\\nCullowhee (Western Carolina University)[2]\\nDavidson (Davidson College)[5]\\nDurham (Duke University, North Carolina Central University)[5]\\nElon (Elon University)[2]\\nGreensboro (University of North Carolina at Greensboro, Greensboro College, Guilford College, North Carolina A & T State University, Bennett College)\\nGreenville (East Carolina University)[2]\\nHickory (Lenoir-Rhyne University)[2]\\nMars Hill (Mars Hill College)[2]\\nMount Olive (Mount Olive College)[2]\\nPembroke (University of North Carolina at Pembroke)[2]\\nWilmington, North Carolina (University of North Carolina at Wilmington)\\nWingate (Wingate University)[2]\\nWinston-Salem (Wake Forest University, University of North Carolina School of the Arts, Salem College, Winston-Salem State University)\\nNorth Dakota[edit]\\nFargo (North Dakota State University)[18]\\nGrand Forks (University of North Dakota)[5]\\nOhio[edit]\\nAda (Ohio Northern University)[2]\\nAlliance (University of Mount Union)\\nAshland (Ashland University)[2]\\nAthens (Ohio University)[2]\\nBerea (Baldwin Wallace College)\\nBluffton (Bluffton University)[2]\\nBowling Green (Bowling Green State University)[2]\\nCedarville (Cedarville University)[2]\\nColumbus (Ohio State University)\\nDelaware (Ohio Wesleyan University)\\nFairborn (Wright State University)\\nFindlay (University of Findlay)\\nGambier (Kenyon College)[2]\\nGranville (Denison University)[2]\\nHiram (Hiram College)[2]\\nKent (Kent State University)[2]\\nNelsonville (Hocking College)[2]\\nNew Concord (Muskingum College)[2]\\nOberlin (Oberlin College)[5]\\nOxford (Miami University)[5]\\nRio Grande (University of Rio Grande)[2]\\nWilberforce (Wilberforce University, Central State University)[2]\\nOklahoma[edit]\\nAda (East Central University)[2]\\nAlva (Northwestern Oklahoma State University)[2]\\nDurant (Southeastern Oklahoma State University)[2]\\nEdmond (University of Central Oklahoma, Oklahoma Christian University)[2]\\nGoodwell (Oklahoma Panhandle State University)[2]\\nLangston (Langston University)[5]\\nNorman (University of Oklahoma)[1]\\nStillwater (Oklahoma State University)[5]\\nTahlequah (Northeastern State University)[2]\\nTulsa (The University of Tulsa)\\nWeatherford (Southwestern Oklahoma State University)\\nOregon[edit]\\nAshland (Southern Oregon University)[2]\\nCorvallis (Oregon State University)[20]\\nEugene (Lane Community College, Northwest Christian University, University of Oregon)[20]\\nForest Grove (Pacific University)\\nKlamath Falls (Klamath Community College, Oregon Institute of Technology)\\nLa Grande (Eastern Oregon University)[2]\\nMarylhurst (Marylhurst University)\\nMcMinnville (Linfield College)\\nMonmouth (Western Oregon University)[2]\\nNewberg (George Fox University)\\nPennsylvania[edit]\\nAltoona (Penn State Altoona)\\nAnnville (Lebanon Valley College)[2]\\nBethlehem (Lehigh University, Moravian College)\\nBloomsburg (Bloomsburg University of Pennsylvania)[2]\\nBradford (University of Pittsburgh at Bradford)\\nCalifornia (California University of Pennsylvania)[2]\\nCarlisle (Dickinson College)\\nCecil B. Moore, Philadelphia, also known as \"Templetown\" (Temple University)\\nClarion (Clarion University of Pennsylvania)[2]\\nCollegeville (Ursinus College)\\nCresson (Mount Aloysius College)[2]\\nEast Stroudsburg (East Stroudsburg University of Pennsylvania)[2]\\nEdinboro (Edinboro University of Pennsylvania)[2]\\nErie (Gannon University, Mercyhurst College, Penn State Erie)\\nGettysburg (Gettysburg College)[2]\\nGreensburg (Seton Hill University, University of Pittsburgh at Greensburg)\\nGrove City (Grove City College)[2]\\nHuntingdon (Juniata College)[2]\\nIndiana (Indiana University of Pennsylvania)[2]\\nJohnstown (University of Pittsburgh at Johnstown)\\nKutztown (Kutztown University of Pennsylvania)[2]\\nLancaster (Franklin & Marshall)\\nLewisburg (Bucknell University)[5]\\nLock Haven (Lock Haven University of Pennsylvania)[2]\\nLoretto (St. Francis University)[2]\\nMansfield (Mansfield University of Pennsylvania)[2]\\nMeadville (Allegheny College)\\nMont Alto (Penn State Mont Alto)\\nMillersville (Millersville University of Pennsylvania)[2]\\nNew Wilmington (Westminster College)[2]\\nNorth East (Mercyhurst North East)\\nUniversity City, Philadelphia (Drexel University, University of Pennsylvania, University of the Sciences in Philadelphia)\\nOakland, Pittsburgh (Carnegie Mellon University, University of Pittsburgh, Carlow University)\\nReading (Albright College, Alvernia University, Penn State Berks)\\nSelinsgrove (Susquehanna University)[2]\\nShippensburg (Shippensburg University of Pennsylvania)[2]\\nSlippery Rock (Slippery Rock University of Pennsylvania)[2]\\nState College (Pennsylvania State University)[22]\\nVillanova (Villanova University)\\nWaynesburg (Waynesburg University)\\nWest Chester (West Chester University of Pennsylvania)\\nWilkes-Barre (King\\'s College, Wilkes University)\\nWilliamsport (Lycoming College, Pennsylvania College of Technology)[2]\\nRhode Island[edit]\\nKingston (University of Rhode Island)[2]\\nProvidence (Brown University, (University of Rhode Island), Rhode Island School of Design, Johnson and Wales University, Providence College, Community College of Rhode Island, Rhode Island College, and Roger Williams University.)\\nSouth Carolina[edit]\\nCentral (Southern Wesleyan University)[2]\\nCharleston (College of Charleston, The Citadel, MUSC)\\nClemson (Clemson University)[2]\\nClinton (Presbyterian College)\\nColumbia (University of South Carolina)[14]\\nDue West (Erskine College)\\nFlorence (Francis Marion University)\\nGreenwood (Lander University)\\nOrangeburg (South Carolina State University, Claflin University)[2]\\nRock Hill (Winthrop University)\\nSpartanburg (Wofford College, Converse College, University of South Carolina Upstate, Spartanburg Methodist College, Edward Via College of Osteopathic Medicine, Spartanburg Community College, Virginia College, Sherman College of Chiropractic)\\nSouth Dakota[edit]\\nBrookings (South Dakota State University)[2]\\nMadison (Dakota State University)\\nSpearfish (Black Hills State University)\\nVermillion (University of South Dakota)[5]\\nTennessee[edit]\\nChattanooga (University of Tennessee at Chattanooga)\\nCollegedale (Southern Adventist University)\\nCookeville (Tennessee Technological University)[2]\\nHarrogate (Lincoln Memorial University)[2]\\nHenderson (Freed-Hardeman University)[2]\\nJohnson City (East Tennessee State University)\\nKnoxville (University of Tennessee)\\nMartin (University of Tennessee at Martin)[2]\\nMcKenzie (Bethel University)[2]\\nMemphis (Christian Brothers University, LeMoyne-Owen College, Memphis College of Art, Memphis Theological Seminary, Rhodes College, Southern College of Optometry, Southwest Tennessee Community College, University of Memphis, University of Tennessee Health Science Center, Visible Music College)\\nMurfreesboro (Middle Tennessee State University)[2]\\nNashville (Vanderbilt University, Belmont University, Tennessee State University, Lipscomb University, Fisk University, Aquinas College, Trevecca Nazarene University)\\nSewanee (Sewanee: the University of the South)[2]\\nTexas[edit]\\nAbilene (Abilene Christian University, Hardin-Simmons University, McMurry University)\\nAlpine (Sul Ross State University)[2]\\nAustin (University of Texas at Austin, St. Edwards University, Huston-Tillotson University)[2]\\nBeaumont (Lamar University)\\nCanyon (West Texas A&M University)[2]\\nCollege Station (Texas A&M University)[5]\\nCommerce (Texas A&M University–Commerce)[2]\\nDallas (Southern Methodist University)\\nDenton (University of North Texas, Texas Woman\\'s University)[2]\\nFort Worth (Texas Christian University, Texas Wesleyan University)\\nGeorgetown (Southwestern University)\\nHuntsville (Sam Houston State University)[2]\\nHouston (University of Houston, Texas Southern University, Rice University, Houston Baptist University)\\nKeene (Southwestern Adventist University)[2]\\nKingsville (Texas A&M University–Kingsville)[2]\\nLubbock (Texas Tech University, Lubbock Christian University)\\nNacogdoches (Stephen F. Austin State University)[2]\\nPlainview (Wayland Baptist University)[2]\\nPrairie View (Prairie View A&M University)[2]\\nSan Marcos (Texas State University)[5]\\nStephenville (Tarleton State University)[2]\\nWaco (Baylor University)\\nUtah[edit]\\nCedar City (Southern Utah University)[2]\\nLogan (Utah State University)[2]\\nProvo (Brigham Young University)[5]\\nOrem (Utah Valley University)\\nSalt Lake City (University of Utah)\\nEphraim (Snow College)\\nVermont[edit]\\nBurlington (University of Vermont, Champlain College and Saint Michael\\'s College)[2]\\nCastleton (Castleton State College)[2]\\nJohnson (Johnson State College)[2]\\nLyndonville (Lyndon State College)[2]\\nMiddlebury (Middlebury College)[2]\\nNorthfield (Norwich University)[2]\\nVirginia[edit]\\nBlacksburg (Virginia Polytechnic Institute and State University)[5]\\nBridgewater (Bridgewater College)[2]\\nCharlottesville (University of Virginia)[23]\\nFarmville (Longwood University, Hampden-Sydney College)[2]\\nFredericksburg (University of Mary Washington)[2]\\nHarrisonburg (James Madison University, Eastern Mennonite University)[2]\\nLexington (Washington and Lee University, Virginia Military Institute)[2]\\nLynchburg (Lynchburg College, Randolph College, Liberty University, Central Virginia Community College)\\nRadford (Radford University)[2]\\nWilliamsburg (The College of William & Mary)[2]\\nWise (University of Virginia\\'s College at Wise)[2]\\nChesapeake (Averett University, DeVry University, Troy University, Tidewater Community College, Strayer University, Everest University, Sentera College of Health Sciences, St Leo University)[2]\\nWashington[edit]\\nBellingham (Western Washington University)\\nCheney (Eastern Washington University)[2]\\nEllensburg (Central Washington University)[5]\\nPullman (Washington State University)[5]\\nUniversity District, Seattle (University of Washington)[5]\\nWest Virginia[edit]\\nAthens (Concord University)[2]\\nBuckhannon (West Virginia Wesleyan College)[2]\\nFairmont (Fairmont State University)[2]\\nGlenville (Glenville State College)[2]\\nHuntington (Marshall University)[2]\\nMontgomery (West Virginia University Institute of Technology)[2]\\nMorgantown (West Virginia University)[2]\\nShepherdstown (Shepherd University)[2]\\nWest Liberty (West Liberty University)[2]\\nWisconsin[edit]\\nAppleton (Lawrence University)\\nEau Claire (University of Wisconsin–Eau Claire)\\nGreen Bay (University of Wisconsin-Green Bay)\\nLa Crosse (University of Wisconsin–La Crosse, Western Technical College, Viterbo University)[2]\\nMadison (University of Wisconsin–Madison)[2]\\nMenomonie (University of Wisconsin–Stout)[2]\\nMilwaukee (Marquette University, University of Wisconsin–Milwaukee)\\nOshkosh (University of Wisconsin–Oshkosh)\\nPlatteville (University of Wisconsin–Platteville)[2]\\nRiver Falls (University of Wisconsin–River Falls)[2]\\nStevens Point (University of Wisconsin–Stevens Point)[2]\\nWaukesha (Carroll University)\\nWhitewater (University of Wisconsin–Whitewater)[2]\\nWyoming[edit]\\nLaramie (University of Wyoming)[5]\\n'"
     ]
    }
   ],
   "source": [
    "university_towns = []\n",
    "\n",
    "file_name = f'data-set-0/university_towns.txt'\n",
    "blob = bucket.get_blob(file_name)\n",
    "if blob is not None and blob.exists(storage_client):\n",
    "    data = blob.download_as_string()\n",
    "    data1 = data.decode(\"utf-8\")\n",
    "    df_town = pd.read_csv(data1, sep=\"\\s\", engine='python')    \n",
    "    \n",
    "\n",
    "df_town\n",
    "\n",
    "#for line in data1:\n",
    "#    print(line)\n",
    "    \n",
    "#for line in data1:\n",
    " #   print(line)"
   ]
  },
  {
   "cell_type": "code",
   "execution_count": null,
   "id": "21ebc194-9a26-4c9f-b1cb-9c667fd02ac7",
   "metadata": {},
   "outputs": [
    {
     "ename": "FileNotFoundError",
     "evalue": "[Errno 2] No such file or directory: 'Datasets/university_towns.txt'",
     "output_type": "error",
     "traceback": [
      "\u001b[0;31m---------------------------------------------------------------------------\u001b[0m",
      "\u001b[0;31mFileNotFoundError\u001b[0m                         Traceback (most recent call last)",
      "Cell \u001b[0;32mIn[202], line 6\u001b[0m\n\u001b[1;32m      1\u001b[0m university_towns \u001b[38;5;241m=\u001b[39m []\n\u001b[1;32m      3\u001b[0m blob  \u001b[38;5;241m=\u001b[39m bucket\u001b[38;5;241m.\u001b[39mget_blob(\u001b[38;5;124mf\u001b[39m\u001b[38;5;124m'\u001b[39m\u001b[38;5;124mGBvideos.csv\u001b[39m\u001b[38;5;124m'\u001b[39m)\n\u001b[0;32m----> 6\u001b[0m \u001b[38;5;28;01mwith\u001b[39;00m \u001b[38;5;28;43mopen\u001b[39;49m\u001b[43m(\u001b[49m\u001b[38;5;124;43m'\u001b[39;49m\u001b[38;5;124;43mDatasets/university_towns.txt\u001b[39;49m\u001b[38;5;124;43m'\u001b[39;49m\u001b[43m)\u001b[49m \u001b[38;5;28;01mas\u001b[39;00m file:\n\u001b[1;32m      7\u001b[0m     \u001b[38;5;28;01mfor\u001b[39;00m line \u001b[38;5;129;01min\u001b[39;00m file:\n\u001b[1;32m      8\u001b[0m         \u001b[38;5;28;01mif\u001b[39;00m \u001b[38;5;124m'\u001b[39m\u001b[38;5;124m[edit]\u001b[39m\u001b[38;5;124m'\u001b[39m \u001b[38;5;129;01min\u001b[39;00m line:\n\u001b[1;32m      9\u001b[0m             \u001b[38;5;66;03m# Remember this `state` until the next is found\u001b[39;00m\n",
      "File \u001b[0;32m/opt/conda/lib/python3.10/site-packages/IPython/core/interactiveshell.py:284\u001b[0m, in \u001b[0;36m_modified_open\u001b[0;34m(file, *args, **kwargs)\u001b[0m\n\u001b[1;32m    277\u001b[0m \u001b[38;5;28;01mif\u001b[39;00m file \u001b[38;5;129;01min\u001b[39;00m {\u001b[38;5;241m0\u001b[39m, \u001b[38;5;241m1\u001b[39m, \u001b[38;5;241m2\u001b[39m}:\n\u001b[1;32m    278\u001b[0m     \u001b[38;5;28;01mraise\u001b[39;00m \u001b[38;5;167;01mValueError\u001b[39;00m(\n\u001b[1;32m    279\u001b[0m         \u001b[38;5;124mf\u001b[39m\u001b[38;5;124m\"\u001b[39m\u001b[38;5;124mIPython won\u001b[39m\u001b[38;5;124m'\u001b[39m\u001b[38;5;124mt let you open fd=\u001b[39m\u001b[38;5;132;01m{\u001b[39;00mfile\u001b[38;5;132;01m}\u001b[39;00m\u001b[38;5;124m by default \u001b[39m\u001b[38;5;124m\"\u001b[39m\n\u001b[1;32m    280\u001b[0m         \u001b[38;5;124m\"\u001b[39m\u001b[38;5;124mas it is likely to crash IPython. If you know what you are doing, \u001b[39m\u001b[38;5;124m\"\u001b[39m\n\u001b[1;32m    281\u001b[0m         \u001b[38;5;124m\"\u001b[39m\u001b[38;5;124myou can use builtins\u001b[39m\u001b[38;5;124m'\u001b[39m\u001b[38;5;124m open.\u001b[39m\u001b[38;5;124m\"\u001b[39m\n\u001b[1;32m    282\u001b[0m     )\n\u001b[0;32m--> 284\u001b[0m \u001b[38;5;28;01mreturn\u001b[39;00m \u001b[43mio_open\u001b[49m\u001b[43m(\u001b[49m\u001b[43mfile\u001b[49m\u001b[43m,\u001b[49m\u001b[43m \u001b[49m\u001b[38;5;241;43m*\u001b[39;49m\u001b[43margs\u001b[49m\u001b[43m,\u001b[49m\u001b[43m \u001b[49m\u001b[38;5;241;43m*\u001b[39;49m\u001b[38;5;241;43m*\u001b[39;49m\u001b[43mkwargs\u001b[49m\u001b[43m)\u001b[49m\n",
      "\u001b[0;31mFileNotFoundError\u001b[0m: [Errno 2] No such file or directory: 'Datasets/university_towns.txt'"
     ]
    }
   ],
   "source": [
    "university_towns = []\n",
    "\n",
    "blob  = bucket.get_blob(f'GBvideos.csv')\n",
    "\n",
    "\n",
    "with open('Datasets/university_towns.txt') as file:\n",
    "    for line in file:\n",
    "        if '[edit]' in line:\n",
    "            # Remember this `state` until the next is found\n",
    "            state = line\n",
    "        else:\n",
    "            # Otherwise, we have a city; keep `state` as last-seen\n",
    "            university_towns.append((state, line))\n",
    "\n",
    "university_towns[:5]"
   ]
  }
 ],
 "metadata": {
  "kernelspec": {
   "display_name": "Python (Local)",
   "language": "python",
   "name": "local-base"
  },
  "language_info": {
   "codemirror_mode": {
    "name": "ipython",
    "version": 3
   },
   "file_extension": ".py",
   "mimetype": "text/x-python",
   "name": "python",
   "nbconvert_exporter": "python",
   "pygments_lexer": "ipython3",
   "version": "3.10.12"
  }
 },
 "nbformat": 4,
 "nbformat_minor": 5
}

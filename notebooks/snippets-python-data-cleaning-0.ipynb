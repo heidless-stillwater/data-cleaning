{
 "cells": [
  {
   "cell_type": "markdown",
   "id": "19ef0a57-395a-40a5-ae23-064448fac911",
   "metadata": {},
   "source": [
    "# Pythonic Data Cleaning With pandas and NumPy\n"
   ]
  },
  {
   "cell_type": "markdown",
   "id": "a9e7251e-b8b7-4efc-8890-bc22f69529e8",
   "metadata": {},
   "source": [
    "## prep"
   ]
  },
  {
   "cell_type": "code",
   "execution_count": 209,
   "id": "da1fbb7d-8e4f-4232-9914-ac58b1131745",
   "metadata": {},
   "outputs": [],
   "source": [
    "from google.cloud import storage\n",
    "\n",
    "import numpy as np\n",
    "import re\n",
    "import pandas as pd\n",
    "import matplotlib.pyplot as plt\n",
    "%matplotlib inline\n",
    "import seaborn as sns\n",
    "from matplotlib import cm\n",
    "from datetime import datetime\n",
    "import glob\n",
    "import os\n",
    "from io import StringIO\n",
    "from io import BytesIO\n",
    "import json\n",
    "import pickle\n",
    "import six\n",
    "import charset_normalizer\n",
    "from wordcloud import WordCloud \n",
    "from typing import List\n",
    "\n",
    "\n",
    "sns.set()\n",
    "pd.set_option('display.max_columns', None)\n",
    "pd.set_option('display.max_rows', None)\n",
    "pd.options.mode.chained_assignment = None"
   ]
  },
  {
   "cell_type": "markdown",
   "id": "26124d94-854d-4430-9a82-65014c44fabc",
   "metadata": {},
   "source": [
    "### Dropping Columns in a DataFrame\n"
   ]
  },
  {
   "cell_type": "markdown",
   "id": "6ca9a06f-8b42-48da-8f17-bf42f811ed53",
   "metadata": {},
   "source": [
    "Often, you’ll find that not all the categories of data in a dataset are useful to you. For example, you might have a dataset containing student information (name, grade, standard, parents’ names, and address) but want to focus on analyzing student grades.\n",
    "\n",
    "In this case, the address or parents’ names categories are not important to you. Retaining these unneeded categories will take up unnecessary space and potentially also bog down runtime.\n",
    "\n",
    "pandas provides a handy way of removing unwanted columns or rows from a DataFrame with the drop() function. Let’s look at a simple example where we drop a number of columns from a DataFrame.\n",
    "\n",
    "First, let’s create a DataFrame out of the CSV file ‘BL-Flickr-Images-Book.csv’. In the examples below, we pass a relative path to pd.read_csv, meaning that all of the datasets are in a folder named Datasets in our current working directory:"
   ]
  },
  {
   "cell_type": "markdown",
   "id": "995b8be1-2f5e-4d8a-a17e-971cbb267b54",
   "metadata": {},
   "source": [
    "### storage init"
   ]
  },
  {
   "cell_type": "code",
   "execution_count": 210,
   "id": "f11a9a8d-9c44-41d9-9c26-74ec48f2a8f2",
   "metadata": {},
   "outputs": [],
   "source": [
    "storage_client =  storage.Client.from_service_account_json('heidless-jupyter-0-d2008100d98c.json')\n",
    "\n",
    "BUCKET_NAME = 'python-data-cleaning-0'\n",
    "\n",
    "bucket = storage_client.get_bucket(BUCKET_NAME)\n",
    "\n",
    "#file_names = list(bucket.list_blobs(prefix=''))\n",
    "#for name in file_names:\n",
    "#    print(name.name)"
   ]
  },
  {
   "cell_type": "markdown",
   "id": "0fc0696e-07a0-423c-a8dd-bd351d6e782a",
   "metadata": {},
   "source": [
    "### read file(s)"
   ]
  },
  {
   "cell_type": "code",
   "execution_count": 211,
   "id": "ef333b28-b323-4dcf-90ff-5c9bc159f840",
   "metadata": {},
   "outputs": [
    {
     "name": "stdout",
     "output_type": "stream",
     "text": [
      "full_file: data-set-0/BL-Flickr-Images-Book.csv\n",
      "data-set-0/BL-Flickr-Images-Book.csv\n"
     ]
    },
    {
     "data": {
      "text/plain": [
       "['data-set-0/BL-Flickr-Images-Book.csv']"
      ]
     },
     "execution_count": 211,
     "metadata": {},
     "output_type": "execute_result"
    }
   ],
   "source": [
    "\n",
    "AllCSV = []\n",
    "my_prefix = 'data-set-0/'\n",
    "my_file = 'BL-Flickr-Images-Book.csv'\n",
    "full_file = my_prefix + my_file\n",
    "print(f'full_file: {full_file}')\n",
    "\n",
    "file_names = list(bucket.list_blobs(prefix=my_prefix))\n",
    "for file in file_names:\n",
    "    if(file.name != my_prefix):\n",
    "        if file.name == full_file:\n",
    "            AllCSV.append(file.name)\n",
    "            print(file.name)\n",
    "AllCSV\n"
   ]
  },
  {
   "cell_type": "code",
   "execution_count": 212,
   "id": "c60fc848-18c8-4540-a54e-57e2be37cabf",
   "metadata": {},
   "outputs": [
    {
     "name": "stdout",
     "output_type": "stream",
     "text": [
      "data-set-0/BL-Flickr-Images-Book.csv\n"
     ]
    },
    {
     "data": {
      "text/html": [
       "<div>\n",
       "<style scoped>\n",
       "    .dataframe tbody tr th:only-of-type {\n",
       "        vertical-align: middle;\n",
       "    }\n",
       "\n",
       "    .dataframe tbody tr th {\n",
       "        vertical-align: top;\n",
       "    }\n",
       "\n",
       "    .dataframe thead th {\n",
       "        text-align: right;\n",
       "    }\n",
       "</style>\n",
       "<table border=\"1\" class=\"dataframe\">\n",
       "  <thead>\n",
       "    <tr style=\"text-align: right;\">\n",
       "      <th></th>\n",
       "      <th>Identifier</th>\n",
       "      <th>Edition Statement</th>\n",
       "      <th>Place of Publication</th>\n",
       "      <th>Date of Publication</th>\n",
       "      <th>Publisher</th>\n",
       "      <th>Title</th>\n",
       "      <th>Author</th>\n",
       "      <th>Contributors</th>\n",
       "      <th>Corporate Author</th>\n",
       "      <th>Corporate Contributors</th>\n",
       "      <th>Former owner</th>\n",
       "      <th>Engraver</th>\n",
       "      <th>Issuance type</th>\n",
       "      <th>Flickr URL</th>\n",
       "      <th>Shelfmarks</th>\n",
       "    </tr>\n",
       "  </thead>\n",
       "  <tbody>\n",
       "    <tr>\n",
       "      <th>0</th>\n",
       "      <td>206</td>\n",
       "      <td>NaN</td>\n",
       "      <td>London</td>\n",
       "      <td>1879 [1878]</td>\n",
       "      <td>S. Tinsley &amp; Co.</td>\n",
       "      <td>Walter Forbes. [A novel.] By A. A</td>\n",
       "      <td>A. A.</td>\n",
       "      <td>FORBES, Walter.</td>\n",
       "      <td>NaN</td>\n",
       "      <td>NaN</td>\n",
       "      <td>NaN</td>\n",
       "      <td>NaN</td>\n",
       "      <td>monographic</td>\n",
       "      <td>http://www.flickr.com/photos/britishlibrary/ta...</td>\n",
       "      <td>British Library HMNTS 12641.b.30.</td>\n",
       "    </tr>\n",
       "    <tr>\n",
       "      <th>1</th>\n",
       "      <td>216</td>\n",
       "      <td>NaN</td>\n",
       "      <td>London; Virtue &amp; Yorston</td>\n",
       "      <td>1868</td>\n",
       "      <td>Virtue &amp; Co.</td>\n",
       "      <td>All for Greed. [A novel. The dedication signed...</td>\n",
       "      <td>A., A. A.</td>\n",
       "      <td>BLAZE DE BURY, Marie Pauline Rose - Baroness</td>\n",
       "      <td>NaN</td>\n",
       "      <td>NaN</td>\n",
       "      <td>NaN</td>\n",
       "      <td>NaN</td>\n",
       "      <td>monographic</td>\n",
       "      <td>http://www.flickr.com/photos/britishlibrary/ta...</td>\n",
       "      <td>British Library HMNTS 12626.cc.2.</td>\n",
       "    </tr>\n",
       "    <tr>\n",
       "      <th>2</th>\n",
       "      <td>218</td>\n",
       "      <td>NaN</td>\n",
       "      <td>London</td>\n",
       "      <td>1869</td>\n",
       "      <td>Bradbury, Evans &amp; Co.</td>\n",
       "      <td>Love the Avenger. By the author of âAll for ...</td>\n",
       "      <td>A., A. A.</td>\n",
       "      <td>BLAZE DE BURY, Marie Pauline Rose - Baroness</td>\n",
       "      <td>NaN</td>\n",
       "      <td>NaN</td>\n",
       "      <td>NaN</td>\n",
       "      <td>NaN</td>\n",
       "      <td>monographic</td>\n",
       "      <td>http://www.flickr.com/photos/britishlibrary/ta...</td>\n",
       "      <td>British Library HMNTS 12625.dd.1.</td>\n",
       "    </tr>\n",
       "    <tr>\n",
       "      <th>3</th>\n",
       "      <td>472</td>\n",
       "      <td>NaN</td>\n",
       "      <td>London</td>\n",
       "      <td>1851</td>\n",
       "      <td>James Darling</td>\n",
       "      <td>Welsh Sketches, chiefly ecclesiastical, to the...</td>\n",
       "      <td>A., E. S.</td>\n",
       "      <td>Appleyard, Ernest Silvanus.</td>\n",
       "      <td>NaN</td>\n",
       "      <td>NaN</td>\n",
       "      <td>NaN</td>\n",
       "      <td>NaN</td>\n",
       "      <td>monographic</td>\n",
       "      <td>http://www.flickr.com/photos/britishlibrary/ta...</td>\n",
       "      <td>British Library HMNTS 10369.bbb.15.</td>\n",
       "    </tr>\n",
       "    <tr>\n",
       "      <th>4</th>\n",
       "      <td>480</td>\n",
       "      <td>A new edition, revised, etc.</td>\n",
       "      <td>London</td>\n",
       "      <td>1857</td>\n",
       "      <td>Wertheim &amp; Macintosh</td>\n",
       "      <td>[The World in which I live, and my place in it...</td>\n",
       "      <td>A., E. S.</td>\n",
       "      <td>BROOME, John Henry.</td>\n",
       "      <td>NaN</td>\n",
       "      <td>NaN</td>\n",
       "      <td>NaN</td>\n",
       "      <td>NaN</td>\n",
       "      <td>monographic</td>\n",
       "      <td>http://www.flickr.com/photos/britishlibrary/ta...</td>\n",
       "      <td>British Library HMNTS 9007.d.28.</td>\n",
       "    </tr>\n",
       "  </tbody>\n",
       "</table>\n",
       "</div>"
      ],
      "text/plain": [
       "   Identifier             Edition Statement      Place of Publication  \\\n",
       "0         206                           NaN                    London   \n",
       "1         216                           NaN  London; Virtue & Yorston   \n",
       "2         218                           NaN                    London   \n",
       "3         472                           NaN                    London   \n",
       "4         480  A new edition, revised, etc.                    London   \n",
       "\n",
       "  Date of Publication              Publisher  \\\n",
       "0         1879 [1878]       S. Tinsley & Co.   \n",
       "1                1868           Virtue & Co.   \n",
       "2                1869  Bradbury, Evans & Co.   \n",
       "3                1851          James Darling   \n",
       "4                1857   Wertheim & Macintosh   \n",
       "\n",
       "                                               Title     Author  \\\n",
       "0                  Walter Forbes. [A novel.] By A. A      A. A.   \n",
       "1  All for Greed. [A novel. The dedication signed...  A., A. A.   \n",
       "2  Love the Avenger. By the author of âAll for ...  A., A. A.   \n",
       "3  Welsh Sketches, chiefly ecclesiastical, to the...  A., E. S.   \n",
       "4  [The World in which I live, and my place in it...  A., E. S.   \n",
       "\n",
       "                                   Contributors  Corporate Author  \\\n",
       "0                               FORBES, Walter.               NaN   \n",
       "1  BLAZE DE BURY, Marie Pauline Rose - Baroness               NaN   \n",
       "2  BLAZE DE BURY, Marie Pauline Rose - Baroness               NaN   \n",
       "3                   Appleyard, Ernest Silvanus.               NaN   \n",
       "4                           BROOME, John Henry.               NaN   \n",
       "\n",
       "   Corporate Contributors Former owner  Engraver Issuance type  \\\n",
       "0                     NaN          NaN       NaN   monographic   \n",
       "1                     NaN          NaN       NaN   monographic   \n",
       "2                     NaN          NaN       NaN   monographic   \n",
       "3                     NaN          NaN       NaN   monographic   \n",
       "4                     NaN          NaN       NaN   monographic   \n",
       "\n",
       "                                          Flickr URL  \\\n",
       "0  http://www.flickr.com/photos/britishlibrary/ta...   \n",
       "1  http://www.flickr.com/photos/britishlibrary/ta...   \n",
       "2  http://www.flickr.com/photos/britishlibrary/ta...   \n",
       "3  http://www.flickr.com/photos/britishlibrary/ta...   \n",
       "4  http://www.flickr.com/photos/britishlibrary/ta...   \n",
       "\n",
       "                            Shelfmarks  \n",
       "0    British Library HMNTS 12641.b.30.  \n",
       "1    British Library HMNTS 12626.cc.2.  \n",
       "2    British Library HMNTS 12625.dd.1.  \n",
       "3  British Library HMNTS 10369.bbb.15.  \n",
       "4     British Library HMNTS 9007.d.28.  "
      ]
     },
     "execution_count": 212,
     "metadata": {},
     "output_type": "execute_result"
    }
   ],
   "source": [
    "all_dataframes = []\n",
    "#file_name = f'json/CA_category_id.json'\n",
    "\n",
    "for csv in AllCSV:\n",
    "    blob = bucket.get_blob(csv)\n",
    "    if blob is not None and blob.exists(storage_client):\n",
    "        bt = blob.download_as_string()\n",
    "        s = str(bt, 'ISO-8859-1')\n",
    "        s = StringIO(s)\n",
    "        df = pd.read_csv(s, encoding='ISO-8859-1')\n",
    "        #df['country'] = csv[0:2] # adding column 'country' so that each dataset could be identified uniquely\n",
    "        all_dataframes.append(df)\n",
    "        print(csv)\n",
    "    \n",
    "all_dataframes[0].head() # index 0 to 9 for [CA, DE, FR, GB, IN, JP, KR, MX, RU, US] datasets"
   ]
  },
  {
   "cell_type": "code",
   "execution_count": 213,
   "id": "eb7e5eaa-69af-497a-aae1-f8bf621764a6",
   "metadata": {},
   "outputs": [],
   "source": [
    "to_drop = ['Edition Statement',\n",
    "           'Corporate Author',\n",
    "           'Corporate Contributors',\n",
    "           'Former owner',\n",
    "           'Engraver',\n",
    "           'Contributors',\n",
    "           'Issuance type',\n",
    "           'Shelfmarks']\n",
    "\n",
    "df.drop(to_drop, inplace=True, axis=1)"
   ]
  },
  {
   "cell_type": "markdown",
   "id": "b44e5283-40f1-4bcd-afeb-1e550c7ba5b5",
   "metadata": {},
   "source": [
    "Above, we defined a list that contains the names of all the columns we want to drop. Next, we call the drop() function on our object, passing in the inplace parameter as True and the axis parameter as 1. This tells pandas that we want the changes to be made directly in our object and that it should look for the values to be dropped in the columns of the object."
   ]
  },
  {
   "cell_type": "code",
   "execution_count": 214,
   "id": "9c214934-e3af-4fb6-9308-03a7bed57979",
   "metadata": {},
   "outputs": [
    {
     "data": {
      "text/html": [
       "<div>\n",
       "<style scoped>\n",
       "    .dataframe tbody tr th:only-of-type {\n",
       "        vertical-align: middle;\n",
       "    }\n",
       "\n",
       "    .dataframe tbody tr th {\n",
       "        vertical-align: top;\n",
       "    }\n",
       "\n",
       "    .dataframe thead th {\n",
       "        text-align: right;\n",
       "    }\n",
       "</style>\n",
       "<table border=\"1\" class=\"dataframe\">\n",
       "  <thead>\n",
       "    <tr style=\"text-align: right;\">\n",
       "      <th></th>\n",
       "      <th>Identifier</th>\n",
       "      <th>Place of Publication</th>\n",
       "      <th>Date of Publication</th>\n",
       "      <th>Publisher</th>\n",
       "      <th>Title</th>\n",
       "      <th>Author</th>\n",
       "      <th>Flickr URL</th>\n",
       "    </tr>\n",
       "  </thead>\n",
       "  <tbody>\n",
       "    <tr>\n",
       "      <th>0</th>\n",
       "      <td>206</td>\n",
       "      <td>London</td>\n",
       "      <td>1879 [1878]</td>\n",
       "      <td>S. Tinsley &amp; Co.</td>\n",
       "      <td>Walter Forbes. [A novel.] By A. A</td>\n",
       "      <td>A. A.</td>\n",
       "      <td>http://www.flickr.com/photos/britishlibrary/ta...</td>\n",
       "    </tr>\n",
       "    <tr>\n",
       "      <th>1</th>\n",
       "      <td>216</td>\n",
       "      <td>London; Virtue &amp; Yorston</td>\n",
       "      <td>1868</td>\n",
       "      <td>Virtue &amp; Co.</td>\n",
       "      <td>All for Greed. [A novel. The dedication signed...</td>\n",
       "      <td>A., A. A.</td>\n",
       "      <td>http://www.flickr.com/photos/britishlibrary/ta...</td>\n",
       "    </tr>\n",
       "    <tr>\n",
       "      <th>2</th>\n",
       "      <td>218</td>\n",
       "      <td>London</td>\n",
       "      <td>1869</td>\n",
       "      <td>Bradbury, Evans &amp; Co.</td>\n",
       "      <td>Love the Avenger. By the author of âAll for ...</td>\n",
       "      <td>A., A. A.</td>\n",
       "      <td>http://www.flickr.com/photos/britishlibrary/ta...</td>\n",
       "    </tr>\n",
       "  </tbody>\n",
       "</table>\n",
       "</div>"
      ],
      "text/plain": [
       "   Identifier      Place of Publication Date of Publication  \\\n",
       "0         206                    London         1879 [1878]   \n",
       "1         216  London; Virtue & Yorston                1868   \n",
       "2         218                    London                1869   \n",
       "\n",
       "               Publisher                                              Title  \\\n",
       "0       S. Tinsley & Co.                  Walter Forbes. [A novel.] By A. A   \n",
       "1           Virtue & Co.  All for Greed. [A novel. The dedication signed...   \n",
       "2  Bradbury, Evans & Co.  Love the Avenger. By the author of âAll for ...   \n",
       "\n",
       "      Author                                         Flickr URL  \n",
       "0      A. A.  http://www.flickr.com/photos/britishlibrary/ta...  \n",
       "1  A., A. A.  http://www.flickr.com/photos/britishlibrary/ta...  \n",
       "2  A., A. A.  http://www.flickr.com/photos/britishlibrary/ta...  "
      ]
     },
     "execution_count": 214,
     "metadata": {},
     "output_type": "execute_result"
    }
   ],
   "source": [
    "all_dataframes[0].head(3)"
   ]
  },
  {
   "cell_type": "markdown",
   "id": "536559d5-df53-4555-8f33-2a4c0088a7af",
   "metadata": {},
   "source": [
    "Alternatively, we could also remove the columns by passing them to the columns parameter directly instead of separately specifying the labels to be removed and the axis where pandas should look for the labels:"
   ]
  },
  {
   "cell_type": "markdown",
   "id": "00d6bdaa-5db1-48ac-aef0-759046cf67bb",
   "metadata": {},
   "source": [
    "df.drop(columns=to_drop, inplace=True)"
   ]
  },
  {
   "cell_type": "markdown",
   "id": "3dbb3f5e-b7ac-47ed-b919-2a6cc5439f14",
   "metadata": {},
   "source": [
    "### Changing the Index of a DataFrame"
   ]
  },
  {
   "cell_type": "markdown",
   "id": "fbf7dbb7-05fc-4990-a938-a597a8e1b3c4",
   "metadata": {},
   "source": [
    "A pandas Index extends the functionality of NumPy arrays to allow for more versatile slicing and labeling. In many cases, it is helpful to use a uniquely valued identifying field of the data as its index.\n",
    "\n",
    "For example, in the dataset used in the previous section, it can be expected that when a librarian searches for a record, they may input the unique identifier (values in the Identifier column) for a book:"
   ]
  },
  {
   "cell_type": "code",
   "execution_count": 215,
   "id": "c252f7ea-1945-44b4-a1b3-7dd96ed74966",
   "metadata": {},
   "outputs": [
    {
     "data": {
      "text/plain": [
       "True"
      ]
     },
     "execution_count": 215,
     "metadata": {},
     "output_type": "execute_result"
    }
   ],
   "source": [
    "df['Identifier'].is_unique"
   ]
  },
  {
   "cell_type": "code",
   "execution_count": 216,
   "id": "a32b3753-a283-459b-ae01-6d37a9ed7f08",
   "metadata": {},
   "outputs": [
    {
     "name": "stdout",
     "output_type": "stream",
     "text": [
      "BEFORE setting index\n"
     ]
    },
    {
     "data": {
      "text/html": [
       "<div>\n",
       "<style scoped>\n",
       "    .dataframe tbody tr th:only-of-type {\n",
       "        vertical-align: middle;\n",
       "    }\n",
       "\n",
       "    .dataframe tbody tr th {\n",
       "        vertical-align: top;\n",
       "    }\n",
       "\n",
       "    .dataframe thead th {\n",
       "        text-align: right;\n",
       "    }\n",
       "</style>\n",
       "<table border=\"1\" class=\"dataframe\">\n",
       "  <thead>\n",
       "    <tr style=\"text-align: right;\">\n",
       "      <th></th>\n",
       "      <th>Identifier</th>\n",
       "      <th>Place of Publication</th>\n",
       "      <th>Date of Publication</th>\n",
       "      <th>Publisher</th>\n",
       "      <th>Title</th>\n",
       "      <th>Author</th>\n",
       "      <th>Flickr URL</th>\n",
       "    </tr>\n",
       "  </thead>\n",
       "  <tbody>\n",
       "    <tr>\n",
       "      <th>0</th>\n",
       "      <td>206</td>\n",
       "      <td>London</td>\n",
       "      <td>1879 [1878]</td>\n",
       "      <td>S. Tinsley &amp; Co.</td>\n",
       "      <td>Walter Forbes. [A novel.] By A. A</td>\n",
       "      <td>A. A.</td>\n",
       "      <td>http://www.flickr.com/photos/britishlibrary/ta...</td>\n",
       "    </tr>\n",
       "    <tr>\n",
       "      <th>1</th>\n",
       "      <td>216</td>\n",
       "      <td>London; Virtue &amp; Yorston</td>\n",
       "      <td>1868</td>\n",
       "      <td>Virtue &amp; Co.</td>\n",
       "      <td>All for Greed. [A novel. The dedication signed...</td>\n",
       "      <td>A., A. A.</td>\n",
       "      <td>http://www.flickr.com/photos/britishlibrary/ta...</td>\n",
       "    </tr>\n",
       "    <tr>\n",
       "      <th>2</th>\n",
       "      <td>218</td>\n",
       "      <td>London</td>\n",
       "      <td>1869</td>\n",
       "      <td>Bradbury, Evans &amp; Co.</td>\n",
       "      <td>Love the Avenger. By the author of âAll for ...</td>\n",
       "      <td>A., A. A.</td>\n",
       "      <td>http://www.flickr.com/photos/britishlibrary/ta...</td>\n",
       "    </tr>\n",
       "  </tbody>\n",
       "</table>\n",
       "</div>"
      ],
      "text/plain": [
       "   Identifier      Place of Publication Date of Publication  \\\n",
       "0         206                    London         1879 [1878]   \n",
       "1         216  London; Virtue & Yorston                1868   \n",
       "2         218                    London                1869   \n",
       "\n",
       "               Publisher                                              Title  \\\n",
       "0       S. Tinsley & Co.                  Walter Forbes. [A novel.] By A. A   \n",
       "1           Virtue & Co.  All for Greed. [A novel. The dedication signed...   \n",
       "2  Bradbury, Evans & Co.  Love the Avenger. By the author of âAll for ...   \n",
       "\n",
       "      Author                                         Flickr URL  \n",
       "0      A. A.  http://www.flickr.com/photos/britishlibrary/ta...  \n",
       "1  A., A. A.  http://www.flickr.com/photos/britishlibrary/ta...  \n",
       "2  A., A. A.  http://www.flickr.com/photos/britishlibrary/ta...  "
      ]
     },
     "execution_count": 216,
     "metadata": {},
     "output_type": "execute_result"
    }
   ],
   "source": [
    "print('BEFORE setting index')\n",
    "df.head(3)"
   ]
  },
  {
   "cell_type": "code",
   "execution_count": 217,
   "id": "abab311a-1904-4515-a980-7372339ed67c",
   "metadata": {},
   "outputs": [
    {
     "name": "stdout",
     "output_type": "stream",
     "text": [
      "AFTER setting index\n"
     ]
    },
    {
     "data": {
      "text/html": [
       "<div>\n",
       "<style scoped>\n",
       "    .dataframe tbody tr th:only-of-type {\n",
       "        vertical-align: middle;\n",
       "    }\n",
       "\n",
       "    .dataframe tbody tr th {\n",
       "        vertical-align: top;\n",
       "    }\n",
       "\n",
       "    .dataframe thead th {\n",
       "        text-align: right;\n",
       "    }\n",
       "</style>\n",
       "<table border=\"1\" class=\"dataframe\">\n",
       "  <thead>\n",
       "    <tr style=\"text-align: right;\">\n",
       "      <th></th>\n",
       "      <th>Place of Publication</th>\n",
       "      <th>Date of Publication</th>\n",
       "      <th>Publisher</th>\n",
       "      <th>Title</th>\n",
       "      <th>Author</th>\n",
       "      <th>Flickr URL</th>\n",
       "    </tr>\n",
       "    <tr>\n",
       "      <th>Identifier</th>\n",
       "      <th></th>\n",
       "      <th></th>\n",
       "      <th></th>\n",
       "      <th></th>\n",
       "      <th></th>\n",
       "      <th></th>\n",
       "    </tr>\n",
       "  </thead>\n",
       "  <tbody>\n",
       "    <tr>\n",
       "      <th>206</th>\n",
       "      <td>London</td>\n",
       "      <td>1879 [1878]</td>\n",
       "      <td>S. Tinsley &amp; Co.</td>\n",
       "      <td>Walter Forbes. [A novel.] By A. A</td>\n",
       "      <td>A. A.</td>\n",
       "      <td>http://www.flickr.com/photos/britishlibrary/ta...</td>\n",
       "    </tr>\n",
       "    <tr>\n",
       "      <th>216</th>\n",
       "      <td>London; Virtue &amp; Yorston</td>\n",
       "      <td>1868</td>\n",
       "      <td>Virtue &amp; Co.</td>\n",
       "      <td>All for Greed. [A novel. The dedication signed...</td>\n",
       "      <td>A., A. A.</td>\n",
       "      <td>http://www.flickr.com/photos/britishlibrary/ta...</td>\n",
       "    </tr>\n",
       "    <tr>\n",
       "      <th>218</th>\n",
       "      <td>London</td>\n",
       "      <td>1869</td>\n",
       "      <td>Bradbury, Evans &amp; Co.</td>\n",
       "      <td>Love the Avenger. By the author of âAll for ...</td>\n",
       "      <td>A., A. A.</td>\n",
       "      <td>http://www.flickr.com/photos/britishlibrary/ta...</td>\n",
       "    </tr>\n",
       "  </tbody>\n",
       "</table>\n",
       "</div>"
      ],
      "text/plain": [
       "                Place of Publication Date of Publication  \\\n",
       "Identifier                                                 \n",
       "206                           London         1879 [1878]   \n",
       "216         London; Virtue & Yorston                1868   \n",
       "218                           London                1869   \n",
       "\n",
       "                        Publisher  \\\n",
       "Identifier                          \n",
       "206              S. Tinsley & Co.   \n",
       "216                  Virtue & Co.   \n",
       "218         Bradbury, Evans & Co.   \n",
       "\n",
       "                                                        Title     Author  \\\n",
       "Identifier                                                                 \n",
       "206                         Walter Forbes. [A novel.] By A. A      A. A.   \n",
       "216         All for Greed. [A novel. The dedication signed...  A., A. A.   \n",
       "218         Love the Avenger. By the author of âAll for ...  A., A. A.   \n",
       "\n",
       "                                                   Flickr URL  \n",
       "Identifier                                                     \n",
       "206         http://www.flickr.com/photos/britishlibrary/ta...  \n",
       "216         http://www.flickr.com/photos/britishlibrary/ta...  \n",
       "218         http://www.flickr.com/photos/britishlibrary/ta...  "
      ]
     },
     "execution_count": 217,
     "metadata": {},
     "output_type": "execute_result"
    }
   ],
   "source": [
    "\n",
    "\n",
    "#df = df.set_index('Identifier')\n",
    "df.set_index('Identifier', inplace=True)\n",
    "print('AFTER setting index')\n",
    "df.head(3)\n"
   ]
  },
  {
   "cell_type": "markdown",
   "id": "0e783c14-bced-425d-b551-66561455f4b0",
   "metadata": {},
   "source": [
    "We can access each record in a straightforward way with `loc[]`. Although loc[] may not have all that intuitive of a name, it allows us to do label-based indexing, which is the labeling of a row or record without regard to its position:"
   ]
  },
  {
   "cell_type": "code",
   "execution_count": 218,
   "id": "85f3e239-de6c-4dcd-981d-1d8071e692f2",
   "metadata": {},
   "outputs": [
    {
     "data": {
      "text/plain": [
       "Place of Publication                                               London\n",
       "Date of Publication                                           1879 [1878]\n",
       "Publisher                                                S. Tinsley & Co.\n",
       "Title                                   Walter Forbes. [A novel.] By A. A\n",
       "Author                                                              A. A.\n",
       "Flickr URL              http://www.flickr.com/photos/britishlibrary/ta...\n",
       "Name: 206, dtype: object"
      ]
     },
     "execution_count": 218,
     "metadata": {},
     "output_type": "execute_result"
    }
   ],
   "source": [
    "df.loc[206]"
   ]
  },
  {
   "cell_type": "markdown",
   "id": "b64ccdc8-f8ab-43f0-bfc6-11bcde74bbcc",
   "metadata": {},
   "source": [
    "In other words, 206 is the first label of the index. To access it by position, we could use df.iloc[0], which does position-based indexing."
   ]
  },
  {
   "cell_type": "code",
   "execution_count": 219,
   "id": "39236f5a-e3ea-42bd-8668-28ef12039252",
   "metadata": {},
   "outputs": [
    {
     "data": {
      "text/plain": [
       "Place of Publication                                               London\n",
       "Date of Publication                                                  1869\n",
       "Publisher                                           Bradbury, Evans & Co.\n",
       "Title                   Love the Avenger. By the author of âAll for ...\n",
       "Author                                                          A., A. A.\n",
       "Flickr URL              http://www.flickr.com/photos/britishlibrary/ta...\n",
       "Name: 218, dtype: object"
      ]
     },
     "execution_count": 219,
     "metadata": {},
     "output_type": "execute_result"
    }
   ],
   "source": [
    "df.iloc[2]"
   ]
  },
  {
   "cell_type": "markdown",
   "id": "852b32b4-dc30-4b1b-a60f-4b9c66c0bf82",
   "metadata": {},
   "source": [
    "Previously, our index was a RangeIndex: integers starting from 0, analogous to Python’s built-in range. By passing a column name to set_index, we have changed the index to the values in Identifier."
   ]
  },
  {
   "cell_type": "markdown",
   "id": "fdb98138-59d4-4d8a-9f2e-dfb38a1d3c9e",
   "metadata": {},
   "source": [
    "## Tidying up Fields in the Data"
   ]
  },
  {
   "cell_type": "markdown",
   "id": "5a2fa317-1764-4ab3-b43e-142b58cb6954",
   "metadata": {},
   "source": [
    "So far, we have removed unnecessary columns and changed the index of our DataFrame to something more sensible. In this section, we will clean specific columns and get them to a uniform format to get a better understanding of the dataset and enforce consistency. In particular, we will be cleaning Date of Publication and Place of Publication.\n",
    "\n",
    "Upon inspection, all of the data types are currently the object dtype, which is roughly analogous to str in native Python.\n",
    "\n",
    "It encapsulates any field that can’t be neatly fit as numerical or categorical data. This makes sense since we’re working with data that is initially a bunch of messy strings:"
   ]
  },
  {
   "cell_type": "code",
   "execution_count": 220,
   "id": "4dfab0fe-dc9d-4756-beb1-76aaf44ed0af",
   "metadata": {},
   "outputs": [
    {
     "data": {
      "text/plain": [
       "object    6\n",
       "Name: count, dtype: int64"
      ]
     },
     "execution_count": 220,
     "metadata": {},
     "output_type": "execute_result"
    }
   ],
   "source": [
    "df.dtypes.value_counts()"
   ]
  },
  {
   "cell_type": "code",
   "execution_count": 221,
   "id": "50edc3b1-c77c-4031-97c6-bc192ed53211",
   "metadata": {},
   "outputs": [
    {
     "data": {
      "text/plain": [
       "Identifier\n",
       "1905           1888\n",
       "1929    1839, 38-54\n",
       "2836           1897\n",
       "2854           1865\n",
       "2956        1860-63\n",
       "2957           1873\n",
       "3017           1866\n",
       "3131           1899\n",
       "4598           1814\n",
       "4884           1820\n",
       "Name: Date of Publication, dtype: object"
      ]
     },
     "execution_count": 221,
     "metadata": {},
     "output_type": "execute_result"
    }
   ],
   "source": [
    "df.loc[1905:, 'Date of Publication'].head(10)"
   ]
  },
  {
   "cell_type": "markdown",
   "id": "23044c56-f137-476f-b5ac-7185a941f2bc",
   "metadata": {},
   "source": [
    "A particular book can have only one date of publication. Therefore, we need to do the following:\n",
    "\n",
    "- Remove the extra dates in square brackets, wherever present: 1879 [1878]\n",
    "- Convert date ranges to their “start date”, wherever present: 1860-63; 1839, 38-54\n",
    "- Completely remove the dates we are not certain about and replace them with NumPy’s NaN: [1897?]\n",
    "- Convert the string nan to NumPy’s NaN value\n",
    "Synthesizing these patterns, we can actually take advantage of a single regular expression to extract the publication year:\n",
    "\n",
    "regex = r'^(\\d{4})'\n",
    "\n",
    "The regular expression above is meant to find any four digits at the beginning of a string, which suffices for our case. The above is a raw string (meaning that a backslash is no longer an escape character), which is standard practice with regular expressions.\n",
    "\n",
    "The \\d represents any digit, and {4} repeats this rule four times. The ^ character matches the start of a string, and the parentheses denote a capturing group, which signals to pandas that we want to extract that part of the regex. (We want ^ to avoid cases where [ starts off the string.)\n",
    "\n",
    "Let’s see what happens when we run this regex across our dataset:"
   ]
  },
  {
   "cell_type": "code",
   "execution_count": 222,
   "id": "42ff9dcd-e3e5-4de7-b0e4-3585ef4247d4",
   "metadata": {},
   "outputs": [
    {
     "data": {
      "text/plain": [
       "Identifier\n",
       "206    1879\n",
       "216    1868\n",
       "218    1869\n",
       "472    1851\n",
       "480    1857\n",
       "Name: Date of Publication, dtype: object"
      ]
     },
     "execution_count": 222,
     "metadata": {},
     "output_type": "execute_result"
    }
   ],
   "source": [
    "extr = df['Date of Publication'].str.extract(r'^(\\d{4})', expand=False)\n",
    "extr.head()"
   ]
  },
  {
   "cell_type": "markdown",
   "id": "c5b8d96d-b795-4405-96e4-d662ae2939ef",
   "metadata": {},
   "source": [
    "Technically, this column still has object dtype, but we can easily get its numerical version with pd.to_numeric:"
   ]
  },
  {
   "cell_type": "code",
   "execution_count": 223,
   "id": "fbd758be-7e3d-4308-b51d-fa2086bad994",
   "metadata": {},
   "outputs": [
    {
     "data": {
      "text/plain": [
       "dtype('float64')"
      ]
     },
     "execution_count": 223,
     "metadata": {},
     "output_type": "execute_result"
    }
   ],
   "source": [
    "df['Date of Publication'] = pd.to_numeric(extr)\n",
    "df['Date of Publication'].dtype"
   ]
  },
  {
   "cell_type": "code",
   "execution_count": 224,
   "id": "de83570c-cbfc-4139-bc98-94c768816545",
   "metadata": {},
   "outputs": [
    {
     "data": {
      "text/plain": [
       "0.11717147339205986"
      ]
     },
     "execution_count": 224,
     "metadata": {},
     "output_type": "execute_result"
    }
   ],
   "source": [
    "df['Date of Publication'].isnull().sum() / len(df)"
   ]
  },
  {
   "cell_type": "code",
   "execution_count": 225,
   "id": "32c6938f-b5b5-41a0-91b5-0e604c903dab",
   "metadata": {},
   "outputs": [
    {
     "data": {
      "text/plain": [
       "Identifier\n",
       "2836    1897.0\n",
       "2854    1865.0\n",
       "2956    1860.0\n",
       "2957    1873.0\n",
       "3017    1866.0\n",
       "3131    1899.0\n",
       "4598    1814.0\n",
       "4884    1820.0\n",
       "4976    1800.0\n",
       "5382    1847.0\n",
       "Name: Date of Publication, dtype: float64"
      ]
     },
     "execution_count": 225,
     "metadata": {},
     "output_type": "execute_result"
    }
   ],
   "source": [
    "df.loc[2836:, 'Date of Publication'].head(10)"
   ]
  },
  {
   "cell_type": "markdown",
   "id": "572ed8a2-645b-46b9-8115-b0879eea6dcc",
   "metadata": {},
   "source": [
    "## Combining str Methods with NumPy to Clean Columns"
   ]
  },
  {
   "cell_type": "markdown",
   "id": "725d7f98-a616-4b35-8065-2a73bca6df81",
   "metadata": {},
   "source": [
    "Above, you may have noticed the use of df['Date of Publication'].str. This attribute is a way to access speedy string operations in pandas that largely mimic operations on native Python strings or compiled regular expressions, such as .split(), .replace(), and .capitalize().\n",
    "\n",
    "To clean the Place of Publication field, we can combine pandas str methods with NumPy’s np.where function, which is basically a vectorized form of Excel’s IF() macro. It has the following syntax:"
   ]
  },
  {
   "cell_type": "markdown",
   "id": "152aec6b-c562-42c7-8ed7-c29ad9d66474",
   "metadata": {},
   "source": [
    "np.where(condition, then, else)"
   ]
  },
  {
   "cell_type": "markdown",
   "id": "79b7a2ca-807b-4f51-8772-01ea7f7d4cac",
   "metadata": {},
   "source": [
    "Here, condition is either an array-like object or a Boolean mask. then is the value to be used if condition evaluates to True, and else is the value to be used otherwise.\n",
    "\n",
    "Essentially, .where() takes each element in the object used for condition, checks whether that particular element evaluates to True in the context of the condition, and returns an ndarray containing then or else, depending on which applies.\n",
    "\n",
    "It can be nested into a compound if-then statement, allowing us to compute values based on multiple conditions:"
   ]
  },
  {
   "cell_type": "markdown",
   "id": "1e08307a-7b1e-4038-a8bc-37941b259143",
   "metadata": {},
   "source": [
    "We’ll be making use of these two functions to clean Place of Publication since this column has string objects. Here are the contents of the column:"
   ]
  },
  {
   "cell_type": "code",
   "execution_count": 226,
   "id": "7beb8aa1-a787-4776-adb7-292117ce6b2e",
   "metadata": {},
   "outputs": [
    {
     "data": {
      "text/plain": [
       "Identifier\n",
       "206                                  London\n",
       "216                London; Virtue & Yorston\n",
       "218                                  London\n",
       "472                                  London\n",
       "480                                  London\n",
       "481                                  London\n",
       "519                                  London\n",
       "667     pp. 40. G. Bryan & Co: Oxford, 1898\n",
       "874                                 London]\n",
       "1143                                 London\n",
       "Name: Place of Publication, dtype: object"
      ]
     },
     "execution_count": 226,
     "metadata": {},
     "output_type": "execute_result"
    }
   ],
   "source": [
    "df['Place of Publication'].head(10)"
   ]
  },
  {
   "cell_type": "markdown",
   "id": "ccee04a6-d2e9-435e-89f8-c41dd54b3216",
   "metadata": {},
   "source": [
    "We see that for some rows, the place of publication is surrounded by other unnecessary information. If we were to look at more values, we would see that this is the case for only some rows that have their place of publication as ‘London’ or ‘Oxford’.\n",
    "\n",
    "Let’s take a look at two specific entries:"
   ]
  },
  {
   "cell_type": "code",
   "execution_count": 227,
   "id": "490d19b2-4993-4820-9c2e-4bdf92e2260d",
   "metadata": {},
   "outputs": [
    {
     "data": {
      "text/plain": [
       "Place of Publication                                  Newcastle-upon-Tyne\n",
       "Date of Publication                                                1867.0\n",
       "Publisher                                                      T. Fordyce\n",
       "Title                   Local Records; or, Historical Register of rema...\n",
       "Author                      FORDYCE, T. - Printer, of Newcastle-upon-Tyne\n",
       "Flickr URL              http://www.flickr.com/photos/britishlibrary/ta...\n",
       "Name: 4157862, dtype: object"
      ]
     },
     "execution_count": 227,
     "metadata": {},
     "output_type": "execute_result"
    }
   ],
   "source": [
    "df.loc[4157862]\n"
   ]
  },
  {
   "cell_type": "code",
   "execution_count": 228,
   "id": "8ab2da7a-73d9-430f-8dab-b0052abbbbad",
   "metadata": {},
   "outputs": [
    {
     "data": {
      "text/plain": [
       "Place of Publication                                  Newcastle upon Tyne\n",
       "Date of Publication                                                1834.0\n",
       "Publisher                                                Mackenzie & Dent\n",
       "Title                   An historical, topographical and descriptive v...\n",
       "Author                                              Mackenzie, E. (Eneas)\n",
       "Flickr URL              http://www.flickr.com/photos/britishlibrary/ta...\n",
       "Name: 4159587, dtype: object"
      ]
     },
     "execution_count": 228,
     "metadata": {},
     "output_type": "execute_result"
    }
   ],
   "source": [
    "df.loc[4159587]\n"
   ]
  },
  {
   "cell_type": "markdown",
   "id": "8ab77b21-6b51-4409-8ade-3d3c111a5330",
   "metadata": {},
   "source": [
    "These two books were published in the same place, but one has hyphens in the name of the place while the other does not.\n",
    "\n",
    "To clean this column in one sweep, we can use str.contains() to get a Boolean mask.\n",
    "\n",
    "We clean the column as follows:"
   ]
  },
  {
   "cell_type": "code",
   "execution_count": 229,
   "id": "121c2e75-46e5-48dd-b22a-43f4bb7e677c",
   "metadata": {},
   "outputs": [
    {
     "data": {
      "text/plain": [
       "Place of Publication                                            Newcastle\n",
       "Date of Publication                                                1867.0\n",
       "Publisher                                                      T. Fordyce\n",
       "Title                   Local Records; or, Historical Register of rema...\n",
       "Author                      FORDYCE, T. - Printer, of Newcastle-upon-Tyne\n",
       "Flickr URL              http://www.flickr.com/photos/britishlibrary/ta...\n",
       "Name: 4157862, dtype: object"
      ]
     },
     "execution_count": 229,
     "metadata": {},
     "output_type": "execute_result"
    }
   ],
   "source": [
    "df['Place of Publication'] = np.where(london, 'London',\n",
    "                                      np.where(oxford, 'Oxford',\n",
    "                                               pub.str.replace('-', ' ')))\n",
    "\n",
    "pub = df['Place of Publication']\n",
    "london = pub.str.contains('London')\n",
    "london[:5]\n",
    "\n",
    "oxford = pub.str.contains('Oxford')\n",
    "\n",
    "newcastle = pub.str.contains('Newcastle')\n",
    "\n",
    "df['Place of Publication'] = np.where(newcastle, 'Newcastle', pub.str.replace('-', ' '))\n",
    "\n",
    "#df['Place of Publication'] = pub.str.replace('-', ' ')\n",
    "\n",
    "df.loc[4157862]\n",
    "\n",
    "\n",
    "\n",
    "\n",
    "\n",
    "\n"
   ]
  },
  {
   "cell_type": "markdown",
   "id": "44acd940-1850-4d34-9914-4ccec0d7e7b2",
   "metadata": {},
   "source": [
    "Here, the np.where function is called in a nested structure, with condition being a Series of Booleans obtained with str.contains(). The contains() method works similarly to the built-in in keyword used to find the occurrence of an entity in an iterable (or substring in a string).\n",
    "\n",
    "The replacement to be used is a string representing our desired place of publication. We also replace hyphens with a space with str.replace() and reassign to the column in our DataFrame.\n",
    "\n",
    "Although there is more dirty data in this dataset, we will discuss only these two columns for now.\n",
    "\n",
    "Let’s have a look at the first five entries, which look a lot crisper than when we started out:"
   ]
  },
  {
   "cell_type": "code",
   "execution_count": 230,
   "id": "d1d71af2-696d-4361-9a42-9c87662d29e7",
   "metadata": {},
   "outputs": [
    {
     "data": {
      "text/html": [
       "<div>\n",
       "<style scoped>\n",
       "    .dataframe tbody tr th:only-of-type {\n",
       "        vertical-align: middle;\n",
       "    }\n",
       "\n",
       "    .dataframe tbody tr th {\n",
       "        vertical-align: top;\n",
       "    }\n",
       "\n",
       "    .dataframe thead th {\n",
       "        text-align: right;\n",
       "    }\n",
       "</style>\n",
       "<table border=\"1\" class=\"dataframe\">\n",
       "  <thead>\n",
       "    <tr style=\"text-align: right;\">\n",
       "      <th></th>\n",
       "      <th>Place of Publication</th>\n",
       "      <th>Date of Publication</th>\n",
       "      <th>Publisher</th>\n",
       "      <th>Title</th>\n",
       "      <th>Author</th>\n",
       "      <th>Flickr URL</th>\n",
       "    </tr>\n",
       "    <tr>\n",
       "      <th>Identifier</th>\n",
       "      <th></th>\n",
       "      <th></th>\n",
       "      <th></th>\n",
       "      <th></th>\n",
       "      <th></th>\n",
       "      <th></th>\n",
       "    </tr>\n",
       "  </thead>\n",
       "  <tbody>\n",
       "    <tr>\n",
       "      <th>206</th>\n",
       "      <td>London</td>\n",
       "      <td>1879.0</td>\n",
       "      <td>S. Tinsley &amp; Co.</td>\n",
       "      <td>Walter Forbes. [A novel.] By A. A</td>\n",
       "      <td>A. A.</td>\n",
       "      <td>http://www.flickr.com/photos/britishlibrary/ta...</td>\n",
       "    </tr>\n",
       "    <tr>\n",
       "      <th>216</th>\n",
       "      <td>London</td>\n",
       "      <td>1868.0</td>\n",
       "      <td>Virtue &amp; Co.</td>\n",
       "      <td>All for Greed. [A novel. The dedication signed...</td>\n",
       "      <td>A., A. A.</td>\n",
       "      <td>http://www.flickr.com/photos/britishlibrary/ta...</td>\n",
       "    </tr>\n",
       "    <tr>\n",
       "      <th>218</th>\n",
       "      <td>London</td>\n",
       "      <td>1869.0</td>\n",
       "      <td>Bradbury, Evans &amp; Co.</td>\n",
       "      <td>Love the Avenger. By the author of âAll for ...</td>\n",
       "      <td>A., A. A.</td>\n",
       "      <td>http://www.flickr.com/photos/britishlibrary/ta...</td>\n",
       "    </tr>\n",
       "    <tr>\n",
       "      <th>472</th>\n",
       "      <td>London</td>\n",
       "      <td>1851.0</td>\n",
       "      <td>James Darling</td>\n",
       "      <td>Welsh Sketches, chiefly ecclesiastical, to the...</td>\n",
       "      <td>A., E. S.</td>\n",
       "      <td>http://www.flickr.com/photos/britishlibrary/ta...</td>\n",
       "    </tr>\n",
       "    <tr>\n",
       "      <th>480</th>\n",
       "      <td>London</td>\n",
       "      <td>1857.0</td>\n",
       "      <td>Wertheim &amp; Macintosh</td>\n",
       "      <td>[The World in which I live, and my place in it...</td>\n",
       "      <td>A., E. S.</td>\n",
       "      <td>http://www.flickr.com/photos/britishlibrary/ta...</td>\n",
       "    </tr>\n",
       "  </tbody>\n",
       "</table>\n",
       "</div>"
      ],
      "text/plain": [
       "           Place of Publication  Date of Publication              Publisher  \\\n",
       "Identifier                                                                    \n",
       "206                      London               1879.0       S. Tinsley & Co.   \n",
       "216                      London               1868.0           Virtue & Co.   \n",
       "218                      London               1869.0  Bradbury, Evans & Co.   \n",
       "472                      London               1851.0          James Darling   \n",
       "480                      London               1857.0   Wertheim & Macintosh   \n",
       "\n",
       "                                                        Title     Author  \\\n",
       "Identifier                                                                 \n",
       "206                         Walter Forbes. [A novel.] By A. A      A. A.   \n",
       "216         All for Greed. [A novel. The dedication signed...  A., A. A.   \n",
       "218         Love the Avenger. By the author of âAll for ...  A., A. A.   \n",
       "472         Welsh Sketches, chiefly ecclesiastical, to the...  A., E. S.   \n",
       "480         [The World in which I live, and my place in it...  A., E. S.   \n",
       "\n",
       "                                                   Flickr URL  \n",
       "Identifier                                                     \n",
       "206         http://www.flickr.com/photos/britishlibrary/ta...  \n",
       "216         http://www.flickr.com/photos/britishlibrary/ta...  \n",
       "218         http://www.flickr.com/photos/britishlibrary/ta...  \n",
       "472         http://www.flickr.com/photos/britishlibrary/ta...  \n",
       "480         http://www.flickr.com/photos/britishlibrary/ta...  "
      ]
     },
     "execution_count": 230,
     "metadata": {},
     "output_type": "execute_result"
    }
   ],
   "source": [
    "df.head()\n"
   ]
  },
  {
   "cell_type": "markdown",
   "id": "f8cb4cf7-ae66-4016-ac4a-3b5e88c95777",
   "metadata": {},
   "source": [
    "## Cleaning the Entire Dataset Using the applymap Function"
   ]
  },
  {
   "cell_type": "markdown",
   "id": "1ff518da-d4f3-42f1-9778-3cd9929c1ea4",
   "metadata": {},
   "source": [
    "In certain situations, you will see that the “dirt” is not localized to one column but is more spread out.\n",
    "\n",
    "There are some instances where it would be helpful to apply a customized function to each cell or element of a DataFrame. pandas .applymap() method is similar to the in-built map() function and simply applies a function to all the elements in a DataFrame.\n",
    "\n",
    "Let’s look at an example. We will create a DataFrame out of the “university_towns.txt” file:"
   ]
  },
  {
   "cell_type": "code",
   "execution_count": 1,
   "id": "28d35933-dfed-4e8e-94f7-152c9af501b7",
   "metadata": {},
   "outputs": [
    {
     "ename": "NameError",
     "evalue": "name 'bucket' is not defined",
     "output_type": "error",
     "traceback": [
      "\u001b[0;31m---------------------------------------------------------------------------\u001b[0m",
      "\u001b[0;31mNameError\u001b[0m                                 Traceback (most recent call last)",
      "Cell \u001b[0;32mIn[1], line 7\u001b[0m\n\u001b[1;32m      4\u001b[0m my_file \u001b[38;5;241m=\u001b[39m \u001b[38;5;124m'\u001b[39m\u001b[38;5;124muniversity_towns.txt\u001b[39m\u001b[38;5;124m'\u001b[39m\n\u001b[1;32m      5\u001b[0m full_file \u001b[38;5;241m=\u001b[39m my_prefix \u001b[38;5;241m+\u001b[39m my_file\n\u001b[0;32m----> 7\u001b[0m file_names \u001b[38;5;241m=\u001b[39m \u001b[38;5;28mlist\u001b[39m(bucket\u001b[38;5;241m.\u001b[39mlist_blobs(prefix\u001b[38;5;241m=\u001b[39mmy_prefix))\n\u001b[1;32m      8\u001b[0m \u001b[38;5;28;01mfor\u001b[39;00m file \u001b[38;5;129;01min\u001b[39;00m file_names:\n\u001b[1;32m      9\u001b[0m     \u001b[38;5;28;01mif\u001b[39;00m(file\u001b[38;5;241m.\u001b[39mname \u001b[38;5;241m!=\u001b[39m my_prefix):\n",
      "\u001b[0;31mNameError\u001b[0m: name 'bucket' is not defined"
     ]
    }
   ],
   "source": [
    "\n",
    "AllJSON = []\n",
    "\n",
    "my_prefix = 'data-set-0/'\n",
    "my_file = 'university_towns.txt'\n",
    "full_file = my_prefix + my_file\n",
    "\n",
    "file_names = list(bucket.list_blobs(prefix=my_prefix))\n",
    "for file in file_names:\n",
    "    if(file.name != my_prefix):\n",
    "        if file.name == full_file:\n",
    "            AllJSON.append(file.name)\n",
    "            \n",
    "AllJSON\n"
   ]
  },
  {
   "cell_type": "code",
   "execution_count": 2,
   "id": "7ddb9875-e015-43b2-9bf1-9403002e8344",
   "metadata": {},
   "outputs": [
    {
     "ename": "NameError",
     "evalue": "name 'bucket' is not defined",
     "output_type": "error",
     "traceback": [
      "\u001b[0;31m---------------------------------------------------------------------------\u001b[0m",
      "\u001b[0;31mNameError\u001b[0m                                 Traceback (most recent call last)",
      "Cell \u001b[0;32mIn[2], line 4\u001b[0m\n\u001b[1;32m      1\u001b[0m university_towns \u001b[38;5;241m=\u001b[39m []\n\u001b[1;32m      3\u001b[0m file_name \u001b[38;5;241m=\u001b[39m \u001b[38;5;124mf\u001b[39m\u001b[38;5;124m'\u001b[39m\u001b[38;5;124mdata-set-0/university_towns.txt\u001b[39m\u001b[38;5;124m'\u001b[39m\n\u001b[0;32m----> 4\u001b[0m blob \u001b[38;5;241m=\u001b[39m bucket\u001b[38;5;241m.\u001b[39mget_blob(file_name)\n\u001b[1;32m      5\u001b[0m \u001b[38;5;28;01mif\u001b[39;00m blob \u001b[38;5;129;01mis\u001b[39;00m \u001b[38;5;129;01mnot\u001b[39;00m \u001b[38;5;28;01mNone\u001b[39;00m \u001b[38;5;129;01mand\u001b[39;00m blob\u001b[38;5;241m.\u001b[39mexists(storage_client):\n\u001b[1;32m      6\u001b[0m     data \u001b[38;5;241m=\u001b[39m blob\u001b[38;5;241m.\u001b[39mdownload_as_string()\n",
      "\u001b[0;31mNameError\u001b[0m: name 'bucket' is not defined"
     ]
    }
   ],
   "source": [
    "university_towns = []\n",
    "\n",
    "file_name = f'data-set-0/university_towns.txt'\n",
    "blob = bucket.get_blob(file_name)\n",
    "if blob is not None and blob.exists(storage_client):\n",
    "    data = blob.download_as_string()\n",
    "    data1 = data.decode(\"utf-8\")\n",
    "    df_town = pd.read_csv(data1, sep=\"\\s\", engine='python')    \n",
    "    \n",
    "\n",
    "df_town\n",
    "\n",
    "#for line in data1:\n",
    "#    print(line)\n",
    "    \n",
    "#for line in data1:\n",
    " #   print(line)"
   ]
  },
  {
   "cell_type": "code",
   "execution_count": null,
   "id": "21ebc194-9a26-4c9f-b1cb-9c667fd02ac7",
   "metadata": {},
   "outputs": [
    {
     "ename": "FileNotFoundError",
     "evalue": "[Errno 2] No such file or directory: 'Datasets/university_towns.txt'",
     "output_type": "error",
     "traceback": [
      "\u001b[0;31m---------------------------------------------------------------------------\u001b[0m",
      "\u001b[0;31mFileNotFoundError\u001b[0m                         Traceback (most recent call last)",
      "Cell \u001b[0;32mIn[202], line 6\u001b[0m\n\u001b[1;32m      1\u001b[0m university_towns \u001b[38;5;241m=\u001b[39m []\n\u001b[1;32m      3\u001b[0m blob  \u001b[38;5;241m=\u001b[39m bucket\u001b[38;5;241m.\u001b[39mget_blob(\u001b[38;5;124mf\u001b[39m\u001b[38;5;124m'\u001b[39m\u001b[38;5;124mGBvideos.csv\u001b[39m\u001b[38;5;124m'\u001b[39m)\n\u001b[0;32m----> 6\u001b[0m \u001b[38;5;28;01mwith\u001b[39;00m \u001b[38;5;28;43mopen\u001b[39;49m\u001b[43m(\u001b[49m\u001b[38;5;124;43m'\u001b[39;49m\u001b[38;5;124;43mDatasets/university_towns.txt\u001b[39;49m\u001b[38;5;124;43m'\u001b[39;49m\u001b[43m)\u001b[49m \u001b[38;5;28;01mas\u001b[39;00m file:\n\u001b[1;32m      7\u001b[0m     \u001b[38;5;28;01mfor\u001b[39;00m line \u001b[38;5;129;01min\u001b[39;00m file:\n\u001b[1;32m      8\u001b[0m         \u001b[38;5;28;01mif\u001b[39;00m \u001b[38;5;124m'\u001b[39m\u001b[38;5;124m[edit]\u001b[39m\u001b[38;5;124m'\u001b[39m \u001b[38;5;129;01min\u001b[39;00m line:\n\u001b[1;32m      9\u001b[0m             \u001b[38;5;66;03m# Remember this `state` until the next is found\u001b[39;00m\n",
      "File \u001b[0;32m/opt/conda/lib/python3.10/site-packages/IPython/core/interactiveshell.py:284\u001b[0m, in \u001b[0;36m_modified_open\u001b[0;34m(file, *args, **kwargs)\u001b[0m\n\u001b[1;32m    277\u001b[0m \u001b[38;5;28;01mif\u001b[39;00m file \u001b[38;5;129;01min\u001b[39;00m {\u001b[38;5;241m0\u001b[39m, \u001b[38;5;241m1\u001b[39m, \u001b[38;5;241m2\u001b[39m}:\n\u001b[1;32m    278\u001b[0m     \u001b[38;5;28;01mraise\u001b[39;00m \u001b[38;5;167;01mValueError\u001b[39;00m(\n\u001b[1;32m    279\u001b[0m         \u001b[38;5;124mf\u001b[39m\u001b[38;5;124m\"\u001b[39m\u001b[38;5;124mIPython won\u001b[39m\u001b[38;5;124m'\u001b[39m\u001b[38;5;124mt let you open fd=\u001b[39m\u001b[38;5;132;01m{\u001b[39;00mfile\u001b[38;5;132;01m}\u001b[39;00m\u001b[38;5;124m by default \u001b[39m\u001b[38;5;124m\"\u001b[39m\n\u001b[1;32m    280\u001b[0m         \u001b[38;5;124m\"\u001b[39m\u001b[38;5;124mas it is likely to crash IPython. If you know what you are doing, \u001b[39m\u001b[38;5;124m\"\u001b[39m\n\u001b[1;32m    281\u001b[0m         \u001b[38;5;124m\"\u001b[39m\u001b[38;5;124myou can use builtins\u001b[39m\u001b[38;5;124m'\u001b[39m\u001b[38;5;124m open.\u001b[39m\u001b[38;5;124m\"\u001b[39m\n\u001b[1;32m    282\u001b[0m     )\n\u001b[0;32m--> 284\u001b[0m \u001b[38;5;28;01mreturn\u001b[39;00m \u001b[43mio_open\u001b[49m\u001b[43m(\u001b[49m\u001b[43mfile\u001b[49m\u001b[43m,\u001b[49m\u001b[43m \u001b[49m\u001b[38;5;241;43m*\u001b[39;49m\u001b[43margs\u001b[49m\u001b[43m,\u001b[49m\u001b[43m \u001b[49m\u001b[38;5;241;43m*\u001b[39;49m\u001b[38;5;241;43m*\u001b[39;49m\u001b[43mkwargs\u001b[49m\u001b[43m)\u001b[49m\n",
      "\u001b[0;31mFileNotFoundError\u001b[0m: [Errno 2] No such file or directory: 'Datasets/university_towns.txt'"
     ]
    }
   ],
   "source": [
    "university_towns = []\n",
    "\n",
    "blob  = bucket.get_blob(f'GBvideos.csv')\n",
    "\n",
    "\n",
    "with open('Datasets/university_towns.txt') as file:\n",
    "    for line in file:\n",
    "        if '[edit]' in line:\n",
    "            # Remember this `state` until the next is found\n",
    "            state = line\n",
    "        else:\n",
    "            # Otherwise, we have a city; keep `state` as last-seen\n",
    "            university_towns.append((state, line))\n",
    "\n",
    "university_towns[:5]"
   ]
  }
 ],
 "metadata": {
  "kernelspec": {
   "display_name": "Python 3 (ipykernel)",
   "language": "python",
   "name": "python3"
  },
  "language_info": {
   "codemirror_mode": {
    "name": "ipython",
    "version": 3
   },
   "file_extension": ".py",
   "mimetype": "text/x-python",
   "name": "python",
   "nbconvert_exporter": "python",
   "pygments_lexer": "ipython3",
   "version": "3.11.5"
  }
 },
 "nbformat": 4,
 "nbformat_minor": 5
}

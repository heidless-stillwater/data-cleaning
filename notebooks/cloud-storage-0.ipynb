{
 "cells": [
  {
   "cell_type": "markdown",
   "id": "7662cb07-4c5e-4566-a519-0d127c3893ec",
   "metadata": {},
   "source": [
    "# init cloud storage connection"
   ]
  },
  {
   "cell_type": "code",
   "execution_count": 4,
   "id": "b4478b71-2179-43e1-b186-c42c4ff8baa4",
   "metadata": {},
   "outputs": [],
   "source": [
    "from google.cloud import storage\n",
    "\n",
    "storage_client =  storage.Client()\n",
    "\n",
    "bucket = storage_client.get_bucket('heidless-jupyter-bucket-0')"
   ]
  },
  {
   "cell_type": "markdown",
   "id": "3e09fa8a-fe09-4c67-a1c9-f8a844eee7b9",
   "metadata": {},
   "source": [
    "# reading CSV files"
   ]
  },
  {
   "cell_type": "markdown",
   "id": "48822131-285f-446b-9703-d28e37876c64",
   "metadata": {},
   "source": [
    "### download necessary blog from bucket"
   ]
  },
  {
   "cell_type": "code",
   "execution_count": 7,
   "id": "b42600b4-3b36-4d38-8094-efa1affd2475",
   "metadata": {},
   "outputs": [],
   "source": [
    "blob = bucket.get_blob(f'GBvideos.csv')\n",
    "\n",
    "#bt = blob.download_as_string()"
   ]
  },
  {
   "cell_type": "markdown",
   "id": "adb0d9d1-b79e-40af-b4a0-4c91d9851c28",
   "metadata": {},
   "source": [
    "### transform bytes to strings    "
   ]
  },
  {
   "cell_type": "code",
   "execution_count": 1,
   "id": "02276015-82c6-4942-9f7d-07aefcb47482",
   "metadata": {},
   "outputs": [
    {
     "ename": "NameError",
     "evalue": "name 'bt' is not defined",
     "output_type": "error",
     "traceback": [
      "\u001b[0;31m---------------------------------------------------------------------------\u001b[0m",
      "\u001b[0;31mNameError\u001b[0m                                 Traceback (most recent call last)",
      "Cell \u001b[0;32mIn[1], line 1\u001b[0m\n\u001b[0;32m----> 1\u001b[0m s \u001b[38;5;241m=\u001b[39m \u001b[38;5;28mstr\u001b[39m(\u001b[43mbt\u001b[49m, \u001b[38;5;124m'\u001b[39m\u001b[38;5;124mutf-8\u001b[39m\u001b[38;5;124m'\u001b[39m)\n\u001b[1;32m      2\u001b[0m s \u001b[38;5;241m=\u001b[39m StringIO(s)\n",
      "\u001b[0;31mNameError\u001b[0m: name 'bt' is not defined"
     ]
    }
   ],
   "source": [
    "from io import StringIO\n",
    "\n",
    "s = str(bt, 'utf-8')\n",
    "s = StringIO(s)"
   ]
  },
  {
   "cell_type": "markdown",
   "id": "ad59edc0-7522-4ee2-8f04-8818af5bdbc0",
   "metadata": {},
   "source": [
    "transform to Pandas DataFrame"
   ]
  },
  {
   "cell_type": "code",
   "execution_count": 9,
   "id": "35e6a52c-143d-461c-8415-52ee22b39ec4",
   "metadata": {},
   "outputs": [
    {
     "ename": "NameError",
     "evalue": "name 'pd' is not defined",
     "output_type": "error",
     "traceback": [
      "\u001b[0;31m---------------------------------------------------------------------------\u001b[0m",
      "\u001b[0;31mNameError\u001b[0m                                 Traceback (most recent call last)",
      "Cell \u001b[0;32mIn[9], line 1\u001b[0m\n\u001b[0;32m----> 1\u001b[0m df \u001b[38;5;241m=\u001b[39m \u001b[43mpd\u001b[49m\u001b[38;5;241m.\u001b[39mread_csv(s)\n",
      "\u001b[0;31mNameError\u001b[0m: name 'pd' is not defined"
     ]
    }
   ],
   "source": [
    "df = pd.read_csv(s)"
   ]
  },
  {
   "cell_type": "markdown",
   "id": "7b9f1693-c464-4b6e-9602-c433758f5d2a",
   "metadata": {},
   "source": [
    "# reading json files"
   ]
  },
  {
   "cell_type": "code",
   "execution_count": 10,
   "id": "5f9d10b4-0ad1-454a-840b-04da21186f5f",
   "metadata": {},
   "outputs": [
    {
     "ename": "AttributeError",
     "evalue": "'NoneType' object has no attribute 'download_as_string'",
     "output_type": "error",
     "traceback": [
      "\u001b[0;31m---------------------------------------------------------------------------\u001b[0m",
      "\u001b[0;31mAttributeError\u001b[0m                            Traceback (most recent call last)",
      "Cell \u001b[0;32mIn[10], line 3\u001b[0m\n\u001b[1;32m      1\u001b[0m blob  \u001b[38;5;241m=\u001b[39m bucket\u001b[38;5;241m.\u001b[39mget_blob(\u001b[38;5;124mf\u001b[39m\u001b[38;5;124m'\u001b[39m\u001b[38;5;124mGBvideos.csv\u001b[39m\u001b[38;5;124m'\u001b[39m)\n\u001b[0;32m----> 3\u001b[0m bt \u001b[38;5;241m=\u001b[39m \u001b[43mblob\u001b[49m\u001b[38;5;241;43m.\u001b[39;49m\u001b[43mdownload_as_string\u001b[49m()\n",
      "\u001b[0;31mAttributeError\u001b[0m: 'NoneType' object has no attribute 'download_as_string'"
     ]
    }
   ],
   "source": [
    "blob  = bucket.get_blob(f'GBvideos.csv')\n",
    "\n",
    "bt = blob.download_as_string()"
   ]
  },
  {
   "cell_type": "markdown",
   "id": "9391b715-0616-4fc0-b058-ccd7fd418729",
   "metadata": {},
   "source": [
    "read the file as a json object per line"
   ]
  },
  {
   "cell_type": "code",
   "execution_count": 11,
   "id": "2561bdac-2a4c-4ab8-9add-859bfadb1b40",
   "metadata": {},
   "outputs": [
    {
     "ename": "NameError",
     "evalue": "name 'pd' is not defined",
     "output_type": "error",
     "traceback": [
      "\u001b[0;31m---------------------------------------------------------------------------\u001b[0m",
      "\u001b[0;31mNameError\u001b[0m                                 Traceback (most recent call last)",
      "Cell \u001b[0;32mIn[11], line 1\u001b[0m\n\u001b[0;32m----> 1\u001b[0m df \u001b[38;5;241m=\u001b[39m \u001b[43mpd\u001b[49m\u001b[38;5;241m.\u001b[39mread_json(bt, lines\u001b[38;5;241m=\u001b[39m\u001b[38;5;28;01mTrue\u001b[39;00m)\n",
      "\u001b[0;31mNameError\u001b[0m: name 'pd' is not defined"
     ]
    }
   ],
   "source": [
    "df = pd.read_json(bt, lines=True)"
   ]
  },
  {
   "cell_type": "markdown",
   "id": "86ad20c0-47fb-4327-aa00-9aeecffcb9b0",
   "metadata": {},
   "source": [
    "# list files in a certain folder"
   ]
  },
  {
   "cell_type": "code",
   "execution_count": 12,
   "id": "1a530f01-b2d8-49d9-b2a1-7b2f05592765",
   "metadata": {},
   "outputs": [],
   "source": [
    "bucket = storage_client.get_bucket('heidless-jupyter-bucket-0')"
   ]
  },
  {
   "cell_type": "markdown",
   "id": "70c6aeb3-8b42-4026-93a4-70a1179e149d",
   "metadata": {},
   "source": [
    "make sure you specify the arguements bucket_or_name and prefix"
   ]
  },
  {
   "cell_type": "code",
   "execution_count": null,
   "id": "0bf4025d-8f42-4131-84e6-47e8888af795",
   "metadata": {},
   "outputs": [],
   "source": [
    "blobs = storage_client.list_blobs(bucket_or_name=bucket, prefix='path/to/files')\n",
    "\n",
    "for blob in blobs:\n",
    "    print(f'{blob.name} last update {blob.updated})"
   ]
  }
 ],
 "metadata": {
  "kernelspec": {
   "display_name": "Python (Local)",
   "language": "python",
   "name": "local-base"
  },
  "language_info": {
   "codemirror_mode": {
    "name": "ipython",
    "version": 3
   },
   "file_extension": ".py",
   "mimetype": "text/x-python",
   "name": "python",
   "nbconvert_exporter": "python",
   "pygments_lexer": "ipython3",
   "version": "3.10.12"
  }
 },
 "nbformat": 4,
 "nbformat_minor": 5
}
